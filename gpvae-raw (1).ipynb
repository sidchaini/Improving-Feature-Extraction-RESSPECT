{
 "cells": [
  {
   "cell_type": "markdown",
   "id": "authorized-wiring",
   "metadata": {
    "papermill": {
     "duration": 0.029695,
     "end_time": "2021-07-10T19:00:06.983200",
     "exception": false,
     "start_time": "2021-07-10T19:00:06.953505",
     "status": "completed"
    },
    "tags": []
   },
   "source": [
    "## Kaggle stuff"
   ]
  },
  {
   "cell_type": "code",
   "execution_count": 1,
   "id": "dominican-construction",
   "metadata": {
    "execution": {
     "iopub.execute_input": "2021-07-10T19:00:07.047076Z",
     "iopub.status.busy": "2021-07-10T19:00:07.045317Z",
     "iopub.status.idle": "2021-07-10T19:00:08.301442Z",
     "shell.execute_reply": "2021-07-10T19:00:08.300487Z",
     "shell.execute_reply.started": "2021-06-28T13:03:07.567022Z"
    },
    "papermill": {
     "duration": 1.288522,
     "end_time": "2021-07-10T19:00:08.301606",
     "exception": false,
     "start_time": "2021-07-10T19:00:07.013084",
     "status": "completed"
    },
    "tags": []
   },
   "outputs": [
    {
     "name": "stdout",
     "output_type": "stream",
     "text": [
      "Cloning into 'gpvae-raw'...\n",
      "remote: Enumerating objects: 32, done.\u001b[K\n",
      "remote: Counting objects: 100% (32/32), done.\u001b[K\n",
      "remote: Compressing objects: 100% (25/25), done.\u001b[K\n",
      "remote: Total 32 (delta 5), reused 27 (delta 3), pack-reused 0\u001b[K\n",
      "Unpacking objects: 100% (32/32), done.\n"
     ]
    }
   ],
   "source": [
    "!git clone https://github.com/siddharthchaini/gpvae-raw.git"
   ]
  },
  {
   "cell_type": "code",
   "execution_count": 2,
   "id": "statistical-radio",
   "metadata": {
    "execution": {
     "iopub.execute_input": "2021-07-10T19:00:08.370004Z",
     "iopub.status.busy": "2021-07-10T19:00:08.369050Z",
     "iopub.status.idle": "2021-07-10T19:00:08.999110Z",
     "shell.execute_reply": "2021-07-10T19:00:08.998158Z",
     "shell.execute_reply.started": "2021-06-28T13:03:21.710304Z"
    },
    "papermill": {
     "duration": 0.66712,
     "end_time": "2021-07-10T19:00:08.999314",
     "exception": false,
     "start_time": "2021-07-10T19:00:08.332194",
     "status": "completed"
    },
    "tags": []
   },
   "outputs": [
    {
     "name": "stdout",
     "output_type": "stream",
     "text": [
      "renamed './gpvae-raw/data exploration.ipynb' -> './data exploration.ipynb'\n",
      "renamed './gpvae-raw/gpvaeraw.ipynb' -> './gpvaeraw.ipynb'\n",
      "renamed './gpvae-raw/lib' -> './lib'\n",
      "renamed './gpvae-raw/models' -> './models'\n"
     ]
    }
   ],
   "source": [
    "!mv -v ./gpvae-raw/* ./"
   ]
  },
  {
   "cell_type": "code",
   "execution_count": 3,
   "id": "aerial-motel",
   "metadata": {
    "execution": {
     "iopub.execute_input": "2021-07-10T19:00:09.065856Z",
     "iopub.status.busy": "2021-07-10T19:00:09.065046Z",
     "iopub.status.idle": "2021-07-10T19:00:10.429922Z",
     "shell.execute_reply": "2021-07-10T19:00:10.429395Z",
     "shell.execute_reply.started": "2021-06-28T13:03:41.387387Z"
    },
    "papermill": {
     "duration": 1.399621,
     "end_time": "2021-07-10T19:00:10.430043",
     "exception": false,
     "start_time": "2021-07-10T19:00:09.030422",
     "status": "completed"
    },
    "tags": []
   },
   "outputs": [],
   "source": [
    "!rm -rf gpvae-raw\n",
    "!rm gpvaeraw.ipynb"
   ]
  },
  {
   "cell_type": "markdown",
   "id": "fatty-angle",
   "metadata": {
    "papermill": {
     "duration": 0.030317,
     "end_time": "2021-07-10T19:00:10.490866",
     "exception": false,
     "start_time": "2021-07-10T19:00:10.460549",
     "status": "completed"
    },
    "tags": []
   },
   "source": [
    "- https://www.kaggle.com/siddharthchaini/gp-vae-intro\n",
    "- https://github.com/siddharthchaini/GP-VAE/blob/master/train.py"
   ]
  },
  {
   "cell_type": "markdown",
   "id": "magnetic-python",
   "metadata": {
    "papermill": {
     "duration": 0.030107,
     "end_time": "2021-07-10T19:00:10.551188",
     "exception": false,
     "start_time": "2021-07-10T19:00:10.521081",
     "status": "completed"
    },
    "tags": []
   },
   "source": [
    "### Download Physionet data"
   ]
  },
  {
   "cell_type": "code",
   "execution_count": 4,
   "id": "arabic-international",
   "metadata": {
    "execution": {
     "iopub.execute_input": "2021-07-10T19:00:10.620717Z",
     "iopub.status.busy": "2021-07-10T19:00:10.619769Z",
     "iopub.status.idle": "2021-07-10T19:00:15.430798Z",
     "shell.execute_reply": "2021-07-10T19:00:15.431257Z",
     "shell.execute_reply.started": "2021-06-28T13:03:44.926021Z"
    },
    "papermill": {
     "duration": 4.850243,
     "end_time": "2021-07-10T19:00:15.431471",
     "exception": false,
     "start_time": "2021-07-10T19:00:10.581228",
     "status": "completed"
    },
    "tags": []
   },
   "outputs": [
    {
     "name": "stdout",
     "output_type": "stream",
     "text": [
      "--2021-07-10 19:00:11--  https://www.dropbox.com/s/651d86winb4cy9n/physionet.npz?dl=1\n",
      "Resolving www.dropbox.com (www.dropbox.com)... 162.125.9.18, 2620:100:601f:18::a27d:912\n",
      "Connecting to www.dropbox.com (www.dropbox.com)|162.125.9.18|:443... connected.\n",
      "HTTP request sent, awaiting response... 301 Moved Permanently\n",
      "Location: /s/dl/651d86winb4cy9n/physionet.npz [following]\n",
      "--2021-07-10 19:00:11--  https://www.dropbox.com/s/dl/651d86winb4cy9n/physionet.npz\n",
      "Reusing existing connection to www.dropbox.com:443.\n",
      "HTTP request sent, awaiting response... 302 Found\n",
      "Location: https://uc78f6487dc6d79fd22707b5b0aa.dl.dropboxusercontent.com/cd/0/get/BSDw9kU4cx16TfWy_cpaaqDjz1nb9uCoEef1APcBVwwDdfCySy5D1hM-AbWXasou0gJPrFIs_8GAFeV_iOkpufGuMKrOcCrmBhjob0ZaZ4eEMNX5Ta-HOXrHcrw-2-DHIaZd2rklmr8LINxLZ67EV-mM/file?dl=1# [following]\n",
      "--2021-07-10 19:00:11--  https://uc78f6487dc6d79fd22707b5b0aa.dl.dropboxusercontent.com/cd/0/get/BSDw9kU4cx16TfWy_cpaaqDjz1nb9uCoEef1APcBVwwDdfCySy5D1hM-AbWXasou0gJPrFIs_8GAFeV_iOkpufGuMKrOcCrmBhjob0ZaZ4eEMNX5Ta-HOXrHcrw-2-DHIaZd2rklmr8LINxLZ67EV-mM/file?dl=1\n",
      "Resolving uc78f6487dc6d79fd22707b5b0aa.dl.dropboxusercontent.com (uc78f6487dc6d79fd22707b5b0aa.dl.dropboxusercontent.com)... 162.125.9.15, 2620:100:601f:15::a27d:90f\n",
      "Connecting to uc78f6487dc6d79fd22707b5b0aa.dl.dropboxusercontent.com (uc78f6487dc6d79fd22707b5b0aa.dl.dropboxusercontent.com)|162.125.9.15|:443... connected.\n",
      "HTTP request sent, awaiting response... 200 OK\n",
      "Length: 322309994 (307M) [application/binary]\n",
      "Saving to: ‘physionet.npz’\n",
      "\n",
      "physionet.npz       100%[===================>] 307.38M   112MB/s    in 2.7s    \n",
      "\n",
      "2021-07-10 19:00:15 (112 MB/s) - ‘physionet.npz’ saved [322309994/322309994]\n",
      "\n"
     ]
    }
   ],
   "source": [
    "!wget https://www.dropbox.com/s/651d86winb4cy9n/physionet.npz?dl=1 -O physionet.npz"
   ]
  },
  {
   "cell_type": "markdown",
   "id": "productive-kennedy",
   "metadata": {
    "papermill": {
     "duration": 0.034606,
     "end_time": "2021-07-10T19:00:15.504120",
     "exception": false,
     "start_time": "2021-07-10T19:00:15.469514",
     "status": "completed"
    },
    "tags": []
   },
   "source": [
    "### Imports"
   ]
  },
  {
   "cell_type": "code",
   "execution_count": 5,
   "id": "cheap-elder",
   "metadata": {
    "execution": {
     "iopub.execute_input": "2021-07-10T19:00:15.581543Z",
     "iopub.status.busy": "2021-07-10T19:00:15.580843Z",
     "iopub.status.idle": "2021-07-10T19:00:21.023272Z",
     "shell.execute_reply": "2021-07-10T19:00:21.022436Z",
     "shell.execute_reply.started": "2021-06-28T13:04:03.018398Z"
    },
    "papermill": {
     "duration": 5.484319,
     "end_time": "2021-07-10T19:00:21.023448",
     "exception": false,
     "start_time": "2021-07-10T19:00:15.539129",
     "status": "completed"
    },
    "tags": []
   },
   "outputs": [],
   "source": [
    "import sys\n",
    "import os\n",
    "import time\n",
    "from datetime import datetime\n",
    "import numpy as np\n",
    "import matplotlib\n",
    "matplotlib.use(\"Agg\")\n",
    "from matplotlib import pyplot as plt\n",
    "import tensorflow as tf\n",
    "\n",
    "tf.compat.v1.enable_eager_execution()\n",
    "\n",
    "from sklearn.metrics import average_precision_score, roc_auc_score\n",
    "from sklearn.linear_model import LogisticRegression\n",
    "\n",
    "import warnings\n",
    "warnings.simplefilter(action='ignore', category=FutureWarning)"
   ]
  },
  {
   "cell_type": "code",
   "execution_count": 6,
   "id": "urban-lending",
   "metadata": {
    "execution": {
     "iopub.execute_input": "2021-07-10T19:00:21.098736Z",
     "iopub.status.busy": "2021-07-10T19:00:21.097912Z",
     "iopub.status.idle": "2021-07-10T19:00:21.812873Z",
     "shell.execute_reply": "2021-07-10T19:00:21.813273Z",
     "shell.execute_reply.started": "2021-06-28T13:04:04.681867Z"
    },
    "papermill": {
     "duration": 0.754087,
     "end_time": "2021-07-10T19:00:21.813470",
     "exception": false,
     "start_time": "2021-07-10T19:00:21.059383",
     "status": "completed"
    },
    "tags": []
   },
   "outputs": [],
   "source": [
    "from lib.models import *"
   ]
  },
  {
   "cell_type": "markdown",
   "id": "manufactured-myrtle",
   "metadata": {
    "papermill": {
     "duration": 0.03395,
     "end_time": "2021-07-10T19:00:21.882305",
     "exception": false,
     "start_time": "2021-07-10T19:00:21.848355",
     "status": "completed"
    },
    "tags": []
   },
   "source": [
    "### Flags"
   ]
  },
  {
   "cell_type": "code",
   "execution_count": 7,
   "id": "swiss-diabetes",
   "metadata": {
    "execution": {
     "iopub.execute_input": "2021-07-10T19:00:21.958355Z",
     "iopub.status.busy": "2021-07-10T19:00:21.957842Z",
     "iopub.status.idle": "2021-07-10T19:00:21.961696Z",
     "shell.execute_reply": "2021-07-10T19:00:21.961263Z",
     "shell.execute_reply.started": "2021-06-28T13:04:06.590177Z"
    },
    "papermill": {
     "duration": 0.044841,
     "end_time": "2021-07-10T19:00:21.961802",
     "exception": false,
     "start_time": "2021-07-10T19:00:21.916961",
     "status": "completed"
    },
    "tags": []
   },
   "outputs": [],
   "source": [
    "latent_dim = 35 # 'Dimensionality of the latent space'\n",
    "encoder_sizes = [128, 128] # 'Layer sizes of the encoder'\n",
    "decoder_sizes = [256, 256] # 'Layer sizes of the decoder'\n",
    "window_size = 24 # 'Window size for the inference CNN: Ignored if model_type is not gp-vae'\n",
    "sigma = 1.005 # 'Sigma value for the GP prior: Ignored if model_type is not gp-vae'\n",
    "length_scale = 7.0 # 'Length scale value for the GP prior: Ignored if model_type is not gp-vae'\n",
    "beta = 0.2 # 'Factor to weigh the KL term (similar to beta-VAE'\n",
    "num_epochs = 40 # 'Number of training epochs'\n",
    "\n",
    "# Flags with common default values for all three datasets\n",
    "learning_rate = 1e-3 # 'Learning rate for training'\n",
    "gradient_clip = 1e4 # 'Maximum global gradient norm for the gradient clipping during training'\n",
    "num_steps = 0 # 'Number of training steps: If non-zero it overwrites num_epochs'\n",
    "print_interval = 0 # 'Interval for printing the loss and saving the model during training'\n",
    "exp_name = \"reproduce_physionet\" # 'Name of the experiment'\n",
    "basedir = \"models\" # 'Directory where the models should be stored'\n",
    "data_dir = \"\" # 'Directory from where the data should be read in'\n",
    "data_type = 'physionet' # ['hmnist', 'physionet', 'sprites'], 'Type of data to be trained on'\n",
    "seed = 1337 # 'Seed for the random number generator'\n",
    "model_type = 'gp-vae' # ['vae', 'hi-vae', 'gp-vae'], 'Type of model to be trained'\n",
    "cnn_kernel_size = 3 # 'Kernel size for the CNN preprocessor'\n",
    "cnn_sizes = [256] # 'Number of filters for the layers of the CNN preprocessor'\n",
    "testing = True # 'Use the actual test set for testing'\n",
    "banded_covar = True # 'Use a banded covariance matrix instead of a diagonal one for the output of the inference network: Ignored if model_type is not gp-vae'\n",
    "batch_size = 64 # 'Batch size for training'\n",
    "\n",
    "M = 1 # 'Number of samples for ELBO estimation'\n",
    "K = 1 # 'Number of importance sampling weights'\n",
    "\n",
    "kernel = 'cauchy' # ['rbf', 'diffusion', 'matern', 'cauchy'], 'Kernel to be used for the GP prior: Ignored if model_type is not (mgp-vae'\n",
    "kernel_scales = 1 # 'Number of different length scales sigma for the GP prior: Ignored if model_type is not gp-vae'"
   ]
  },
  {
   "cell_type": "markdown",
   "id": "united-evening",
   "metadata": {
    "papermill": {
     "duration": 0.035186,
     "end_time": "2021-07-10T19:00:22.031270",
     "exception": false,
     "start_time": "2021-07-10T19:00:21.996084",
     "status": "completed"
    },
    "tags": []
   },
   "source": [
    "### Prep"
   ]
  },
  {
   "cell_type": "code",
   "execution_count": 8,
   "id": "proud-status",
   "metadata": {
    "execution": {
     "iopub.execute_input": "2021-07-10T19:00:22.105773Z",
     "iopub.status.busy": "2021-07-10T19:00:22.105065Z",
     "iopub.status.idle": "2021-07-10T19:00:22.109771Z",
     "shell.execute_reply": "2021-07-10T19:00:22.109155Z",
     "shell.execute_reply.started": "2021-06-28T13:04:07.477721Z"
    },
    "papermill": {
     "duration": 0.044087,
     "end_time": "2021-07-10T19:00:22.109911",
     "exception": false,
     "start_time": "2021-07-10T19:00:22.065824",
     "status": "completed"
    },
    "tags": []
   },
   "outputs": [
    {
     "name": "stdout",
     "output_type": "stream",
     "text": [
      "Testing:  True \t Seed: 1337\n"
     ]
    }
   ],
   "source": [
    "np.random.seed(seed)\n",
    "tf.compat.v1.set_random_seed(seed)\n",
    "print(\"Testing: \", testing, f\"\\t Seed: {seed}\")"
   ]
  },
  {
   "cell_type": "code",
   "execution_count": 9,
   "id": "arctic-annotation",
   "metadata": {
    "execution": {
     "iopub.execute_input": "2021-07-10T19:00:22.184898Z",
     "iopub.status.busy": "2021-07-10T19:00:22.183691Z",
     "iopub.status.idle": "2021-07-10T19:00:22.186023Z",
     "shell.execute_reply": "2021-07-10T19:00:22.186415Z",
     "shell.execute_reply.started": "2021-06-28T13:04:08.609884Z"
    },
    "papermill": {
     "duration": 0.041576,
     "end_time": "2021-07-10T19:00:22.186537",
     "exception": false,
     "start_time": "2021-07-10T19:00:22.144961",
     "status": "completed"
    },
    "tags": []
   },
   "outputs": [],
   "source": [
    "encoder_sizes = [int(size) for size in encoder_sizes]\n",
    "decoder_sizes = [int(size) for size in decoder_sizes]\n",
    "\n",
    "if 0 in encoder_sizes:\n",
    "    encoder_sizes.remove(0)\n",
    "if 0 in decoder_sizes:\n",
    "    decoder_sizes.remove(0)"
   ]
  },
  {
   "cell_type": "code",
   "execution_count": 10,
   "id": "postal-bradley",
   "metadata": {
    "execution": {
     "iopub.execute_input": "2021-07-10T19:00:22.260554Z",
     "iopub.status.busy": "2021-07-10T19:00:22.259995Z",
     "iopub.status.idle": "2021-07-10T19:00:22.264185Z",
     "shell.execute_reply": "2021-07-10T19:00:22.264761Z",
     "shell.execute_reply.started": "2021-06-28T13:04:09.786087Z"
    },
    "papermill": {
     "duration": 0.043822,
     "end_time": "2021-07-10T19:00:22.264885",
     "exception": false,
     "start_time": "2021-07-10T19:00:22.221063",
     "status": "completed"
    },
    "tags": []
   },
   "outputs": [
    {
     "name": "stdout",
     "output_type": "stream",
     "text": [
      "Full exp name:  210710_reproduce_physionet\n"
     ]
    }
   ],
   "source": [
    "# Make up full exp name\n",
    "timestamp = datetime.now().strftime(\"%y%m%d\")\n",
    "full_exp_name = \"{}_{}\".format(timestamp, exp_name)\n",
    "outdir = os.path.join(basedir, full_exp_name)\n",
    "if not os.path.exists(outdir): os.mkdir(outdir)\n",
    "checkpoint_prefix = os.path.join(outdir, \"ckpt\")\n",
    "print(\"Full exp name: \", full_exp_name)"
   ]
  },
  {
   "cell_type": "markdown",
   "id": "small-prevention",
   "metadata": {
    "papermill": {
     "duration": 0.034568,
     "end_time": "2021-07-10T19:00:22.334299",
     "exception": false,
     "start_time": "2021-07-10T19:00:22.299731",
     "status": "completed"
    },
    "tags": []
   },
   "source": [
    "### Define data specific parameters"
   ]
  },
  {
   "cell_type": "code",
   "execution_count": 11,
   "id": "regular-volume",
   "metadata": {
    "execution": {
     "iopub.execute_input": "2021-07-10T19:00:22.408608Z",
     "iopub.status.busy": "2021-07-10T19:00:22.408080Z",
     "iopub.status.idle": "2021-07-10T19:00:22.413608Z",
     "shell.execute_reply": "2021-07-10T19:00:22.413199Z",
     "shell.execute_reply.started": "2021-06-28T13:04:11.614280Z"
    },
    "papermill": {
     "duration": 0.044722,
     "end_time": "2021-07-10T19:00:22.413713",
     "exception": false,
     "start_time": "2021-07-10T19:00:22.368991",
     "status": "completed"
    },
    "tags": []
   },
   "outputs": [
    {
     "data": {
      "text/plain": [
       "'physionet'"
      ]
     },
     "execution_count": 11,
     "metadata": {},
     "output_type": "execute_result"
    }
   ],
   "source": [
    "data_type"
   ]
  },
  {
   "cell_type": "code",
   "execution_count": 12,
   "id": "assumed-harrison",
   "metadata": {
    "execution": {
     "iopub.execute_input": "2021-07-10T19:00:22.489670Z",
     "iopub.status.busy": "2021-07-10T19:00:22.489000Z",
     "iopub.status.idle": "2021-07-10T19:00:22.492162Z",
     "shell.execute_reply": "2021-07-10T19:00:22.492554Z",
     "shell.execute_reply.started": "2021-06-28T13:04:12.374103Z"
    },
    "papermill": {
     "duration": 0.043675,
     "end_time": "2021-07-10T19:00:22.492672",
     "exception": false,
     "start_time": "2021-07-10T19:00:22.448997",
     "status": "completed"
    },
    "tags": []
   },
   "outputs": [],
   "source": [
    "if data_type == \"hmnist\":\n",
    "    data_dir = \"data/hmnist/hmnist_mnar.npz\"\n",
    "    data_dim = 784\n",
    "    time_length = 10\n",
    "    num_classes = 10\n",
    "    decoder = BernoulliDecoder\n",
    "    img_shape = (28, 28, 1)\n",
    "    val_split = 50000\n",
    "elif data_type == \"physionet\":\n",
    "    if data_dir == \"\":\n",
    "        data_dir = \"physionet.npz\"\n",
    "    data_dim = 35\n",
    "    time_length = 48\n",
    "    num_classes = 2\n",
    "    decoder = GaussianDecoder\n",
    "elif data_type == \"sprites\":\n",
    "    if data_dir == \"\":\n",
    "        data_dir = \"data/sprites/sprites.npz\"\n",
    "    data_dim = 12288\n",
    "    time_length = 8\n",
    "    decoder = GaussianDecoder\n",
    "    img_shape = (64, 64, 3)\n",
    "    val_split = 8000\n",
    "else:\n",
    "    raise ValueError(\"Data type must be one of ['hmnist', 'physionet', 'sprites']\")"
   ]
  },
  {
   "cell_type": "markdown",
   "id": "superb-satisfaction",
   "metadata": {
    "papermill": {
     "duration": 0.03487,
     "end_time": "2021-07-10T19:00:22.563187",
     "exception": false,
     "start_time": "2021-07-10T19:00:22.528317",
     "status": "completed"
    },
    "tags": []
   },
   "source": [
    "### Load data"
   ]
  },
  {
   "cell_type": "code",
   "execution_count": 13,
   "id": "material-israeli",
   "metadata": {
    "execution": {
     "iopub.execute_input": "2021-07-10T19:00:22.637597Z",
     "iopub.status.busy": "2021-07-10T19:00:22.636994Z",
     "iopub.status.idle": "2021-07-10T19:00:22.642879Z",
     "shell.execute_reply": "2021-07-10T19:00:22.642409Z",
     "shell.execute_reply.started": "2021-06-28T13:04:13.417709Z"
    },
    "papermill": {
     "duration": 0.044624,
     "end_time": "2021-07-10T19:00:22.642979",
     "exception": false,
     "start_time": "2021-07-10T19:00:22.598355",
     "status": "completed"
    },
    "tags": []
   },
   "outputs": [],
   "source": [
    "data = np.load(data_dir)"
   ]
  },
  {
   "cell_type": "code",
   "execution_count": 14,
   "id": "digital-stadium",
   "metadata": {
    "execution": {
     "iopub.execute_input": "2021-07-10T19:00:22.717911Z",
     "iopub.status.busy": "2021-07-10T19:00:22.717088Z",
     "iopub.status.idle": "2021-07-10T19:00:22.826239Z",
     "shell.execute_reply": "2021-07-10T19:00:22.826682Z",
     "shell.execute_reply.started": "2021-06-28T13:04:13.698056Z"
    },
    "papermill": {
     "duration": 0.148632,
     "end_time": "2021-07-10T19:00:22.826850",
     "exception": false,
     "start_time": "2021-07-10T19:00:22.678218",
     "status": "completed"
    },
    "tags": []
   },
   "outputs": [],
   "source": [
    "x_train_full = data['x_train_full']\n",
    "x_train_miss = data['x_train_miss']\n",
    "m_train_miss = data['m_train_miss']"
   ]
  },
  {
   "cell_type": "code",
   "execution_count": 15,
   "id": "clean-attraction",
   "metadata": {
    "execution": {
     "iopub.execute_input": "2021-07-10T19:00:22.902114Z",
     "iopub.status.busy": "2021-07-10T19:00:22.901422Z",
     "iopub.status.idle": "2021-07-10T19:00:22.904278Z",
     "shell.execute_reply": "2021-07-10T19:00:22.903857Z",
     "shell.execute_reply.started": "2021-06-28T13:04:13.997810Z"
    },
    "papermill": {
     "duration": 0.042257,
     "end_time": "2021-07-10T19:00:22.904393",
     "exception": false,
     "start_time": "2021-07-10T19:00:22.862136",
     "status": "completed"
    },
    "tags": []
   },
   "outputs": [],
   "source": [
    "if data_type in ['hmnist', 'physionet']:\n",
    "    y_train = data['y_train']"
   ]
  },
  {
   "cell_type": "code",
   "execution_count": 16,
   "id": "loose-balance",
   "metadata": {
    "execution": {
     "iopub.execute_input": "2021-07-10T19:00:22.983287Z",
     "iopub.status.busy": "2021-07-10T19:00:22.982479Z",
     "iopub.status.idle": "2021-07-10T19:00:23.128854Z",
     "shell.execute_reply": "2021-07-10T19:00:23.128398Z",
     "shell.execute_reply.started": "2021-06-28T13:04:14.238086Z"
    },
    "papermill": {
     "duration": 0.189586,
     "end_time": "2021-07-10T19:00:23.128979",
     "exception": false,
     "start_time": "2021-07-10T19:00:22.939393",
     "status": "completed"
    },
    "tags": []
   },
   "outputs": [],
   "source": [
    "if testing:\n",
    "    if data_type in ['hmnist', 'sprites']:\n",
    "        x_val_full = data['x_test_full']\n",
    "        x_val_miss = data['x_test_miss']\n",
    "        m_val_miss = data['m_test_miss']\n",
    "    if data_type == 'hmnist':\n",
    "        y_val = data['y_test']\n",
    "    elif data_type == 'physionet':\n",
    "        x_val_full = data['x_train_full']\n",
    "        x_val_miss = data['x_train_miss']\n",
    "        m_val_miss = data['m_train_miss']\n",
    "        y_val = data['y_train']\n",
    "        m_val_artificial = data[\"m_train_artificial\"]\n",
    "elif data_type in ['hmnist', 'sprites']:\n",
    "    x_val_full = x_train_full[val_split:]\n",
    "    x_val_miss = x_train_miss[val_split:]\n",
    "    m_val_miss = m_train_miss[val_split:]\n",
    "    if data_type == 'hmnist':\n",
    "        y_val = y_train[val_split:]\n",
    "    x_train_full = x_train_full[:val_split]\n",
    "    x_train_miss = x_train_miss[:val_split]\n",
    "    m_train_miss = m_train_miss[:val_split]\n",
    "    y_train = y_train[:val_split]\n",
    "elif data_type == 'physionet':\n",
    "    x_val_full = data[\"x_val_full\"]  # full for artificial missings\n",
    "    x_val_miss = data[\"x_val_miss\"]\n",
    "    m_val_miss = data[\"m_val_miss\"]\n",
    "    m_val_artificial = data[\"m_val_artificial\"]\n",
    "    y_val = data[\"y_val\"]\n",
    "else:\n",
    "    raise ValueError(\"Data type must be one of ['hmnist', 'physionet', 'sprites']\")"
   ]
  },
  {
   "cell_type": "code",
   "execution_count": 17,
   "id": "executed-singing",
   "metadata": {
    "execution": {
     "iopub.execute_input": "2021-07-10T19:00:23.370747Z",
     "iopub.status.busy": "2021-07-10T19:00:23.369952Z",
     "iopub.status.idle": "2021-07-10T19:00:25.318026Z",
     "shell.execute_reply": "2021-07-10T19:00:25.318470Z",
     "shell.execute_reply.started": "2021-06-28T13:04:14.449501Z"
    },
    "papermill": {
     "duration": 2.153319,
     "end_time": "2021-07-10T19:00:25.318642",
     "exception": false,
     "start_time": "2021-07-10T19:00:23.165323",
     "status": "completed"
    },
    "tags": []
   },
   "outputs": [],
   "source": [
    "tf_x_train_miss = tf.data.Dataset.from_tensor_slices((x_train_miss, m_train_miss))\\\n",
    "                                 .shuffle(len(x_train_miss)).batch(batch_size).repeat()\n",
    "tf_x_val_miss = tf.data.Dataset.from_tensor_slices((x_val_miss, m_val_miss)).batch(batch_size).repeat()\n",
    "tf_x_val_miss = tf.compat.v1.data.make_one_shot_iterator(tf_x_val_miss)"
   ]
  },
  {
   "cell_type": "code",
   "execution_count": 18,
   "id": "rough-excitement",
   "metadata": {
    "execution": {
     "iopub.execute_input": "2021-07-10T19:00:25.400672Z",
     "iopub.status.busy": "2021-07-10T19:00:25.399422Z",
     "iopub.status.idle": "2021-07-10T19:00:25.401806Z",
     "shell.execute_reply": "2021-07-10T19:00:25.402263Z",
     "shell.execute_reply.started": "2021-06-28T13:04:16.521749Z"
    },
    "papermill": {
     "duration": 0.042695,
     "end_time": "2021-07-10T19:00:25.402421",
     "exception": false,
     "start_time": "2021-07-10T19:00:25.359726",
     "status": "completed"
    },
    "tags": []
   },
   "outputs": [],
   "source": [
    "# Build Conv2D preprocessor for image data\n",
    "if data_type in ['hmnist', 'sprites']:\n",
    "    print(\"Using CNN preprocessor\")\n",
    "    image_preprocessor = ImagePreprocessor(img_shape, cnn_sizes, cnn_kernel_size)\n",
    "elif data_type == 'physionet':\n",
    "    image_preprocessor = None\n",
    "else:\n",
    "    raise ValueError(\"Data type must be one of ['hmnist', 'physionet', 'sprites']\")"
   ]
  },
  {
   "cell_type": "markdown",
   "id": "natural-tooth",
   "metadata": {
    "papermill": {
     "duration": 0.034967,
     "end_time": "2021-07-10T19:00:25.472455",
     "exception": false,
     "start_time": "2021-07-10T19:00:25.437488",
     "status": "completed"
    },
    "tags": []
   },
   "source": [
    "### Build Model"
   ]
  },
  {
   "cell_type": "code",
   "execution_count": 19,
   "id": "identified-disney",
   "metadata": {
    "execution": {
     "iopub.execute_input": "2021-07-10T19:00:25.559917Z",
     "iopub.status.busy": "2021-07-10T19:00:25.559334Z",
     "iopub.status.idle": "2021-07-10T19:00:25.596261Z",
     "shell.execute_reply": "2021-07-10T19:00:25.595643Z",
     "shell.execute_reply.started": "2021-06-28T13:04:16.530730Z"
    },
    "papermill": {
     "duration": 0.081137,
     "end_time": "2021-07-10T19:00:25.596436",
     "exception": false,
     "start_time": "2021-07-10T19:00:25.515299",
     "status": "completed"
    },
    "tags": []
   },
   "outputs": [],
   "source": [
    "if model_type == \"vae\":\n",
    "    model = VAE(latent_dim=latent_dim, data_dim=data_dim, time_length=time_length,\n",
    "                encoder_sizes=encoder_sizes, encoder=DiagonalEncoder,\n",
    "                decoder_sizes=decoder_sizes, decoder=decoder,\n",
    "                image_preprocessor=image_preprocessor, window_size=window_size,\n",
    "                beta=beta, M=M, K=K)\n",
    "elif model_type == \"hi-vae\":\n",
    "    model = HI_VAE(latent_dim=latent_dim, data_dim=data_dim, time_length=time_length,\n",
    "                   encoder_sizes=encoder_sizes, encoder=DiagonalEncoder,\n",
    "                   decoder_sizes=decoder_sizes, decoder=decoder,\n",
    "                   image_preprocessor=image_preprocessor, window_size=window_size,\n",
    "                   beta=beta, M=M, K=K)\n",
    "elif model_type == \"gp-vae\":\n",
    "    encoder = BandedJointEncoder if banded_covar else JointEncoder\n",
    "    model = GP_VAE(latent_dim=latent_dim, data_dim=data_dim, time_length=time_length,\n",
    "                   encoder_sizes=encoder_sizes, encoder=encoder,\n",
    "                   decoder_sizes=decoder_sizes, decoder=decoder,\n",
    "                   kernel=kernel, sigma=sigma,\n",
    "                   length_scale=length_scale, kernel_scales = kernel_scales,\n",
    "                   image_preprocessor=image_preprocessor, window_size=window_size,\n",
    "                   beta=beta, M=M, K=K, data_type=data_type)\n",
    "else:\n",
    "    raise ValueError(\"Model type must be one of ['vae', 'hi-vae', 'gp-vae']\")"
   ]
  },
  {
   "cell_type": "markdown",
   "id": "analyzed-mouth",
   "metadata": {
    "papermill": {
     "duration": 0.035486,
     "end_time": "2021-07-10T19:00:25.668608",
     "exception": false,
     "start_time": "2021-07-10T19:00:25.633122",
     "status": "completed"
    },
    "tags": []
   },
   "source": [
    "### Training preparation"
   ]
  },
  {
   "cell_type": "code",
   "execution_count": 20,
   "id": "silent-definition",
   "metadata": {
    "execution": {
     "iopub.execute_input": "2021-07-10T19:00:25.748415Z",
     "iopub.status.busy": "2021-07-10T19:00:25.747713Z",
     "iopub.status.idle": "2021-07-10T19:00:25.753066Z",
     "shell.execute_reply": "2021-07-10T19:00:25.753483Z",
     "shell.execute_reply.started": "2021-06-28T13:04:16.577538Z"
    },
    "papermill": {
     "duration": 0.049454,
     "end_time": "2021-07-10T19:00:25.753622",
     "exception": false,
     "start_time": "2021-07-10T19:00:25.704168",
     "status": "completed"
    },
    "tags": []
   },
   "outputs": [
    {
     "name": "stdout",
     "output_type": "stream",
     "text": [
      "GPU support:  True\n"
     ]
    }
   ],
   "source": [
    "print(\"GPU support: \", tf.test.is_gpu_available())"
   ]
  },
  {
   "cell_type": "code",
   "execution_count": 21,
   "id": "parliamentary-basis",
   "metadata": {
    "execution": {
     "iopub.execute_input": "2021-07-10T19:00:25.830258Z",
     "iopub.status.busy": "2021-07-10T19:00:25.829682Z",
     "iopub.status.idle": "2021-07-10T19:00:30.824028Z",
     "shell.execute_reply": "2021-07-10T19:00:30.823227Z",
     "shell.execute_reply.started": "2021-06-28T13:04:16.588252Z"
    },
    "papermill": {
     "duration": 5.034784,
     "end_time": "2021-07-10T19:00:30.824166",
     "exception": false,
     "start_time": "2021-07-10T19:00:25.789382",
     "status": "completed"
    },
    "tags": []
   },
   "outputs": [
    {
     "name": "stdout",
     "output_type": "stream",
     "text": [
      "Training...\n",
      "Model: \"sequential\"\n",
      "_________________________________________________________________\n",
      "Layer (type)                 Output Shape              Param #   \n",
      "=================================================================\n",
      "conv1d (Conv1D)              (1, 48, 128)              107648    \n",
      "_________________________________________________________________\n",
      "dense (Dense)                (1, 48, 128)              16512     \n",
      "_________________________________________________________________\n",
      "dense_1 (Dense)              (1, 48, 105)              13545     \n",
      "=================================================================\n",
      "Total params: 137,705\n",
      "Trainable params: 137,705\n",
      "Non-trainable params: 0\n",
      "_________________________________________________________________\n",
      "Encoder:  None\n",
      "Model: \"sequential_1\"\n",
      "_________________________________________________________________\n",
      "Layer (type)                 Output Shape              Param #   \n",
      "=================================================================\n",
      "dense_2 (Dense)              (1, 48, 256)              9216      \n",
      "_________________________________________________________________\n",
      "dense_3 (Dense)              (1, 48, 256)              65792     \n",
      "_________________________________________________________________\n",
      "dense_4 (Dense)              (1, 48, 35)               8995      \n",
      "=================================================================\n",
      "Total params: 84,003\n",
      "Trainable params: 84,003\n",
      "Non-trainable params: 0\n",
      "_________________________________________________________________\n",
      "Decoder:  None\n"
     ]
    }
   ],
   "source": [
    "print(\"Training...\")\n",
    "_ = tf.compat.v1.train.get_or_create_global_step()\n",
    "trainable_vars = model.get_trainable_vars()\n",
    "optimizer = tf.compat.v1.train.AdamOptimizer(learning_rate=learning_rate)\n",
    "\n",
    "print(\"Encoder: \", model.encoder.net.summary())\n",
    "print(\"Decoder: \", model.decoder.net.summary())"
   ]
  },
  {
   "cell_type": "code",
   "execution_count": 22,
   "id": "crucial-genealogy",
   "metadata": {
    "execution": {
     "iopub.execute_input": "2021-07-10T19:00:30.903242Z",
     "iopub.status.busy": "2021-07-10T19:00:30.902717Z",
     "iopub.status.idle": "2021-07-10T19:00:30.906018Z",
     "shell.execute_reply": "2021-07-10T19:00:30.906504Z",
     "shell.execute_reply.started": "2021-06-28T13:04:21.471394Z"
    },
    "papermill": {
     "duration": 0.046132,
     "end_time": "2021-07-10T19:00:30.906639",
     "exception": false,
     "start_time": "2021-07-10T19:00:30.860507",
     "status": "completed"
    },
    "tags": []
   },
   "outputs": [],
   "source": [
    "if model.preprocessor is not None:\n",
    "    print(\"Preprocessor: \", model.preprocessor.net.summary())\n",
    "    saver = tf.compat.v1.train.Checkpoint(optimizer=optimizer, encoder=model.encoder.net,\n",
    "                                          decoder=model.decoder.net, preprocessor=model.preprocessor.net,\n",
    "                                          optimizer_step=tf.compat.v1.train.get_or_create_global_step())\n",
    "else:\n",
    "    saver = tf.compat.v1.train.Checkpoint(optimizer=optimizer, encoder=model.encoder.net, decoder=model.decoder.net,\n",
    "                                          optimizer_step=tf.compat.v1.train.get_or_create_global_step())"
   ]
  },
  {
   "cell_type": "code",
   "execution_count": 23,
   "id": "banner-castle",
   "metadata": {
    "execution": {
     "iopub.execute_input": "2021-07-10T19:00:30.982559Z",
     "iopub.status.busy": "2021-07-10T19:00:30.982068Z",
     "iopub.status.idle": "2021-07-10T19:00:30.991565Z",
     "shell.execute_reply": "2021-07-10T19:00:30.991130Z",
     "shell.execute_reply.started": "2021-06-28T13:04:21.482243Z"
    },
    "papermill": {
     "duration": 0.048945,
     "end_time": "2021-07-10T19:00:30.991674",
     "exception": false,
     "start_time": "2021-07-10T19:00:30.942729",
     "status": "completed"
    },
    "tags": []
   },
   "outputs": [],
   "source": [
    "summary_writer = tf.compat.v2.summary.create_file_writer(logdir=outdir, flush_millis=10000)"
   ]
  },
  {
   "cell_type": "code",
   "execution_count": 24,
   "id": "square-dispatch",
   "metadata": {
    "execution": {
     "iopub.execute_input": "2021-07-10T19:00:31.068605Z",
     "iopub.status.busy": "2021-07-10T19:00:31.068069Z",
     "iopub.status.idle": "2021-07-10T19:00:31.071509Z",
     "shell.execute_reply": "2021-07-10T19:00:31.071895Z",
     "shell.execute_reply.started": "2021-06-28T13:04:21.503080Z"
    },
    "papermill": {
     "duration": 0.043677,
     "end_time": "2021-07-10T19:00:31.072023",
     "exception": false,
     "start_time": "2021-07-10T19:00:31.028346",
     "status": "completed"
    },
    "tags": []
   },
   "outputs": [],
   "source": [
    "if num_steps == 0:\n",
    "    num_steps = num_epochs * len(x_train_miss) // batch_size\n",
    "else:\n",
    "    num_steps = num_steps"
   ]
  },
  {
   "cell_type": "code",
   "execution_count": 25,
   "id": "beneficial-holiday",
   "metadata": {
    "execution": {
     "iopub.execute_input": "2021-07-10T19:00:31.147703Z",
     "iopub.status.busy": "2021-07-10T19:00:31.146485Z",
     "iopub.status.idle": "2021-07-10T19:00:31.148796Z",
     "shell.execute_reply": "2021-07-10T19:00:31.149194Z",
     "shell.execute_reply.started": "2021-06-28T13:04:21.512369Z"
    },
    "papermill": {
     "duration": 0.041529,
     "end_time": "2021-07-10T19:00:31.149320",
     "exception": false,
     "start_time": "2021-07-10T19:00:31.107791",
     "status": "completed"
    },
    "tags": []
   },
   "outputs": [],
   "source": [
    "if print_interval == 0:\n",
    "    print_interval = num_steps // num_epochs"
   ]
  },
  {
   "cell_type": "markdown",
   "id": "acute-homework",
   "metadata": {
    "papermill": {
     "duration": 0.035984,
     "end_time": "2021-07-10T19:00:31.221680",
     "exception": false,
     "start_time": "2021-07-10T19:00:31.185696",
     "status": "completed"
    },
    "tags": []
   },
   "source": [
    "### Training"
   ]
  },
  {
   "cell_type": "code",
   "execution_count": 26,
   "id": "relevant-three",
   "metadata": {
    "execution": {
     "iopub.execute_input": "2021-07-10T19:00:31.297043Z",
     "iopub.status.busy": "2021-07-10T19:00:31.296421Z",
     "iopub.status.idle": "2021-07-10T19:00:31.299181Z",
     "shell.execute_reply": "2021-07-10T19:00:31.298794Z",
     "shell.execute_reply.started": "2021-06-28T13:04:21.518211Z"
    },
    "papermill": {
     "duration": 0.041707,
     "end_time": "2021-07-10T19:00:31.299294",
     "exception": false,
     "start_time": "2021-07-10T19:00:31.257587",
     "status": "completed"
    },
    "tags": []
   },
   "outputs": [],
   "source": [
    "losses_train = []\n",
    "losses_val = []"
   ]
  },
  {
   "cell_type": "code",
   "execution_count": 27,
   "id": "popular-vertex",
   "metadata": {
    "execution": {
     "iopub.execute_input": "2021-07-10T19:00:31.374238Z",
     "iopub.status.busy": "2021-07-10T19:00:31.373566Z",
     "iopub.status.idle": "2021-07-10T19:00:31.375685Z",
     "shell.execute_reply": "2021-07-10T19:00:31.376111Z",
     "shell.execute_reply.started": "2021-06-28T13:04:21.526898Z"
    },
    "papermill": {
     "duration": 0.041207,
     "end_time": "2021-07-10T19:00:31.376224",
     "exception": false,
     "start_time": "2021-07-10T19:00:31.335017",
     "status": "completed"
    },
    "tags": []
   },
   "outputs": [],
   "source": [
    "t0 = time.time()"
   ]
  },
  {
   "cell_type": "code",
   "execution_count": 28,
   "id": "understood-feeding",
   "metadata": {
    "execution": {
     "iopub.execute_input": "2021-07-10T19:00:31.464116Z",
     "iopub.status.busy": "2021-07-10T19:00:31.460497Z",
     "iopub.status.idle": "2021-07-10T19:24:37.697876Z",
     "shell.execute_reply": "2021-07-10T19:24:37.697309Z"
    },
    "papermill": {
     "duration": 1446.285872,
     "end_time": "2021-07-10T19:24:37.698025",
     "exception": false,
     "start_time": "2021-07-10T19:00:31.412153",
     "status": "completed"
    },
    "tags": []
   },
   "outputs": [
    {
     "name": "stdout",
     "output_type": "stream",
     "text": [
      "================================================\n",
      "Learning rate: 0.001 | Global gradient norm: 9908.78\n",
      "Step 0) Time = 1.067125\n",
      "Train loss = 59556.738 | NLL = 433.687 | KL = 295615.250\n",
      "Validation loss = 59752.488 | NLL = 420.138 | KL = 296661.750\n",
      "MSE miss: 1.0416 | AUROC: 0.6671\n",
      "================================================\n",
      "Learning rate: 0.001 | Global gradient norm: 1077.27\n",
      "Step 62) Time = 15.317358\n",
      "Train loss = 22612.756 | NLL = 365.161 | KL = 111237.984\n",
      "Validation loss = 22203.000 | NLL = 357.304 | KL = 109228.469\n",
      "MSE miss: 0.7399 | AUROC: 0.6958\n",
      "================================================\n",
      "Learning rate: 0.001 | Global gradient norm: 1534.75\n",
      "Step 124) Time = 14.760513\n",
      "Train loss = 21929.746 | NLL = 444.877 | KL = 107424.344\n",
      "Validation loss = 21805.504 | NLL = 376.892 | KL = 107143.055\n",
      "MSE miss: 0.7357 | AUROC: 0.6947\n",
      "================================================\n",
      "Learning rate: 0.001 | Global gradient norm: 326.75\n",
      "Step 186) Time = 14.234811\n",
      "Train loss = 21742.395 | NLL = 403.115 | KL = 106696.391\n",
      "Validation loss = 21695.477 | NLL = 341.212 | KL = 106771.328\n",
      "MSE miss: 0.6932 | AUROC: 0.7000\n",
      "================================================\n",
      "Learning rate: 0.001 | Global gradient norm: 200.83\n",
      "Step 248) Time = 14.817866\n",
      "Train loss = 21611.592 | NLL = 352.494 | KL = 106295.492\n",
      "Validation loss = 21593.701 | NLL = 382.133 | KL = 106057.836\n",
      "MSE miss: 0.6809 | AUROC: 0.7067\n",
      "================================================\n",
      "Learning rate: 0.001 | Global gradient norm: 179.64\n",
      "Step 310) Time = 14.242649\n",
      "Train loss = 21600.891 | NLL = 359.603 | KL = 106206.445\n",
      "Validation loss = 21615.424 | NLL = 361.914 | KL = 106267.547\n",
      "MSE miss: 0.6699 | AUROC: 0.7071\n",
      "================================================\n",
      "Learning rate: 0.001 | Global gradient norm: 245.58\n",
      "Step 372) Time = 13.978181\n",
      "Train loss = 21561.254 | NLL = 368.231 | KL = 105965.109\n",
      "Validation loss = 21596.670 | NLL = 395.254 | KL = 106007.078\n",
      "MSE miss: 0.6719 | AUROC: 0.7087\n",
      "================================================\n",
      "Learning rate: 0.001 | Global gradient norm: 301.36\n",
      "Step 434) Time = 14.201883\n",
      "Train loss = 21561.367 | NLL = 347.071 | KL = 106071.477\n",
      "Validation loss = 21550.922 | NLL = 351.988 | KL = 105994.656\n",
      "MSE miss: 0.6611 | AUROC: 0.7102\n",
      "================================================\n",
      "Learning rate: 0.001 | Global gradient norm: 181.57\n",
      "Step 496) Time = 14.091882\n",
      "Train loss = 21544.611 | NLL = 338.139 | KL = 106032.359\n",
      "Validation loss = 21526.488 | NLL = 333.973 | KL = 105962.578\n",
      "MSE miss: 0.6490 | AUROC: 0.7147\n",
      "================================================\n",
      "Learning rate: 0.001 | Global gradient norm: 153.37\n",
      "Step 558) Time = 13.799201\n",
      "Train loss = 21539.354 | NLL = 353.010 | KL = 105931.719\n",
      "Validation loss = 21566.820 | NLL = 372.704 | KL = 105970.578\n",
      "MSE miss: 0.6353 | AUROC: 0.7155\n",
      "================================================\n",
      "Learning rate: 0.001 | Global gradient norm: 209.40\n",
      "Step 620) Time = 13.935709\n",
      "Train loss = 21535.285 | NLL = 346.436 | KL = 105944.242\n",
      "Validation loss = 21607.729 | NLL = 399.739 | KL = 106039.953\n",
      "MSE miss: 0.6231 | AUROC: 0.7200\n",
      "================================================\n",
      "Learning rate: 0.0005 | Global gradient norm: 193.69\n",
      "Step 682) Time = 13.953329\n",
      "Train loss = 21523.266 | NLL = 340.273 | KL = 105914.953\n",
      "Validation loss = 21543.734 | NLL = 360.886 | KL = 105914.250\n",
      "MSE miss: 0.6139 | AUROC: 0.7203\n",
      "================================================\n",
      "Learning rate: 0.0005 | Global gradient norm: 219.39\n",
      "Step 744) Time = 14.810445\n",
      "Train loss = 21521.896 | NLL = 339.817 | KL = 105910.391\n",
      "Validation loss = 21511.289 | NLL = 330.818 | KL = 105902.352\n",
      "MSE miss: 0.6133 | AUROC: 0.7209\n",
      "================================================\n",
      "Learning rate: 0.0005 | Global gradient norm: 163.33\n",
      "Step 806) Time = 14.572141\n",
      "Train loss = 21517.719 | NLL = 337.748 | KL = 105899.859\n",
      "Validation loss = 21542.396 | NLL = 358.376 | KL = 105920.102\n",
      "MSE miss: 0.6050 | AUROC: 0.7246\n",
      "================================================\n",
      "Learning rate: 0.0005 | Global gradient norm: 178.13\n",
      "Step 868) Time = 14.677836\n",
      "Train loss = 21518.311 | NLL = 334.458 | KL = 105919.258\n",
      "Validation loss = 21531.691 | NLL = 347.951 | KL = 105918.711\n",
      "MSE miss: 0.6166 | AUROC: 0.7198\n",
      "================================================\n",
      "Learning rate: 0.0005 | Global gradient norm: 173.31\n",
      "Step 930) Time = 14.221939\n",
      "Train loss = 21511.471 | NLL = 330.095 | KL = 105906.875\n",
      "Validation loss = 21533.176 | NLL = 348.009 | KL = 105925.828\n",
      "MSE miss: 0.6003 | AUROC: 0.7298\n",
      "================================================\n",
      "Learning rate: 0.0005 | Global gradient norm: 119.09\n",
      "Step 992) Time = 13.865875\n",
      "Train loss = 21518.904 | NLL = 336.558 | KL = 105911.734\n",
      "Validation loss = 21525.404 | NLL = 341.717 | KL = 105918.430\n",
      "MSE miss: 0.5985 | AUROC: 0.7296\n",
      "================================================\n",
      "Learning rate: 0.0005 | Global gradient norm: 175.24\n",
      "Step 1054) Time = 13.873162\n",
      "Train loss = 21503.949 | NLL = 321.251 | KL = 105913.484\n",
      "Validation loss = 21529.523 | NLL = 347.935 | KL = 105907.945\n",
      "MSE miss: 0.5970 | AUROC: 0.7303\n",
      "================================================\n",
      "Learning rate: 0.0005 | Global gradient norm: 207.67\n",
      "Step 1116) Time = 13.752577\n",
      "Train loss = 21540.486 | NLL = 359.090 | KL = 105906.969\n",
      "Validation loss = 21528.828 | NLL = 349.166 | KL = 105898.312\n",
      "MSE miss: 0.6043 | AUROC: 0.7238\n",
      "================================================\n",
      "Learning rate: 0.0005 | Global gradient norm: 395.73\n",
      "Step 1178) Time = 13.597574\n",
      "Train loss = 21579.906 | NLL = 393.830 | KL = 105930.375\n",
      "Validation loss = 21528.012 | NLL = 347.617 | KL = 105901.969\n",
      "MSE miss: 0.5897 | AUROC: 0.7367\n",
      "================================================\n",
      "Learning rate: 0.0005 | Global gradient norm: 138.18\n",
      "Step 1240) Time = 13.582683\n",
      "Train loss = 21515.248 | NLL = 335.693 | KL = 105897.781\n",
      "Validation loss = 21518.551 | NLL = 338.559 | KL = 105899.953\n",
      "MSE miss: 0.5941 | AUROC: 0.7312\n",
      "================================================\n",
      "Learning rate: 0.00025 | Global gradient norm: 164.77\n",
      "Step 1302) Time = 14.000550\n",
      "Train loss = 21508.994 | NLL = 327.509 | KL = 105907.430\n",
      "Validation loss = 21516.113 | NLL = 338.750 | KL = 105886.812\n",
      "MSE miss: 0.5857 | AUROC: 0.7340\n",
      "================================================\n",
      "Learning rate: 0.00025 | Global gradient norm: 80.96\n",
      "Step 1364) Time = 14.071234\n",
      "Train loss = 21510.611 | NLL = 332.327 | KL = 105891.422\n",
      "Validation loss = 21553.148 | NLL = 368.996 | KL = 105920.766\n",
      "MSE miss: 0.5836 | AUROC: 0.7317\n",
      "================================================\n",
      "Learning rate: 0.00025 | Global gradient norm: 211.20\n",
      "Step 1426) Time = 14.536267\n",
      "Train loss = 21518.611 | NLL = 338.187 | KL = 105902.117\n",
      "Validation loss = 21514.031 | NLL = 336.940 | KL = 105885.453\n",
      "MSE miss: 0.5858 | AUROC: 0.7379\n",
      "================================================\n",
      "Learning rate: 0.00025 | Global gradient norm: 116.31\n",
      "Step 1488) Time = 14.205123\n",
      "Train loss = 21518.725 | NLL = 339.711 | KL = 105895.062\n",
      "Validation loss = 21541.861 | NLL = 359.604 | KL = 105911.281\n",
      "MSE miss: 0.5844 | AUROC: 0.7311\n",
      "================================================\n",
      "Learning rate: 0.00025 | Global gradient norm: 126.95\n",
      "Step 1550) Time = 14.763297\n",
      "Train loss = 21517.621 | NLL = 338.873 | KL = 105893.734\n",
      "Validation loss = 21542.506 | NLL = 363.971 | KL = 105892.672\n",
      "MSE miss: 0.5809 | AUROC: 0.7364\n",
      "================================================\n",
      "Learning rate: 0.00025 | Global gradient norm: 115.23\n",
      "Step 1612) Time = 14.020620\n",
      "Train loss = 21527.809 | NLL = 348.988 | KL = 105894.109\n",
      "Validation loss = 21532.965 | NLL = 354.022 | KL = 105894.719\n",
      "MSE miss: 0.5806 | AUROC: 0.7360\n",
      "================================================\n",
      "Learning rate: 0.00025 | Global gradient norm: 212.66\n",
      "Step 1674) Time = 13.873818\n",
      "Train loss = 21516.795 | NLL = 337.513 | KL = 105896.406\n",
      "Validation loss = 21523.248 | NLL = 343.689 | KL = 105897.789\n",
      "MSE miss: 0.5794 | AUROC: 0.7412\n",
      "================================================\n",
      "Learning rate: 0.00025 | Global gradient norm: 143.10\n",
      "Step 1736) Time = 14.045883\n",
      "Train loss = 21495.004 | NLL = 318.363 | KL = 105883.195\n",
      "Validation loss = 21520.062 | NLL = 341.661 | KL = 105892.008\n",
      "MSE miss: 0.5776 | AUROC: 0.7380\n",
      "================================================\n",
      "Learning rate: 0.00025 | Global gradient norm: 136.31\n",
      "Step 1798) Time = 14.022536\n",
      "Train loss = 21525.113 | NLL = 347.114 | KL = 105889.984\n",
      "Validation loss = 21509.289 | NLL = 330.166 | KL = 105895.609\n",
      "MSE miss: 0.5803 | AUROC: 0.7369\n",
      "================================================\n",
      "Learning rate: 0.00025 | Global gradient norm: 148.43\n",
      "Step 1860) Time = 14.171203\n",
      "Train loss = 21507.285 | NLL = 328.447 | KL = 105894.188\n",
      "Validation loss = 21576.836 | NLL = 397.755 | KL = 105895.391\n",
      "MSE miss: 0.5817 | AUROC: 0.7382\n",
      "================================================\n",
      "Learning rate: 0.000125 | Global gradient norm: 252.34\n",
      "Step 1922) Time = 14.609870\n",
      "Train loss = 21544.656 | NLL = 363.407 | KL = 105906.250\n",
      "Validation loss = 21507.742 | NLL = 331.914 | KL = 105879.141\n",
      "MSE miss: 0.5762 | AUROC: 0.7380\n",
      "================================================\n",
      "Learning rate: 0.000125 | Global gradient norm: 160.44\n",
      "Step 1984) Time = 14.002039\n",
      "Train loss = 21521.482 | NLL = 343.506 | KL = 105889.875\n",
      "Validation loss = 21514.584 | NLL = 336.097 | KL = 105892.430\n",
      "MSE miss: 0.5764 | AUROC: 0.7387\n",
      "================================================\n",
      "Learning rate: 0.000125 | Global gradient norm: 103.40\n",
      "Step 2046) Time = 14.610659\n",
      "Train loss = 21507.805 | NLL = 331.032 | KL = 105883.859\n",
      "Validation loss = 21494.094 | NLL = 316.191 | KL = 105889.516\n",
      "MSE miss: 0.5771 | AUROC: 0.7378\n",
      "================================================\n",
      "Learning rate: 0.000125 | Global gradient norm: 120.90\n",
      "Step 2108) Time = 13.805177\n",
      "Train loss = 21511.635 | NLL = 333.053 | KL = 105892.898\n",
      "Validation loss = 21505.586 | NLL = 328.256 | KL = 105886.656\n",
      "MSE miss: 0.5763 | AUROC: 0.7399\n",
      "================================================\n",
      "Learning rate: 0.000125 | Global gradient norm: 430.59\n",
      "Step 2170) Time = 14.054384\n",
      "Train loss = 21514.305 | NLL = 336.809 | KL = 105887.484\n",
      "Validation loss = 21520.699 | NLL = 342.852 | KL = 105889.234\n",
      "MSE miss: 0.5743 | AUROC: 0.7404\n",
      "================================================\n",
      "Learning rate: 0.000125 | Global gradient norm: 138.39\n",
      "Step 2232) Time = 14.314467\n",
      "Train loss = 21547.428 | NLL = 369.352 | KL = 105890.375\n",
      "Validation loss = 21517.281 | NLL = 339.001 | KL = 105891.391\n",
      "MSE miss: 0.5742 | AUROC: 0.7378\n",
      "================================================\n",
      "Learning rate: 0.000125 | Global gradient norm: 121.93\n",
      "Step 2294) Time = 14.265030\n",
      "Train loss = 21526.656 | NLL = 348.195 | KL = 105892.305\n",
      "Validation loss = 21524.441 | NLL = 346.332 | KL = 105890.547\n",
      "MSE miss: 0.5750 | AUROC: 0.7388\n",
      "================================================\n",
      "Learning rate: 0.000125 | Global gradient norm: 103.34\n",
      "Step 2356) Time = 14.404418\n",
      "Train loss = 21523.629 | NLL = 346.337 | KL = 105886.453\n",
      "Validation loss = 21516.553 | NLL = 338.984 | KL = 105887.844\n",
      "MSE miss: 0.5737 | AUROC: 0.7411\n",
      "================================================\n",
      "Learning rate: 0.000125 | Global gradient norm: 133.88\n",
      "Step 2418) Time = 14.295514\n",
      "Train loss = 21517.123 | NLL = 338.063 | KL = 105895.297\n",
      "Validation loss = 21502.221 | NLL = 324.429 | KL = 105888.953\n",
      "MSE miss: 0.5741 | AUROC: 0.7397\n",
      "================================================\n",
      "Learning rate: 0.000125 | Global gradient norm: 103.17\n",
      "Step 2480) Time = 14.692725\n",
      "Train loss = 21521.375 | NLL = 342.874 | KL = 105892.508\n",
      "Validation loss = 21509.994 | NLL = 332.793 | KL = 105886.000\n",
      "MSE miss: 0.5741 | AUROC: 0.7389\n"
     ]
    }
   ],
   "source": [
    "with summary_writer.as_default(), tf.compat.v2.summary.record_if(True):\n",
    "    for i, (x_seq, m_seq) in enumerate(tf_x_train_miss.take(num_steps)):\n",
    "        try:\n",
    "            with tf.GradientTape() as tape:\n",
    "                tape.watch(trainable_vars)\n",
    "                loss = model.compute_loss(x_seq, m_mask=m_seq)\n",
    "                losses_train.append(loss.numpy())\n",
    "            grads = tape.gradient(loss, trainable_vars)\n",
    "            grads = [np.nan_to_num(grad) for grad in grads]\n",
    "            grads, global_norm = tf.clip_by_global_norm(grads, gradient_clip)\n",
    "            optimizer.apply_gradients(zip(grads, trainable_vars),\n",
    "                                      global_step=tf.compat.v1.train.get_or_create_global_step())\n",
    "\n",
    "            # Print intermediate results\n",
    "            if i % print_interval == 0:\n",
    "                print(\"================================================\")\n",
    "                print(\"Learning rate: {} | Global gradient norm: {:.2f}\".format(optimizer._lr, global_norm))\n",
    "                print(\"Step {}) Time = {:2f}\".format(i, time.time() - t0))\n",
    "                loss, nll, kl = model.compute_loss(x_seq, m_mask=m_seq, return_parts=True)\n",
    "                print(\"Train loss = {:.3f} | NLL = {:.3f} | KL = {:.3f}\".format(loss, nll, kl))\n",
    "\n",
    "                saver.save(checkpoint_prefix)\n",
    "                tf.compat.v2.summary.scalar(name=\"loss_train\", data=loss, step=tf.compat.v1.train.get_or_create_global_step())\n",
    "                tf.compat.v2.summary.scalar(name=\"kl_train\", data=kl, step=tf.compat.v1.train.get_or_create_global_step())\n",
    "                tf.compat.v2.summary.scalar(name=\"nll_train\", data=nll, step=tf.compat.v1.train.get_or_create_global_step())\n",
    "\n",
    "                # Validation loss\n",
    "                x_val_batch, m_val_batch = tf_x_val_miss.get_next()\n",
    "                val_loss, val_nll, val_kl = model.compute_loss(x_val_batch, m_mask=m_val_batch, return_parts=True)\n",
    "                losses_val.append(val_loss.numpy())\n",
    "                print(\"Validation loss = {:.3f} | NLL = {:.3f} | KL = {:.3f}\".format(val_loss, val_nll, val_kl))\n",
    "\n",
    "                tf.compat.v2.summary.scalar(name=\"loss_val\", data=val_loss, step=tf.compat.v1.train.get_or_create_global_step())\n",
    "                tf.compat.v2.summary.scalar(name=\"kl_val\", data=val_kl, step=tf.compat.v1.train.get_or_create_global_step())\n",
    "                tf.compat.v2.summary.scalar(name=\"nll_val\", data=val_nll, step=tf.compat.v1.train.get_or_create_global_step())\n",
    "\n",
    "                if data_type in [\"hmnist\", \"sprites\"]:\n",
    "                    # Draw reconstructed images\n",
    "                    x_hat = model.decode(model.encode(x_seq).sample()).mean()\n",
    "                    tf.compat.v2.summary.image(name=\"input_train\", data=tf.reshape(x_seq, [-1]+list(img_shape)), step=tf.compat.v1.train.get_or_create_global_step())\n",
    "                    tf.compat.v2.summary.image(name=\"reconstruction_train\", data=tf.reshape(x_hat, [-1]+list(img_shape)), step=tf.compat.v1.train.get_or_create_global_step())\n",
    "                elif data_type == 'physionet':\n",
    "                    # Eval MSE and AUROC on entire val set\n",
    "                    x_val_miss_batches = np.array_split(x_val_miss, batch_size, axis=0)\n",
    "                    x_val_full_batches = np.array_split(x_val_full, batch_size, axis=0)\n",
    "                    m_val_artificial_batches = np.array_split(m_val_artificial, batch_size, axis=0)\n",
    "                    get_val_batches = lambda: zip(x_val_miss_batches, x_val_full_batches, m_val_artificial_batches)\n",
    "\n",
    "                    n_missings = m_val_artificial.sum()\n",
    "                    mse_miss = np.sum([model.compute_mse(x, y=y, m_mask=m).numpy()\n",
    "                                       for x, y, m in get_val_batches()]) / n_missings\n",
    "\n",
    "                    x_val_imputed = np.vstack([model.decode(model.encode(x_batch).mean()).mean().numpy()\n",
    "                                               for x_batch in x_val_miss_batches])\n",
    "                    x_val_imputed[m_val_miss == 0] = x_val_miss[m_val_miss == 0]  # impute gt observed values\n",
    "\n",
    "                    x_val_imputed = x_val_imputed.reshape([-1, time_length * data_dim])\n",
    "                    val_split = len(x_val_imputed) // 2\n",
    "                    cls_model = LogisticRegression(solver='liblinear', tol=1e-10, max_iter=10000)\n",
    "                    cls_model.fit(x_val_imputed[:val_split], y_val[:val_split])\n",
    "                    probs = cls_model.predict_proba(x_val_imputed[val_split:])[:, 1]\n",
    "                    auroc = roc_auc_score(y_val[val_split:], probs)\n",
    "                    print(\"MSE miss: {:.4f} | AUROC: {:.4f}\".format(mse_miss, auroc))\n",
    "\n",
    "                    # Update learning rate (used only for physionet with decay=0.5)\n",
    "                    if i > 0 and i % (10*print_interval) == 0:\n",
    "                        optimizer._lr = max(0.5 * optimizer._lr, 0.1 * learning_rate)\n",
    "                t0 = time.time()\n",
    "        except KeyboardInterrupt as e:\n",
    "            print(\"KeyboardInterrupt\")\n",
    "            saver.save(checkpoint_prefix)\n",
    "#             if debug:\n",
    "#                 import ipdb\n",
    "#                 ipdb.set_trace()\n",
    "            break"
   ]
  },
  {
   "cell_type": "markdown",
   "id": "distinct-delay",
   "metadata": {
    "papermill": {
     "duration": 0.066757,
     "end_time": "2021-07-10T19:24:37.832252",
     "exception": false,
     "start_time": "2021-07-10T19:24:37.765495",
     "status": "completed"
    },
    "tags": []
   },
   "source": [
    "### Evaluation"
   ]
  },
  {
   "cell_type": "code",
   "execution_count": 29,
   "id": "identified-setting",
   "metadata": {
    "execution": {
     "iopub.execute_input": "2021-07-10T19:24:37.970809Z",
     "iopub.status.busy": "2021-07-10T19:24:37.970100Z",
     "iopub.status.idle": "2021-07-10T19:24:37.973819Z",
     "shell.execute_reply": "2021-07-10T19:24:37.973344Z"
    },
    "papermill": {
     "duration": 0.074863,
     "end_time": "2021-07-10T19:24:37.973926",
     "exception": false,
     "start_time": "2021-07-10T19:24:37.899063",
     "status": "completed"
    },
    "tags": []
   },
   "outputs": [],
   "source": [
    "# Split data on batches\n",
    "x_val_miss_batches = np.array_split(x_val_miss, batch_size, axis=0)\n",
    "x_val_full_batches = np.array_split(x_val_full, batch_size, axis=0)"
   ]
  },
  {
   "cell_type": "code",
   "execution_count": 30,
   "id": "qualified-omaha",
   "metadata": {
    "execution": {
     "iopub.execute_input": "2021-07-10T19:24:38.112701Z",
     "iopub.status.busy": "2021-07-10T19:24:38.112183Z",
     "iopub.status.idle": "2021-07-10T19:24:38.116188Z",
     "shell.execute_reply": "2021-07-10T19:24:38.115694Z"
    },
    "papermill": {
     "duration": 0.074825,
     "end_time": "2021-07-10T19:24:38.116290",
     "exception": false,
     "start_time": "2021-07-10T19:24:38.041465",
     "status": "completed"
    },
    "tags": []
   },
   "outputs": [],
   "source": [
    "if data_type == 'physionet':\n",
    "    m_val_batches = np.array_split(m_val_artificial, batch_size, axis=0)\n",
    "else:\n",
    "    m_val_batches = np.array_split(m_val_miss, batch_size, axis=0)"
   ]
  },
  {
   "cell_type": "code",
   "execution_count": 31,
   "id": "spanish-popularity",
   "metadata": {
    "execution": {
     "iopub.execute_input": "2021-07-10T19:24:38.254850Z",
     "iopub.status.busy": "2021-07-10T19:24:38.253639Z",
     "iopub.status.idle": "2021-07-10T19:24:38.255874Z",
     "shell.execute_reply": "2021-07-10T19:24:38.256348Z"
    },
    "papermill": {
     "duration": 0.073223,
     "end_time": "2021-07-10T19:24:38.256479",
     "exception": false,
     "start_time": "2021-07-10T19:24:38.183256",
     "status": "completed"
    },
    "tags": []
   },
   "outputs": [],
   "source": [
    "get_val_batches = lambda: zip(x_val_miss_batches, x_val_full_batches, m_val_batches)"
   ]
  },
  {
   "cell_type": "code",
   "execution_count": 32,
   "id": "sacred-dispute",
   "metadata": {
    "execution": {
     "iopub.execute_input": "2021-07-10T19:24:38.396011Z",
     "iopub.status.busy": "2021-07-10T19:24:38.395213Z",
     "iopub.status.idle": "2021-07-10T19:24:54.347141Z",
     "shell.execute_reply": "2021-07-10T19:24:54.346670Z"
    },
    "papermill": {
     "duration": 16.023699,
     "end_time": "2021-07-10T19:24:54.347273",
     "exception": false,
     "start_time": "2021-07-10T19:24:38.323574",
     "status": "completed"
    },
    "tags": []
   },
   "outputs": [],
   "source": [
    "# Compute NLL and MSE on missing values\n",
    "n_missings = m_val_artificial.sum() if data_type == 'physionet' else m_val_miss.sum()\n",
    "nll_miss = np.sum([model.compute_nll(x, y=y, m_mask=m).numpy()\n",
    "                   for x, y, m in get_val_batches()]) / n_missings\n",
    "mse_miss = np.sum([model.compute_mse(x, y=y, m_mask=m, binary=data_type==\"hmnist\").numpy()\n",
    "                   for x, y, m in get_val_batches()]) / n_missings"
   ]
  },
  {
   "cell_type": "code",
   "execution_count": 33,
   "id": "turkish-nancy",
   "metadata": {
    "execution": {
     "iopub.execute_input": "2021-07-10T19:24:54.494220Z",
     "iopub.status.busy": "2021-07-10T19:24:54.492269Z",
     "iopub.status.idle": "2021-07-10T19:24:54.507845Z",
     "shell.execute_reply": "2021-07-10T19:24:54.507037Z"
    },
    "papermill": {
     "duration": 0.092712,
     "end_time": "2021-07-10T19:24:54.508012",
     "exception": false,
     "start_time": "2021-07-10T19:24:54.415300",
     "status": "completed"
    },
    "tags": []
   },
   "outputs": [
    {
     "name": "stdout",
     "output_type": "stream",
     "text": [
      "NLL miss: 1.2348\n",
      "MSE miss: 0.5735\n"
     ]
    }
   ],
   "source": [
    "print(\"NLL miss: {:.4f}\".format(nll_miss))\n",
    "print(\"MSE miss: {:.4f}\".format(mse_miss))"
   ]
  },
  {
   "cell_type": "code",
   "execution_count": 34,
   "id": "solid-dividend",
   "metadata": {
    "execution": {
     "iopub.execute_input": "2021-07-10T19:24:54.747202Z",
     "iopub.status.busy": "2021-07-10T19:24:54.746452Z",
     "iopub.status.idle": "2021-07-10T19:25:03.163653Z",
     "shell.execute_reply": "2021-07-10T19:25:03.163180Z"
    },
    "papermill": {
     "duration": 8.537638,
     "end_time": "2021-07-10T19:25:03.163786",
     "exception": false,
     "start_time": "2021-07-10T19:24:54.626148",
     "status": "completed"
    },
    "tags": []
   },
   "outputs": [],
   "source": [
    "# Save imputed values\n",
    "z_mean = [model.encode(x_batch).mean().numpy() for x_batch in x_val_miss_batches]\n",
    "np.save(os.path.join(outdir, \"z_mean\"), np.vstack(z_mean))\n",
    "x_val_imputed = np.vstack([model.decode(z_batch).mean().numpy() for z_batch in z_mean])\n",
    "x_val_imputed_std = np.vstack([model.decode(z_batch).stddev().numpy() for z_batch in z_mean])\n",
    "np.save(os.path.join(outdir, \"imputed_no_gt\"), x_val_imputed)\n",
    "np.save(os.path.join(outdir, \"x_val_imputed_std\"), x_val_imputed_std)"
   ]
  },
  {
   "cell_type": "code",
   "execution_count": 35,
   "id": "basic-customer",
   "metadata": {
    "execution": {
     "iopub.execute_input": "2021-07-10T19:25:03.304150Z",
     "iopub.status.busy": "2021-07-10T19:25:03.303312Z",
     "iopub.status.idle": "2021-07-10T19:25:03.365593Z",
     "shell.execute_reply": "2021-07-10T19:25:03.365112Z"
    },
    "papermill": {
     "duration": 0.133635,
     "end_time": "2021-07-10T19:25:03.365727",
     "exception": false,
     "start_time": "2021-07-10T19:25:03.232092",
     "status": "completed"
    },
    "tags": []
   },
   "outputs": [],
   "source": [
    "# impute gt observed values\n",
    "x_val_imputed[m_val_miss == 0] = x_val_miss[m_val_miss == 0]\n",
    "np.save(os.path.join(outdir, \"imputed\"), x_val_imputed)"
   ]
  },
  {
   "cell_type": "code",
   "execution_count": 36,
   "id": "municipal-browse",
   "metadata": {
    "execution": {
     "iopub.execute_input": "2021-07-10T19:25:03.512083Z",
     "iopub.status.busy": "2021-07-10T19:25:03.511252Z",
     "iopub.status.idle": "2021-07-10T19:25:09.439807Z",
     "shell.execute_reply": "2021-07-10T19:25:09.440860Z"
    },
    "papermill": {
     "duration": 6.007191,
     "end_time": "2021-07-10T19:25:09.441094",
     "exception": false,
     "start_time": "2021-07-10T19:25:03.433903",
     "status": "completed"
    },
    "tags": []
   },
   "outputs": [
    {
     "name": "stdout",
     "output_type": "stream",
     "text": [
      "AUROC: 0.7388\n",
      "AUPRC: 0.3402\n"
     ]
    }
   ],
   "source": [
    "if data_type == \"hmnist\":\n",
    "    # AUROC evaluation using Logistic Regression\n",
    "    x_val_imputed = np.round(x_val_imputed)\n",
    "    x_val_imputed = x_val_imputed.reshape([-1, time_length * data_dim])\n",
    "\n",
    "    cls_model = LogisticRegression(solver='lbfgs', multi_class='multinomial', tol=1e-10, max_iter=10000)\n",
    "    val_split = len(x_val_imputed) // 2\n",
    "\n",
    "    cls_model.fit(x_val_imputed[:val_split], y_val[:val_split])\n",
    "    probs = cls_model.predict_proba(x_val_imputed[val_split:])\n",
    "\n",
    "    auprc = average_precision_score(np.eye(num_classes)[y_val[val_split:]], probs)\n",
    "    auroc = roc_auc_score(np.eye(num_classes)[y_val[val_split:]], probs)\n",
    "    print(\"AUROC: {:.4f}\".format(auroc))\n",
    "    print(\"AUPRC: {:.4f}\".format(auprc))\n",
    "\n",
    "elif data_type == \"sprites\":\n",
    "    auroc, auprc = 0, 0\n",
    "\n",
    "elif data_type == \"physionet\":\n",
    "    # Uncomment to preserve some z_samples and their reconstructions\n",
    "    # for i in range(5):\n",
    "    #     z_sample = [model.encode(x_batch).sample().numpy() for x_batch in x_val_miss_batches]\n",
    "    #     np.save(os.path.join(outdir, \"z_sample_{}\".format(i)), np.vstack(z_sample))\n",
    "    #     x_val_imputed_sample = np.vstack([model.decode(z_batch).mean().numpy() for z_batch in z_sample])\n",
    "    #     np.save(os.path.join(outdir, \"imputed_sample_{}_no_gt\".format(i)), x_val_imputed_sample)\n",
    "    #     x_val_imputed_sample[m_val_miss == 0] = x_val_miss[m_val_miss == 0]\n",
    "    #     np.save(os.path.join(outdir, \"imputed_sample_{}\".format(i)), x_val_imputed_sample)\n",
    "\n",
    "    # AUROC evaluation using Logistic Regression\n",
    "    x_val_imputed = x_val_imputed.reshape([-1, time_length * data_dim])\n",
    "    val_split = len(x_val_imputed) // 2\n",
    "    cls_model = LogisticRegression(solver='liblinear', tol=1e-10, max_iter=10000)\n",
    "    cls_model.fit(x_val_imputed[:val_split], y_val[:val_split])\n",
    "    probs = cls_model.predict_proba(x_val_imputed[val_split:])[:, 1]\n",
    "    auprc = average_precision_score(y_val[val_split:], probs)\n",
    "    auroc = roc_auc_score(y_val[val_split:], probs)\n",
    "\n",
    "    print(\"AUROC: {:.4f}\".format(auroc))\n",
    "    print(\"AUPRC: {:.4f}\".format(auprc))"
   ]
  },
  {
   "cell_type": "code",
   "execution_count": 37,
   "id": "greenhouse-glory",
   "metadata": {
    "execution": {
     "iopub.execute_input": "2021-07-10T19:25:09.644992Z",
     "iopub.status.busy": "2021-07-10T19:25:09.644222Z",
     "iopub.status.idle": "2021-07-10T19:25:09.650225Z",
     "shell.execute_reply": "2021-07-10T19:25:09.649837Z"
    },
    "papermill": {
     "duration": 0.08602,
     "end_time": "2021-07-10T19:25:09.650342",
     "exception": false,
     "start_time": "2021-07-10T19:25:09.564322",
     "status": "completed"
    },
    "tags": []
   },
   "outputs": [
    {
     "name": "stdout",
     "output_type": "stream",
     "text": [
      "Training finished.\n"
     ]
    }
   ],
   "source": [
    "# Visualize reconstructions\n",
    "if data_type in [\"hmnist\", \"sprites\"]:\n",
    "    img_index = 0\n",
    "    if data_type == \"hmnist\":\n",
    "        img_shape = (28, 28)\n",
    "        cmap = \"gray\"\n",
    "    elif data_type == \"sprites\":\n",
    "        img_shape = (64, 64, 3)\n",
    "        cmap = None\n",
    "\n",
    "    fig, axes = plt.subplots(nrows=3, ncols=x_val_miss.shape[1], figsize=(2*x_val_miss.shape[1], 6))\n",
    "\n",
    "    x_hat = model.decode(model.encode(x_val_miss[img_index: img_index+1]).mean()).mean().numpy()\n",
    "    seqs = [x_val_miss[img_index:img_index+1], x_hat, x_val_full[img_index:img_index+1]]\n",
    "\n",
    "    for axs, seq in zip(axes, seqs):\n",
    "        for ax, img in zip(axs, seq[0]):\n",
    "            ax.imshow(img.reshape(img_shape), cmap=cmap)\n",
    "            ax.axis('off')\n",
    "\n",
    "    suptitle = model_type + f\" reconstruction, NLL missing = {mse_miss}\"\n",
    "    fig.suptitle(suptitle, size=18)\n",
    "    fig.savefig(os.path.join(outdir, data_type + \"_reconstruction.pdf\"))\n",
    "\n",
    "results_all = [seed, model_type, data_type, kernel, beta, latent_dim,\n",
    "               num_epochs, batch_size, learning_rate, window_size,\n",
    "               kernel_scales, sigma, length_scale,\n",
    "               len(encoder_sizes), encoder_sizes[0] if len(encoder_sizes) > 0 else 0,\n",
    "               len(decoder_sizes), decoder_sizes[0] if len(decoder_sizes) > 0 else 0,\n",
    "               cnn_kernel_size, cnn_sizes,\n",
    "               nll_miss, mse_miss, losses_train[-1], losses_val[-1], auprc, auroc, testing, data_dir]\n",
    "\n",
    "with open(os.path.join(outdir, \"results.tsv\"), \"w\") as outfile:\n",
    "    outfile.write(\"seed\\tmodel\\tdata\\tkernel\\tbeta\\tz_size\\tnum_epochs\"\n",
    "                  \"\\tbatch_size\\tlearning_rate\\twindow_size\\tkernel_scales\\t\"\n",
    "                  \"sigma\\tlength_scale\\tencoder_depth\\tencoder_width\\t\"\n",
    "                  \"decoder_depth\\tdecoder_width\\tcnn_kernel_size\\t\"\n",
    "                  \"cnn_sizes\\tNLL\\tMSE\\tlast_train_loss\\tlast_val_loss\\tAUPRC\\tAUROC\\ttesting\\tdata_dir\\n\")\n",
    "    outfile.write(\"\\t\".join(map(str, results_all)))\n",
    "\n",
    "with open(os.path.join(outdir, \"training_curve.tsv\"), \"w\") as outfile:\n",
    "    outfile.write(\"\\t\".join(map(str, losses_train)))\n",
    "    outfile.write(\"\\n\")\n",
    "    outfile.write(\"\\t\".join(map(str, losses_val)))\n",
    "\n",
    "print(\"Training finished.\")"
   ]
  }
 ],
 "metadata": {
  "kernelspec": {
   "display_name": "Python 3",
   "language": "python",
   "name": "python3"
  },
  "language_info": {
   "codemirror_mode": {
    "name": "ipython",
    "version": 3
   },
   "file_extension": ".py",
   "mimetype": "text/x-python",
   "name": "python",
   "nbconvert_exporter": "python",
   "pygments_lexer": "ipython3",
   "version": "3.8.5"
  },
  "papermill": {
   "default_parameters": {},
   "duration": 1512.213285,
   "end_time": "2021-07-10T19:25:12.475618",
   "environment_variables": {},
   "exception": null,
   "input_path": "__notebook__.ipynb",
   "output_path": "__notebook__.ipynb",
   "parameters": {},
   "start_time": "2021-07-10T19:00:00.262333",
   "version": "2.3.3"
  }
 },
 "nbformat": 4,
 "nbformat_minor": 5
}
