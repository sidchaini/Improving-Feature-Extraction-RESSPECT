{
 "cells": [
  {
   "cell_type": "markdown",
   "id": "460bb457-44f4-4eaf-b7a7-62882bb6a266",
   "metadata": {},
   "source": [
    "<div style=\"text-align: right\"> \n",
    "<a href = \"https://nbviewer.jupyter.org/github/siddharthchaini/Improving-Feature-Extraction-RESSPECT/tree/main/\"> \n",
    "    View online on<br>\n",
    "    <img src=\"https://nbviewer.jupyter.org/static/img/nav_logo.svg\"\n",
    "         alt=\"nbviewer link\" style=\"height: 30px;\"/> \n",
    "</a>\n",
    "</div>"
   ]
  },
  {
   "cell_type": "markdown",
   "id": "2d1f3a19-20e0-40a7-97d8-1dbd9b41b45f",
   "metadata": {},
   "source": [
    "# 2. GP-VAE Approach for RESSPECT\n",
    "<a href = http://cosmostatistics-initiative.org/resspect/>\n",
    "<img src=\"https://cosmostatistics-initiative.org/wp-content/uploads/2019/04/coin_desc_3.png\" alt=\"Logo\" style=\"width: 250px;\"/>\n",
    "</a>\n",
    "\n",
    "**Authors**: Siddharth Chaini, Johann Cohen-Tanugi"
   ]
  },
  {
   "cell_type": "markdown",
   "id": "a87cbb6a-2314-4fe2-977c-17c7c7289b2d",
   "metadata": {},
   "source": [
    "This is the second Jupyter notebook (of a total of 2) describing the different feature extraction methods explored by Siddharth and Johann in June & July, 2021.\n",
    "\n",
    "For RESSPECT, a light curve is fit to a function and then the fit parameters are then used in the RESSPECT pipeline as features for training. You can read more about this here: https://arxiv.org/pdf/2010.05941.pdf\n",
    "\n",
    "In this notebook, we will look at a deep learning based approach for feature extraction, GP-VAE."
   ]
  },
  {
   "cell_type": "code",
   "execution_count": 1,
   "id": "5f5096bc-6b96-4270-9027-e5d5502680e5",
   "metadata": {},
   "outputs": [
    {
     "name": "stdout",
     "output_type": "stream",
     "text": [
      "Last Updated On: 17 July, 2021\n"
     ]
    }
   ],
   "source": [
    "import datetime\n",
    "print('Last Updated On:', datetime.datetime.now().strftime(\"%d %B, %Y\"))"
   ]
  },
  {
   "cell_type": "code",
   "execution_count": 2,
   "id": "50095328-75ba-4d6c-ada2-05d64f1c838b",
   "metadata": {},
   "outputs": [],
   "source": [
    "# Some prerequisites\n",
    "\n",
    "import numpy as np\n",
    "np.random.seed(42)\n",
    "np.set_printoptions(suppress=True)\n",
    "from scipy.optimize import least_squares, curve_fit\n",
    "from matplotlib import pylab as plt\n",
    "import pandas as pd\n",
    "import glob\n",
    "import time\n",
    "from tqdm.notebook import tqdm\n",
    "import os\n",
    "\n",
    "import warnings\n",
    "from scipy.optimize import OptimizeWarning\n",
    "warnings.simplefilter(\"error\", OptimizeWarning)\n",
    "\n",
    "import seaborn as sns\n",
    "sns.set()"
   ]
  },
  {
   "cell_type": "markdown",
   "id": "ed7ed7cd-8392-4f7a-a70e-18c6b7e9fb18",
   "metadata": {},
   "source": [
    "### 1. About GP-VAE\n",
    "\n",
    "Gaussian-Process Variational Autoencoders (GP-VAE ; [Fortuin et. al. 2020](https://arxiv.org/pdf/1907.04155.pdf)) is an approach developed for dimensionality reduction and data imputation. It combines Variational Autoencoders (VAEs) with Gaussian Processes (GPs) in the following way:\n",
    "\n",
    "- Deep VAEs are used to map the original time series data with missing values into a latent space.\n",
    "- A GP then utilizes latent representations to capture the temporal correlations in the time series.\n",
    "\n",
    "A detailed description of this is available in [Fortuin et. al. (2020)](https://arxiv.org/pdf/1907.04155.pdf).\n",
    "\n",
    "For our use case, we wish to use the latent space of the GP-VAE as features for the light curves in 6 passbands. We use code provided by the authors on [GitHub](https://github.com/ratschlab/GP-VAE)<sup>[*](#myfootnote1)</sup>.\n",
    "\n",
    "<a name=\"myfootnote1\">*</a> Note: The original code was based on TensorFlow 1.15 and so we made small modifications on a [fork](https://github.com/siddharthchaini/GP-VAE) using [TensorFlow's Upgrade Script](https://www.tensorflow.org/guide/upgrade) to make it compatible for TensorFlow 2+."
   ]
  },
  {
   "cell_type": "markdown",
   "id": "c48c32b4-4051-4c22-a606-62a899df6727",
   "metadata": {},
   "source": [
    "### 2. Data & Preprocessing\n",
    "\n",
    "PLAsTiCC/RESSPECT data consists of light-curve data in the form of CSVs with readings at a particular timestamp, indicating the mjd of observation, the passband in which it was observed, and the flux values and flux errors.\n",
    "\n",
    "For example:"
   ]
  },
  {
   "cell_type": "code",
   "execution_count": 3,
   "id": "68d2ea2c-cc1a-4ed0-8a26-bd55cd6ac736",
   "metadata": {},
   "outputs": [
    {
     "data": {
      "text/html": [
       "<div>\n",
       "<style scoped>\n",
       "    .dataframe tbody tr th:only-of-type {\n",
       "        vertical-align: middle;\n",
       "    }\n",
       "\n",
       "    .dataframe tbody tr th {\n",
       "        vertical-align: top;\n",
       "    }\n",
       "\n",
       "    .dataframe thead th {\n",
       "        text-align: right;\n",
       "    }\n",
       "</style>\n",
       "<table border=\"1\" class=\"dataframe\">\n",
       "  <thead>\n",
       "    <tr style=\"text-align: right;\">\n",
       "      <th></th>\n",
       "      <th>mjd</th>\n",
       "      <th>band</th>\n",
       "      <th>flux</th>\n",
       "      <th>fluxerr</th>\n",
       "      <th>detected_bool</th>\n",
       "    </tr>\n",
       "  </thead>\n",
       "  <tbody>\n",
       "    <tr>\n",
       "      <th>0</th>\n",
       "      <td>59710.4130</td>\n",
       "      <td>i</td>\n",
       "      <td>571.036438</td>\n",
       "      <td>38.534260</td>\n",
       "      <td>1</td>\n",
       "    </tr>\n",
       "    <tr>\n",
       "      <th>1</th>\n",
       "      <td>59715.3319</td>\n",
       "      <td>Y</td>\n",
       "      <td>749.963562</td>\n",
       "      <td>32.526573</td>\n",
       "      <td>1</td>\n",
       "    </tr>\n",
       "    <tr>\n",
       "      <th>2</th>\n",
       "      <td>59722.3088</td>\n",
       "      <td>z</td>\n",
       "      <td>811.698425</td>\n",
       "      <td>33.418995</td>\n",
       "      <td>1</td>\n",
       "    </tr>\n",
       "    <tr>\n",
       "      <th>3</th>\n",
       "      <td>59728.4313</td>\n",
       "      <td>z</td>\n",
       "      <td>791.284973</td>\n",
       "      <td>46.716145</td>\n",
       "      <td>1</td>\n",
       "    </tr>\n",
       "    <tr>\n",
       "      <th>4</th>\n",
       "      <td>59729.2258</td>\n",
       "      <td>i</td>\n",
       "      <td>834.375305</td>\n",
       "      <td>28.976799</td>\n",
       "      <td>1</td>\n",
       "    </tr>\n",
       "    <tr>\n",
       "      <th>...</th>\n",
       "      <td>...</td>\n",
       "      <td>...</td>\n",
       "      <td>...</td>\n",
       "      <td>...</td>\n",
       "      <td>...</td>\n",
       "    </tr>\n",
       "    <tr>\n",
       "      <th>113</th>\n",
       "      <td>60555.9838</td>\n",
       "      <td>z</td>\n",
       "      <td>-39.881969</td>\n",
       "      <td>46.477093</td>\n",
       "      <td>0</td>\n",
       "    </tr>\n",
       "    <tr>\n",
       "      <th>114</th>\n",
       "      <td>60560.0459</td>\n",
       "      <td>g</td>\n",
       "      <td>14.894439</td>\n",
       "      <td>18.947685</td>\n",
       "      <td>0</td>\n",
       "    </tr>\n",
       "    <tr>\n",
       "      <th>115</th>\n",
       "      <td>60571.0225</td>\n",
       "      <td>Y</td>\n",
       "      <td>30.593130</td>\n",
       "      <td>50.695290</td>\n",
       "      <td>0</td>\n",
       "    </tr>\n",
       "    <tr>\n",
       "      <th>116</th>\n",
       "      <td>60585.9974</td>\n",
       "      <td>z</td>\n",
       "      <td>-23.471439</td>\n",
       "      <td>44.819859</td>\n",
       "      <td>0</td>\n",
       "    </tr>\n",
       "    <tr>\n",
       "      <th>117</th>\n",
       "      <td>60588.0372</td>\n",
       "      <td>u</td>\n",
       "      <td>-41.214264</td>\n",
       "      <td>51.665123</td>\n",
       "      <td>0</td>\n",
       "    </tr>\n",
       "  </tbody>\n",
       "</table>\n",
       "<p>118 rows × 5 columns</p>\n",
       "</div>"
      ],
      "text/plain": [
       "            mjd band        flux    fluxerr  detected_bool\n",
       "0    59710.4130    i  571.036438  38.534260              1\n",
       "1    59715.3319    Y  749.963562  32.526573              1\n",
       "2    59722.3088    z  811.698425  33.418995              1\n",
       "3    59728.4313    z  791.284973  46.716145              1\n",
       "4    59729.2258    i  834.375305  28.976799              1\n",
       "..          ...  ...         ...        ...            ...\n",
       "113  60555.9838    z  -39.881969  46.477093              0\n",
       "114  60560.0459    g   14.894439  18.947685              0\n",
       "115  60571.0225    Y   30.593130  50.695290              0\n",
       "116  60585.9974    z  -23.471439  44.819859              0\n",
       "117  60588.0372    u  -41.214264  51.665123              0\n",
       "\n",
       "[118 rows x 5 columns]"
      ]
     },
     "execution_count": 3,
     "metadata": {},
     "output_type": "execute_result"
    }
   ],
   "source": [
    "df = pd.read_csv(\"sample_data/plasticc/130779836_uLens.csv\")\n",
    "df"
   ]
  },
  {
   "cell_type": "markdown",
   "id": "7fbed61f-c6a3-4f57-b7bd-78094a0fbb94",
   "metadata": {},
   "source": [
    "This needs to be modified into a conventional time series before being fed to the GP-VAE as input. #ToDo."
   ]
  },
  {
   "cell_type": "markdown",
   "id": "79601a40-ebc6-401a-9a93-b8e61c10f6a3",
   "metadata": {},
   "source": [
    "\n",
    "---\n",
    "The code for the above preprocessing and centering can be found on these GitHub repositories:\n",
    "- https://github.com/siddharthchaini/centering-perfect-sims-resspect\n",
    "- https://github.com/siddharthchaini/centering-time-series-plasticc\n",
    "\n",
    "**(NOTE: These will be ported over to the current repository soon. ToDo)**"
   ]
  }
 ],
 "metadata": {
  "kernelspec": {
   "display_name": "Python 3",
   "language": "python",
   "name": "python3"
  },
  "language_info": {
   "codemirror_mode": {
    "name": "ipython",
    "version": 3
   },
   "file_extension": ".py",
   "mimetype": "text/x-python",
   "name": "python",
   "nbconvert_exporter": "python",
   "pygments_lexer": "ipython3",
   "version": "3.8.5"
  }
 },
 "nbformat": 4,
 "nbformat_minor": 5
}
