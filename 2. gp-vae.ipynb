{
 "cells": [
  {
   "cell_type": "markdown",
   "id": "460bb457-44f4-4eaf-b7a7-62882bb6a266",
   "metadata": {},
   "source": [
    "<div style=\"text-align: right\"> \n",
    "<a href = \"https://nbviewer.jupyter.org/github/siddharthchaini/Improving-Feature-Extraction-RESSPECT/tree/main/\"> \n",
    "    View online on<br>\n",
    "    <img src=\"https://nbviewer.jupyter.org/static/img/nav_logo.svg\"\n",
    "         alt=\"nbviewer link\" style=\"height: 30px;\"/> \n",
    "</a>\n",
    "</div>"
   ]
  },
  {
   "cell_type": "markdown",
   "id": "2d1f3a19-20e0-40a7-97d8-1dbd9b41b45f",
   "metadata": {},
   "source": [
    "# 2. GP-VAE Approach for RESSPECT\n",
    "<a href = http://cosmostatistics-initiative.org/resspect/>\n",
    "<img src=\"https://cosmostatistics-initiative.org/wp-content/uploads/2019/04/coin_desc_3.png\" alt=\"Logo\" style=\"width: 250px;\"/>\n",
    "</a>\n",
    "\n",
    "**Authors**: Siddharth Chaini, Johann Cohen-Tanugi"
   ]
  },
  {
   "cell_type": "markdown",
   "id": "a87cbb6a-2314-4fe2-977c-17c7c7289b2d",
   "metadata": {},
   "source": [
    "This is the second Jupyter notebook (of a total of 2) describing the different feature extraction methods explored by Siddharth and Johann in June & July, 2021.\n",
    "\n",
    "For RESSPECT, a light curve is fit to a function and then the fit parameters are then used in the RESSPECT pipeline as features for training. You can read more about this here: https://arxiv.org/pdf/2010.05941.pdf\n",
    "\n",
    "In this notebook, we will look at a deep learning based approach for feature extraction, GP-VAE."
   ]
  },
  {
   "cell_type": "code",
   "execution_count": 1,
   "id": "5f5096bc-6b96-4270-9027-e5d5502680e5",
   "metadata": {},
   "outputs": [
    {
     "name": "stdout",
     "output_type": "stream",
     "text": [
      "Last Updated On: 29 July, 2021\n"
     ]
    }
   ],
   "source": [
    "import datetime\n",
    "print('Last Updated On:', datetime.datetime.now().strftime(\"%d %B, %Y\"))"
   ]
  },
  {
   "cell_type": "code",
   "execution_count": 2,
   "id": "50095328-75ba-4d6c-ada2-05d64f1c838b",
   "metadata": {},
   "outputs": [],
   "source": [
    "# Some prerequisites\n",
    "\n",
    "import numpy as np\n",
    "np.random.seed(42)\n",
    "np.set_printoptions(suppress=True)\n",
    "from scipy.optimize import least_squares, curve_fit\n",
    "from matplotlib import pylab as plt\n",
    "import pandas as pd\n",
    "import glob\n",
    "import time\n",
    "from tqdm.notebook import tqdm\n",
    "import os\n",
    "\n",
    "import warnings\n",
    "from scipy.optimize import OptimizeWarning\n",
    "warnings.simplefilter(\"error\", OptimizeWarning)\n",
    "\n",
    "import seaborn as sns\n",
    "sns.set()\n",
    "\n",
    "def plot_allbands_df(df,title=None,ax=plt):\n",
    "    ugrizYcolors = [\"violet\",\"green\",\"red\",\"darkred\",\"grey\",\"black\"]\n",
    "    for i,band in enumerate(\"ugrizY\"):\n",
    "        subdf = df[df[\"band\"]==band].reset_index(drop=True)\n",
    "        x = subdf[\"mjd\"]\n",
    "        y = subdf[\"flux\"]\n",
    "        yerr = subdf[\"fluxerr\"]\n",
    "#         ax.errorbar(x,y,yerr=yerr,ls = \"None\",color=ugrizYcolors[i])\n",
    "        ax.scatter(x,y,s=5,label=band,color=ugrizYcolors[i])\n",
    "        if title is not None:\n",
    "            if ax is not plt:\n",
    "                ax.set_title(title)\n",
    "            else:\n",
    "                ax.title(title)\n",
    "    return ax\n"
   ]
  },
  {
   "cell_type": "markdown",
   "id": "ed7ed7cd-8392-4f7a-a70e-18c6b7e9fb18",
   "metadata": {},
   "source": [
    "### 2.1 About GP-VAE\n",
    "\n",
    "Gaussian-Process Variational Autoencoders (GP-VAE ; [Fortuin et. al. 2020](https://arxiv.org/pdf/1907.04155.pdf)) is an approach developed for dimensionality reduction and data imputation. It combines Variational Autoencoders (VAEs) with Gaussian Processes (GPs) in the following way:\n",
    "\n",
    "- Deep VAEs are used to map the original time series data with missing values into a latent space.\n",
    "- A GP then utilizes latent representations to capture the temporal correlations in the time series.\n",
    "\n",
    "A detailed description of this is available in [Fortuin et. al. (2020)](https://arxiv.org/pdf/1907.04155.pdf).\n",
    "\n",
    "For our use case, we wish to use the latent space of the GP-VAE as features for the light curves in 6 passbands. We use code provided by the authors on [GitHub](https://github.com/ratschlab/GP-VAE)<sup>[*](#myfootnote1)</sup>.\n",
    "\n",
    "<a name=\"myfootnote1\">*</a> Note: The original code was based on TensorFlow 1.15 and so we made small modifications on a [fork](https://github.com/siddharthchaini/GP-VAE) using [TensorFlow's Upgrade Script](https://www.tensorflow.org/guide/upgrade) to make it compatible for TensorFlow 2+."
   ]
  },
  {
   "cell_type": "markdown",
   "id": "c48c32b4-4051-4c22-a606-62a899df6727",
   "metadata": {},
   "source": [
    "### 2.2 Data & Preprocessing\n",
    "\n",
    "PLAsTiCC/RESSPECT data consists of light-curve data in the form of CSVs with readings at a particular timestamp, indicating the mjd of observation, the passband in which it was observed, and the flux values and flux errors.\n",
    "\n",
    "For example:"
   ]
  },
  {
   "cell_type": "code",
   "execution_count": 3,
   "id": "68d2ea2c-cc1a-4ed0-8a26-bd55cd6ac736",
   "metadata": {},
   "outputs": [
    {
     "data": {
      "text/html": [
       "<div>\n",
       "<style scoped>\n",
       "    .dataframe tbody tr th:only-of-type {\n",
       "        vertical-align: middle;\n",
       "    }\n",
       "\n",
       "    .dataframe tbody tr th {\n",
       "        vertical-align: top;\n",
       "    }\n",
       "\n",
       "    .dataframe thead th {\n",
       "        text-align: right;\n",
       "    }\n",
       "</style>\n",
       "<table border=\"1\" class=\"dataframe\">\n",
       "  <thead>\n",
       "    <tr style=\"text-align: right;\">\n",
       "      <th></th>\n",
       "      <th>mjd</th>\n",
       "      <th>band</th>\n",
       "      <th>flux</th>\n",
       "      <th>fluxerr</th>\n",
       "      <th>detected_bool</th>\n",
       "    </tr>\n",
       "  </thead>\n",
       "  <tbody>\n",
       "    <tr>\n",
       "      <th>0</th>\n",
       "      <td>59710.4130</td>\n",
       "      <td>i</td>\n",
       "      <td>571.036438</td>\n",
       "      <td>38.534260</td>\n",
       "      <td>1</td>\n",
       "    </tr>\n",
       "    <tr>\n",
       "      <th>1</th>\n",
       "      <td>59715.3319</td>\n",
       "      <td>Y</td>\n",
       "      <td>749.963562</td>\n",
       "      <td>32.526573</td>\n",
       "      <td>1</td>\n",
       "    </tr>\n",
       "    <tr>\n",
       "      <th>2</th>\n",
       "      <td>59722.3088</td>\n",
       "      <td>z</td>\n",
       "      <td>811.698425</td>\n",
       "      <td>33.418995</td>\n",
       "      <td>1</td>\n",
       "    </tr>\n",
       "    <tr>\n",
       "      <th>3</th>\n",
       "      <td>59728.4313</td>\n",
       "      <td>z</td>\n",
       "      <td>791.284973</td>\n",
       "      <td>46.716145</td>\n",
       "      <td>1</td>\n",
       "    </tr>\n",
       "    <tr>\n",
       "      <th>4</th>\n",
       "      <td>59729.2258</td>\n",
       "      <td>i</td>\n",
       "      <td>834.375305</td>\n",
       "      <td>28.976799</td>\n",
       "      <td>1</td>\n",
       "    </tr>\n",
       "    <tr>\n",
       "      <th>...</th>\n",
       "      <td>...</td>\n",
       "      <td>...</td>\n",
       "      <td>...</td>\n",
       "      <td>...</td>\n",
       "      <td>...</td>\n",
       "    </tr>\n",
       "    <tr>\n",
       "      <th>113</th>\n",
       "      <td>60555.9838</td>\n",
       "      <td>z</td>\n",
       "      <td>-39.881969</td>\n",
       "      <td>46.477093</td>\n",
       "      <td>0</td>\n",
       "    </tr>\n",
       "    <tr>\n",
       "      <th>114</th>\n",
       "      <td>60560.0459</td>\n",
       "      <td>g</td>\n",
       "      <td>14.894439</td>\n",
       "      <td>18.947685</td>\n",
       "      <td>0</td>\n",
       "    </tr>\n",
       "    <tr>\n",
       "      <th>115</th>\n",
       "      <td>60571.0225</td>\n",
       "      <td>Y</td>\n",
       "      <td>30.593130</td>\n",
       "      <td>50.695290</td>\n",
       "      <td>0</td>\n",
       "    </tr>\n",
       "    <tr>\n",
       "      <th>116</th>\n",
       "      <td>60585.9974</td>\n",
       "      <td>z</td>\n",
       "      <td>-23.471439</td>\n",
       "      <td>44.819859</td>\n",
       "      <td>0</td>\n",
       "    </tr>\n",
       "    <tr>\n",
       "      <th>117</th>\n",
       "      <td>60588.0372</td>\n",
       "      <td>u</td>\n",
       "      <td>-41.214264</td>\n",
       "      <td>51.665123</td>\n",
       "      <td>0</td>\n",
       "    </tr>\n",
       "  </tbody>\n",
       "</table>\n",
       "<p>118 rows × 5 columns</p>\n",
       "</div>"
      ],
      "text/plain": [
       "            mjd band        flux    fluxerr  detected_bool\n",
       "0    59710.4130    i  571.036438  38.534260              1\n",
       "1    59715.3319    Y  749.963562  32.526573              1\n",
       "2    59722.3088    z  811.698425  33.418995              1\n",
       "3    59728.4313    z  791.284973  46.716145              1\n",
       "4    59729.2258    i  834.375305  28.976799              1\n",
       "..          ...  ...         ...        ...            ...\n",
       "113  60555.9838    z  -39.881969  46.477093              0\n",
       "114  60560.0459    g   14.894439  18.947685              0\n",
       "115  60571.0225    Y   30.593130  50.695290              0\n",
       "116  60585.9974    z  -23.471439  44.819859              0\n",
       "117  60588.0372    u  -41.214264  51.665123              0\n",
       "\n",
       "[118 rows x 5 columns]"
      ]
     },
     "execution_count": 3,
     "metadata": {},
     "output_type": "execute_result"
    }
   ],
   "source": [
    "df = pd.read_csv(\"sample_data/plasticc/130779836_uLens.csv\")\n",
    "df"
   ]
  },
  {
   "cell_type": "code",
   "execution_count": 4,
   "id": "057374fc-bf20-40d0-9340-5f49fcb759eb",
   "metadata": {},
   "outputs": [
    {
     "data": {
      "image/png": "[encoded data removed]",
      "text/plain": [
       "<Figure size 432x288 with 1 Axes>"
      ]
     },
     "metadata": {},
     "output_type": "display_data"
    }
   ],
   "source": [
    "tempplt = plot_allbands_df(df)\n",
    "tempplt.title(\"Original Light Curve\")\n",
    "tempplt.show()"
   ]
  },
  {
   "cell_type": "markdown",
   "id": "7fbed61f-c6a3-4f57-b7bd-78094a0fbb94",
   "metadata": {},
   "source": [
    "This needs to be modified into a conventional time series having a constant length before being fed to the GP-VAE as input.\n",
    "\n",
    "We choose the constant length to be 200 days as a heuristic, because that covers almost all transient activity based on our testing (using ```detected_bool=1```) (ToDo: EXPLAIN MORE)\n",
    "\n",
    "If either of the following is true:\n",
    "- More than 3 observations in a span of 5 consecutive days have a ratio >=2\n",
    "- detected_bool = 1\n",
    "then the light curve is cropped to a length of 200 days roughly centred about the point when either of the above happens.    \n",
    "\n",
    "When neither of the above 2 criteria are fulfilled, the first 200 days are considered by default (ToDo: EXPLAIN MORE about why these criteria were chosen.)"
   ]
  },
  {
   "cell_type": "code",
   "execution_count": 5,
   "id": "c3d4881e-46f9-442e-a533-171fc8a3cade",
   "metadata": {},
   "outputs": [],
   "source": [
    "def center_bigdf(df):\n",
    "    '''\n",
    "    If either of the following is true:\n",
    "        - More than 3 observations in a span of 5 consecutive days have a ratio >=2\n",
    "        - detected_bool = 1\n",
    "    then the light curve is cropped to a length of 200 days roughly centred about the point when either of the above happens.\n",
    "    \n",
    "    When neither of the above 2 criteria are fulfilled, the first 200 days are considered by default\n",
    "\n",
    "    '''\n",
    "    \n",
    "    # Start mjd from 0\n",
    "    df[\"mjd\"] = df[\"mjd\"] - df[\"mjd\"][0]\n",
    "    df[\"ratio\"] = abs(df[\"flux\"]/df[\"fluxerr\"])\n",
    "\n",
    "    df[\"ratio2bool\"] = 0\n",
    "\n",
    "    subdf_detected = df[df[\"detected_bool\"]==1]\n",
    "    subdf_ratio2 = df[df[\"ratio\"]>=2]\n",
    "\n",
    "    # Find the mjd where more than 3 observations in a span of 5 consecutive days have a flux-fluxerr ratio >=2\n",
    "    smalldf = subdf_ratio2.loc[abs(subdf_ratio2.mjd.diff(periods=-1))<=5]\n",
    "    for i in range(3):\n",
    "        smalldf = smalldf[abs(smalldf.mjd.diff(periods=-1))<=5]\n",
    "\n",
    "    \n",
    "    if len(subdf_detected)>0 and len(smalldf)>0:\n",
    "        detected_bool_minmjd = subdf_detected.mjd.values[0]\n",
    "        custom_bool_minmjd = smalldf.mjd.values[0]\n",
    "\n",
    "        diffmjd = abs(detected_bool_minmjd - custom_bool_minmjd)/2\n",
    "\n",
    "        minmjdstart = min(detected_bool_minmjd, custom_bool_minmjd)\n",
    "        maxmjdstart = max(detected_bool_minmjd, custom_bool_minmjd)\n",
    "\n",
    "        mjdlim_lower = minmjdstart - (100-diffmjd)\n",
    "        mjdlim_upper = maxmjdstart + (100-diffmjd)\n",
    "\n",
    "    elif len(subdf_detected)>0:\n",
    "        detected_bool_minmjd = subdf_detected.mjd.values[0]\n",
    "        mjdlim_lower = detected_bool_minmjd - 100\n",
    "        mjdlim_upper = detected_bool_minmjd + 100\n",
    "\n",
    "    elif len(smalldf)>0:\n",
    "        custom_bool_minmjd = smalldf.mjd.values[0]\n",
    "        mjdlim_lower = custom_bool_minmjd - 100\n",
    "        mjdlim_upper = custom_bool_minmjd + 100\n",
    "\n",
    "    else:\n",
    "        mjdlim_lower = 0\n",
    "        mjdlim_upper = 200\n",
    "    \n",
    "    # Lower limit can't be -ve\n",
    "    if mjdlim_lower<0:\n",
    "        mjdlim_upper = mjdlim_upper + abs(mjdlim_lower)\n",
    "        mjdlim_lower = 0\n",
    "\n",
    "    assert (mjdlim_upper-mjdlim_lower)==200\n",
    "    \n",
    "    df.loc[(df[\"mjd\"] >= mjdlim_lower) & (df[\"mjd\"] <= mjdlim_upper),\"ratio2bool\"] = 1\n",
    "    \n",
    "    newdf = df[df[\"ratio2bool\"]==1].reset_index(drop=True)\n",
    "    \n",
    "    return newdf"
   ]
  },
  {
   "cell_type": "code",
   "execution_count": 6,
   "id": "4b47885c-98bb-445a-8ee3-09d4e066a2c2",
   "metadata": {},
   "outputs": [
    {
     "data": {
      "text/html": [
       "<div>\n",
       "<style scoped>\n",
       "    .dataframe tbody tr th:only-of-type {\n",
       "        vertical-align: middle;\n",
       "    }\n",
       "\n",
       "    .dataframe tbody tr th {\n",
       "        vertical-align: top;\n",
       "    }\n",
       "\n",
       "    .dataframe thead th {\n",
       "        text-align: right;\n",
       "    }\n",
       "</style>\n",
       "<table border=\"1\" class=\"dataframe\">\n",
       "  <thead>\n",
       "    <tr style=\"text-align: right;\">\n",
       "      <th></th>\n",
       "      <th>mjd</th>\n",
       "      <th>band</th>\n",
       "      <th>flux</th>\n",
       "      <th>fluxerr</th>\n",
       "      <th>detected_bool</th>\n",
       "      <th>ratio</th>\n",
       "      <th>ratio2bool</th>\n",
       "    </tr>\n",
       "  </thead>\n",
       "  <tbody>\n",
       "    <tr>\n",
       "      <th>0</th>\n",
       "      <td>0.0000</td>\n",
       "      <td>i</td>\n",
       "      <td>571.036438</td>\n",
       "      <td>38.534260</td>\n",
       "      <td>1</td>\n",
       "      <td>14.818928</td>\n",
       "      <td>1</td>\n",
       "    </tr>\n",
       "    <tr>\n",
       "      <th>1</th>\n",
       "      <td>4.9189</td>\n",
       "      <td>Y</td>\n",
       "      <td>749.963562</td>\n",
       "      <td>32.526573</td>\n",
       "      <td>1</td>\n",
       "      <td>23.056950</td>\n",
       "      <td>1</td>\n",
       "    </tr>\n",
       "    <tr>\n",
       "      <th>2</th>\n",
       "      <td>11.8958</td>\n",
       "      <td>z</td>\n",
       "      <td>811.698425</td>\n",
       "      <td>33.418995</td>\n",
       "      <td>1</td>\n",
       "      <td>24.288535</td>\n",
       "      <td>1</td>\n",
       "    </tr>\n",
       "    <tr>\n",
       "      <th>3</th>\n",
       "      <td>18.0183</td>\n",
       "      <td>z</td>\n",
       "      <td>791.284973</td>\n",
       "      <td>46.716145</td>\n",
       "      <td>1</td>\n",
       "      <td>16.938148</td>\n",
       "      <td>1</td>\n",
       "    </tr>\n",
       "    <tr>\n",
       "      <th>4</th>\n",
       "      <td>18.8128</td>\n",
       "      <td>i</td>\n",
       "      <td>834.375305</td>\n",
       "      <td>28.976799</td>\n",
       "      <td>1</td>\n",
       "      <td>28.794599</td>\n",
       "      <td>1</td>\n",
       "    </tr>\n",
       "    <tr>\n",
       "      <th>5</th>\n",
       "      <td>42.7361</td>\n",
       "      <td>g</td>\n",
       "      <td>759.056091</td>\n",
       "      <td>23.736109</td>\n",
       "      <td>1</td>\n",
       "      <td>31.978960</td>\n",
       "      <td>1</td>\n",
       "    </tr>\n",
       "    <tr>\n",
       "      <th>6</th>\n",
       "      <td>58.7269</td>\n",
       "      <td>z</td>\n",
       "      <td>2148.493896</td>\n",
       "      <td>25.189192</td>\n",
       "      <td>1</td>\n",
       "      <td>85.294276</td>\n",
       "      <td>1</td>\n",
       "    </tr>\n",
       "    <tr>\n",
       "      <th>7</th>\n",
       "      <td>61.7802</td>\n",
       "      <td>Y</td>\n",
       "      <td>2285.122559</td>\n",
       "      <td>79.410194</td>\n",
       "      <td>1</td>\n",
       "      <td>28.776187</td>\n",
       "      <td>1</td>\n",
       "    </tr>\n",
       "    <tr>\n",
       "      <th>8</th>\n",
       "      <td>65.8392</td>\n",
       "      <td>z</td>\n",
       "      <td>2471.021973</td>\n",
       "      <td>27.277407</td>\n",
       "      <td>1</td>\n",
       "      <td>90.588595</td>\n",
       "      <td>1</td>\n",
       "    </tr>\n",
       "    <tr>\n",
       "      <th>9</th>\n",
       "      <td>66.8824</td>\n",
       "      <td>Y</td>\n",
       "      <td>2618.357910</td>\n",
       "      <td>46.559090</td>\n",
       "      <td>1</td>\n",
       "      <td>56.237309</td>\n",
       "      <td>1</td>\n",
       "    </tr>\n",
       "    <tr>\n",
       "      <th>10</th>\n",
       "      <td>67.6941</td>\n",
       "      <td>r</td>\n",
       "      <td>2269.778564</td>\n",
       "      <td>35.356678</td>\n",
       "      <td>1</td>\n",
       "      <td>64.196601</td>\n",
       "      <td>1</td>\n",
       "    </tr>\n",
       "    <tr>\n",
       "      <th>11</th>\n",
       "      <td>88.6689</td>\n",
       "      <td>Y</td>\n",
       "      <td>4463.832031</td>\n",
       "      <td>54.378235</td>\n",
       "      <td>1</td>\n",
       "      <td>82.088579</td>\n",
       "      <td>1</td>\n",
       "    </tr>\n",
       "    <tr>\n",
       "      <th>12</th>\n",
       "      <td>93.6982</td>\n",
       "      <td>z</td>\n",
       "      <td>4960.222656</td>\n",
       "      <td>41.600491</td>\n",
       "      <td>1</td>\n",
       "      <td>119.234714</td>\n",
       "      <td>1</td>\n",
       "    </tr>\n",
       "    <tr>\n",
       "      <th>13</th>\n",
       "      <td>94.5920</td>\n",
       "      <td>i</td>\n",
       "      <td>4972.901855</td>\n",
       "      <td>54.523323</td>\n",
       "      <td>1</td>\n",
       "      <td>91.206874</td>\n",
       "      <td>1</td>\n",
       "    </tr>\n",
       "    <tr>\n",
       "      <th>14</th>\n",
       "      <td>95.7639</td>\n",
       "      <td>i</td>\n",
       "      <td>4995.144043</td>\n",
       "      <td>50.181072</td>\n",
       "      <td>1</td>\n",
       "      <td>99.542394</td>\n",
       "      <td>1</td>\n",
       "    </tr>\n",
       "    <tr>\n",
       "      <th>15</th>\n",
       "      <td>96.7094</td>\n",
       "      <td>r</td>\n",
       "      <td>4531.691895</td>\n",
       "      <td>55.449078</td>\n",
       "      <td>1</td>\n",
       "      <td>81.727092</td>\n",
       "      <td>1</td>\n",
       "    </tr>\n",
       "    <tr>\n",
       "      <th>16</th>\n",
       "      <td>99.6729</td>\n",
       "      <td>r</td>\n",
       "      <td>4908.624512</td>\n",
       "      <td>66.093193</td>\n",
       "      <td>1</td>\n",
       "      <td>74.268231</td>\n",
       "      <td>1</td>\n",
       "    </tr>\n",
       "    <tr>\n",
       "      <th>17</th>\n",
       "      <td>99.7577</td>\n",
       "      <td>g</td>\n",
       "      <td>3088.283936</td>\n",
       "      <td>53.182644</td>\n",
       "      <td>1</td>\n",
       "      <td>58.069395</td>\n",
       "      <td>1</td>\n",
       "    </tr>\n",
       "    <tr>\n",
       "      <th>18</th>\n",
       "      <td>100.5904</td>\n",
       "      <td>r</td>\n",
       "      <td>5030.671387</td>\n",
       "      <td>60.416359</td>\n",
       "      <td>1</td>\n",
       "      <td>83.266709</td>\n",
       "      <td>1</td>\n",
       "    </tr>\n",
       "    <tr>\n",
       "      <th>19</th>\n",
       "      <td>101.6101</td>\n",
       "      <td>g</td>\n",
       "      <td>3320.936279</td>\n",
       "      <td>56.901775</td>\n",
       "      <td>1</td>\n",
       "      <td>58.362613</td>\n",
       "      <td>1</td>\n",
       "    </tr>\n",
       "    <tr>\n",
       "      <th>20</th>\n",
       "      <td>106.7293</td>\n",
       "      <td>u</td>\n",
       "      <td>1036.600708</td>\n",
       "      <td>57.762154</td>\n",
       "      <td>1</td>\n",
       "      <td>17.946019</td>\n",
       "      <td>1</td>\n",
       "    </tr>\n",
       "    <tr>\n",
       "      <th>21</th>\n",
       "      <td>107.6422</td>\n",
       "      <td>u</td>\n",
       "      <td>1081.982300</td>\n",
       "      <td>61.724331</td>\n",
       "      <td>1</td>\n",
       "      <td>17.529267</td>\n",
       "      <td>1</td>\n",
       "    </tr>\n",
       "    <tr>\n",
       "      <th>22</th>\n",
       "      <td>124.5715</td>\n",
       "      <td>Y</td>\n",
       "      <td>12149.348633</td>\n",
       "      <td>92.792801</td>\n",
       "      <td>1</td>\n",
       "      <td>130.929862</td>\n",
       "      <td>1</td>\n",
       "    </tr>\n",
       "    <tr>\n",
       "      <th>23</th>\n",
       "      <td>124.6396</td>\n",
       "      <td>r</td>\n",
       "      <td>10043.888672</td>\n",
       "      <td>120.556976</td>\n",
       "      <td>1</td>\n",
       "      <td>83.312381</td>\n",
       "      <td>1</td>\n",
       "    </tr>\n",
       "    <tr>\n",
       "      <th>24</th>\n",
       "      <td>134.5768</td>\n",
       "      <td>z</td>\n",
       "      <td>16366.390625</td>\n",
       "      <td>130.593475</td>\n",
       "      <td>1</td>\n",
       "      <td>125.323188</td>\n",
       "      <td>1</td>\n",
       "    </tr>\n",
       "    <tr>\n",
       "      <th>25</th>\n",
       "      <td>148.6704</td>\n",
       "      <td>Y</td>\n",
       "      <td>27343.818359</td>\n",
       "      <td>199.967590</td>\n",
       "      <td>1</td>\n",
       "      <td>136.741251</td>\n",
       "      <td>1</td>\n",
       "    </tr>\n",
       "    <tr>\n",
       "      <th>26</th>\n",
       "      <td>150.5826</td>\n",
       "      <td>Y</td>\n",
       "      <td>29058.212891</td>\n",
       "      <td>210.280746</td>\n",
       "      <td>1</td>\n",
       "      <td>138.187701</td>\n",
       "      <td>1</td>\n",
       "    </tr>\n",
       "    <tr>\n",
       "      <th>27</th>\n",
       "      <td>157.6125</td>\n",
       "      <td>r</td>\n",
       "      <td>31437.089844</td>\n",
       "      <td>362.050262</td>\n",
       "      <td>1</td>\n",
       "      <td>86.830734</td>\n",
       "      <td>1</td>\n",
       "    </tr>\n",
       "    <tr>\n",
       "      <th>28</th>\n",
       "      <td>166.5916</td>\n",
       "      <td>z</td>\n",
       "      <td>54982.875000</td>\n",
       "      <td>424.749237</td>\n",
       "      <td>1</td>\n",
       "      <td>129.447849</td>\n",
       "      <td>1</td>\n",
       "    </tr>\n",
       "    <tr>\n",
       "      <th>29</th>\n",
       "      <td>166.6447</td>\n",
       "      <td>u</td>\n",
       "      <td>7761.321777</td>\n",
       "      <td>167.561752</td>\n",
       "      <td>1</td>\n",
       "      <td>46.319173</td>\n",
       "      <td>1</td>\n",
       "    </tr>\n",
       "  </tbody>\n",
       "</table>\n",
       "</div>"
      ],
      "text/plain": [
       "         mjd band          flux     fluxerr  detected_bool       ratio  \\\n",
       "0     0.0000    i    571.036438   38.534260              1   14.818928   \n",
       "1     4.9189    Y    749.963562   32.526573              1   23.056950   \n",
       "2    11.8958    z    811.698425   33.418995              1   24.288535   \n",
       "3    18.0183    z    791.284973   46.716145              1   16.938148   \n",
       "4    18.8128    i    834.375305   28.976799              1   28.794599   \n",
       "5    42.7361    g    759.056091   23.736109              1   31.978960   \n",
       "6    58.7269    z   2148.493896   25.189192              1   85.294276   \n",
       "7    61.7802    Y   2285.122559   79.410194              1   28.776187   \n",
       "8    65.8392    z   2471.021973   27.277407              1   90.588595   \n",
       "9    66.8824    Y   2618.357910   46.559090              1   56.237309   \n",
       "10   67.6941    r   2269.778564   35.356678              1   64.196601   \n",
       "11   88.6689    Y   4463.832031   54.378235              1   82.088579   \n",
       "12   93.6982    z   4960.222656   41.600491              1  119.234714   \n",
       "13   94.5920    i   4972.901855   54.523323              1   91.206874   \n",
       "14   95.7639    i   4995.144043   50.181072              1   99.542394   \n",
       "15   96.7094    r   4531.691895   55.449078              1   81.727092   \n",
       "16   99.6729    r   4908.624512   66.093193              1   74.268231   \n",
       "17   99.7577    g   3088.283936   53.182644              1   58.069395   \n",
       "18  100.5904    r   5030.671387   60.416359              1   83.266709   \n",
       "19  101.6101    g   3320.936279   56.901775              1   58.362613   \n",
       "20  106.7293    u   1036.600708   57.762154              1   17.946019   \n",
       "21  107.6422    u   1081.982300   61.724331              1   17.529267   \n",
       "22  124.5715    Y  12149.348633   92.792801              1  130.929862   \n",
       "23  124.6396    r  10043.888672  120.556976              1   83.312381   \n",
       "24  134.5768    z  16366.390625  130.593475              1  125.323188   \n",
       "25  148.6704    Y  27343.818359  199.967590              1  136.741251   \n",
       "26  150.5826    Y  29058.212891  210.280746              1  138.187701   \n",
       "27  157.6125    r  31437.089844  362.050262              1   86.830734   \n",
       "28  166.5916    z  54982.875000  424.749237              1  129.447849   \n",
       "29  166.6447    u   7761.321777  167.561752              1   46.319173   \n",
       "\n",
       "    ratio2bool  \n",
       "0            1  \n",
       "1            1  \n",
       "2            1  \n",
       "3            1  \n",
       "4            1  \n",
       "5            1  \n",
       "6            1  \n",
       "7            1  \n",
       "8            1  \n",
       "9            1  \n",
       "10           1  \n",
       "11           1  \n",
       "12           1  \n",
       "13           1  \n",
       "14           1  \n",
       "15           1  \n",
       "16           1  \n",
       "17           1  \n",
       "18           1  \n",
       "19           1  \n",
       "20           1  \n",
       "21           1  \n",
       "22           1  \n",
       "23           1  \n",
       "24           1  \n",
       "25           1  \n",
       "26           1  \n",
       "27           1  \n",
       "28           1  \n",
       "29           1  "
      ]
     },
     "execution_count": 6,
     "metadata": {},
     "output_type": "execute_result"
    }
   ],
   "source": [
    "newdf = center_bigdf(df)\n",
    "newdf"
   ]
  },
  {
   "cell_type": "code",
   "execution_count": 7,
   "id": "589d4476-81e1-4f4f-b9f9-956ef386c235",
   "metadata": {},
   "outputs": [
    {
     "data": {
      "image/png": "[encoded data removed]",
      "text/plain": [
       "<Figure size 432x288 with 1 Axes>"
      ]
     },
     "metadata": {},
     "output_type": "display_data"
    }
   ],
   "source": [
    "tempplt = plot_allbands_df(newdf)\n",
    "tempplt.title(\"New Cropped Light Curve\")\n",
    "tempplt.show()"
   ]
  },
  {
   "cell_type": "markdown",
   "id": "79601a40-ebc6-401a-9a93-b8e61c10f6a3",
   "metadata": {},
   "source": [
    "\n",
    "---\n",
    "The full code for the above preprocessing and centering can be found on these GitHub repositories:\n",
    "- https://github.com/siddharthchaini/centering-perfect-sims-resspect: Centering of RESSPECT Perfect Simulation Light Curves\n",
    "- https://github.com/siddharthchaini/centering-time-series-plasticc: Centering of PLAsTiCC Data\n",
    "\n",
    "**(NOTE: These will be ported over to the current repository soon. ToDo)**"
   ]
  },
  {
   "cell_type": "markdown",
   "id": "c4b91bea-b97b-4de0-9510-9720b05525ac",
   "metadata": {},
   "source": [
    "### 2.3 Downloading the code for GP-VAE\n",
    "\n",
    "Based on the TensorFlow version, different code will be used."
   ]
  },
  {
   "cell_type": "code",
   "execution_count": 8,
   "id": "1f39708e-95d5-4c42-92ea-960d5b4f0600",
   "metadata": {
    "tags": []
   },
   "outputs": [],
   "source": [
    "# Install GP-VAE\n",
    "\n",
    "# import tensorflow as tf\n",
    "# import subprocess\n",
    "# tf_v = tf.__version__\n",
    "# print(f\"TF Version is: {tf_v}\")\n",
    "\n",
    "# if int(tf_v[0])==2:\n",
    "#     git_url = \"https://github.com/siddharthchaini/GP-VAE\"\n",
    "# elif int(tf_v[0])==1:\n",
    "#     git_url = \"https://github.com/ratschlab/GP-VAE\"\n",
    "    \n",
    "    \n",
    "# dl_loc = \"../.repos/GP-VAE\" # Directory where GP-VAE Code is saved / to be saved\n",
    "# if not os.path.isdir(dl_loc):\n",
    "#     print(\"Downloading ...\")\n",
    "#     # Download code\n",
    "#     process = subprocess.run([\"git\",\"clone\", git_url, dl_loc], stdout=subprocess.PIPE, universal_newlines=True)\n",
    "#     if process.returncode == 0:\n",
    "#         print(\"Downloaded successfully\")\n",
    "#     else:\n",
    "#         print(\"Error downloading.\")\n",
    "#         print(process.stdout)\n",
    "# else:\n",
    "#     print(\"Already found GP-VAE directory\")"
   ]
  },
  {
   "cell_type": "code",
   "execution_count": 9,
   "id": "fba71844-716a-4892-bb40-c66ab206227b",
   "metadata": {},
   "outputs": [],
   "source": [
    "# Change working directory to GP-VAE Raw\n",
    "os.chdir(\"gpvae-raw\")"
   ]
  },
  {
   "cell_type": "markdown",
   "id": "56d357c2-d35a-4479-b262-5afa33d73d90",
   "metadata": {},
   "source": [
    "This directory is based on https://github.com/siddharthchaini/gpvae-raw"
   ]
  },
  {
   "cell_type": "markdown",
   "id": "8dec5025-0781-47de-9bb5-afe5d8d09ed7",
   "metadata": {},
   "source": [
    "### 2.3.1 Let's now implement GP-VAE for the Physionet data as described in [Fortuin et. al. (2020)](https://arxiv.org/pdf/1907.04155.pdf)\n",
    "\n",
    "References: \n",
    "1. https://www.kaggle.com/siddharthchaini/gpvae-raw?scriptVersionId=67899219\n",
    "2. https://www.kaggle.com/siddharthchaini/gpvae-raw-visualisation?scriptVersionId=68152622"
   ]
  },
  {
   "cell_type": "code",
   "execution_count": 31,
   "id": "25602cdb-bbd2-4b68-b1e7-063c1238976f",
   "metadata": {},
   "outputs": [],
   "source": [
    "from lib.models import *"
   ]
  },
  {
   "cell_type": "markdown",
   "id": "a0f78a69-3b10-4ce2-8e89-556f8d74536a",
   "metadata": {
    "papermill": {
     "duration": 0.030107,
     "end_time": "2021-07-10T19:00:10.551188",
     "exception": false,
     "start_time": "2021-07-10T19:00:10.521081",
     "status": "completed"
    },
    "tags": []
   },
   "source": [
    "#### 2.3.1.1 Download Physionet data"
   ]
  },
  {
   "cell_type": "code",
   "execution_count": 32,
   "id": "e12f187c-a0af-4aa4-87ee-f4e5ca8965ff",
   "metadata": {
    "papermill": {
     "duration": 4.850243,
     "end_time": "2021-07-10T19:00:15.431471",
     "exception": false,
     "start_time": "2021-07-10T19:00:10.581228",
     "status": "completed"
    },
    "tags": []
   },
   "outputs": [],
   "source": [
    "# Download only the first time\n",
    "\n",
    "# !wget https://www.dropbox.com/s/651d86winb4cy9n/physionet.npz?dl=1 -O physionet.npz\n",
    "\n",
    "assert os.path.isfile(\"physionet.npz\")"
   ]
  },
  {
   "cell_type": "markdown",
   "id": "cdaf1d62-8246-4458-b1e0-436bc19abe38",
   "metadata": {
    "papermill": {
     "duration": 0.034606,
     "end_time": "2021-07-10T19:00:15.504120",
     "exception": false,
     "start_time": "2021-07-10T19:00:15.469514",
     "status": "completed"
    },
    "tags": []
   },
   "source": [
    "#### 2.3.1.2 Imports"
   ]
  },
  {
   "cell_type": "code",
   "execution_count": 16,
   "id": "39e7dcc1-6685-4376-b92a-4c68398a92ea",
   "metadata": {
    "papermill": {
     "duration": 5.484319,
     "end_time": "2021-07-10T19:00:21.023448",
     "exception": false,
     "start_time": "2021-07-10T19:00:15.539129",
     "status": "completed"
    },
    "tags": []
   },
   "outputs": [],
   "source": [
    "import sys\n",
    "\n",
    "import os\n",
    "import time\n",
    "from datetime import datetime\n",
    "import numpy as np\n",
    "import matplotlib\n",
    "matplotlib.use(\"Agg\")\n",
    "from matplotlib import pyplot as plt\n",
    "import tensorflow as tf\n",
    "\n",
    "tf.compat.v1.enable_eager_execution()\n",
    "\n",
    "from sklearn.metrics import average_precision_score, roc_auc_score\n",
    "from sklearn.linear_model import LogisticRegression\n",
    "\n",
    "import warnings\n",
    "warnings.simplefilter(action='ignore', category=FutureWarning)"
   ]
  },
  {
   "cell_type": "code",
   "execution_count": 17,
   "id": "8d7a7459-234b-40f5-8da7-78aa78cb38b7",
   "metadata": {
    "papermill": {
     "duration": 0.754087,
     "end_time": "2021-07-10T19:00:21.813470",
     "exception": false,
     "start_time": "2021-07-10T19:00:21.059383",
     "status": "completed"
    },
    "tags": []
   },
   "outputs": [],
   "source": [
    "from lib.models import *"
   ]
  },
  {
   "cell_type": "markdown",
   "id": "91aa026a-26e7-41e4-a548-326914ce52cb",
   "metadata": {
    "papermill": {
     "duration": 0.03395,
     "end_time": "2021-07-10T19:00:21.882305",
     "exception": false,
     "start_time": "2021-07-10T19:00:21.848355",
     "status": "completed"
    },
    "tags": []
   },
   "source": [
    "#### 2.3.1.3 Flags"
   ]
  },
  {
   "cell_type": "code",
   "execution_count": 18,
   "id": "b9aa502d-e8e6-46e2-b818-2089f5915a3d",
   "metadata": {
    "papermill": {
     "duration": 0.044841,
     "end_time": "2021-07-10T19:00:21.961802",
     "exception": false,
     "start_time": "2021-07-10T19:00:21.916961",
     "status": "completed"
    },
    "tags": []
   },
   "outputs": [],
   "source": [
    "latent_dim = 35 # 'Dimensionality of the latent space'\n",
    "encoder_sizes = [128, 128] # 'Layer sizes of the encoder'\n",
    "decoder_sizes = [256, 256] # 'Layer sizes of the decoder'\n",
    "window_size = 24 # 'Window size for the inference CNN: Ignored if model_type is not gp-vae'\n",
    "sigma = 1.005 # 'Sigma value for the GP prior: Ignored if model_type is not gp-vae'\n",
    "length_scale = 7.0 # 'Length scale value for the GP prior: Ignored if model_type is not gp-vae'\n",
    "beta = 0.2 # 'Factor to weigh the KL term (similar to beta-VAE'\n",
    "num_epochs = 40 # 'Number of training epochs'\n",
    "\n",
    "# Flags with common default values for all three datasets\n",
    "learning_rate = 1e-3 # 'Learning rate for training'\n",
    "gradient_clip = 1e4 # 'Maximum global gradient norm for the gradient clipping during training'\n",
    "num_steps = 0 # 'Number of training steps: If non-zero it overwrites num_epochs'\n",
    "print_interval = 0 # 'Interval for printing the loss and saving the model during training'\n",
    "exp_name = \"reproduce_physionet\" # 'Name of the experiment'\n",
    "basedir = \"models\" # 'Directory where the models should be stored'\n",
    "data_dir = \"\" # 'Directory from where the data should be read in'\n",
    "data_type = 'physionet' # ['hmnist', 'physionet', 'sprites'], 'Type of data to be trained on'\n",
    "seed = 1337 # 'Seed for the random number generator'\n",
    "model_type = 'gp-vae' # ['vae', 'hi-vae', 'gp-vae'], 'Type of model to be trained'\n",
    "cnn_kernel_size = 3 # 'Kernel size for the CNN preprocessor'\n",
    "cnn_sizes = [256] # 'Number of filters for the layers of the CNN preprocessor'\n",
    "testing = True # 'Use the actual test set for testing'\n",
    "banded_covar = True # 'Use a banded covariance matrix instead of a diagonal one for the output of the inference network: Ignored if model_type is not gp-vae'\n",
    "batch_size = 64 # 'Batch size for training'\n",
    "\n",
    "M = 1 # 'Number of samples for ELBO estimation'\n",
    "K = 1 # 'Number of importance sampling weights'\n",
    "\n",
    "kernel = 'cauchy' # ['rbf', 'diffusion', 'matern', 'cauchy'], 'Kernel to be used for the GP prior: Ignored if model_type is not (mgp-vae'\n",
    "kernel_scales = 1 # 'Number of different length scales sigma for the GP prior: Ignored if model_type is not gp-vae'"
   ]
  },
  {
   "cell_type": "markdown",
   "id": "57da1f78-56e0-4bb6-82b4-317ed8386c5d",
   "metadata": {
    "papermill": {
     "duration": 0.035186,
     "end_time": "2021-07-10T19:00:22.031270",
     "exception": false,
     "start_time": "2021-07-10T19:00:21.996084",
     "status": "completed"
    },
    "tags": []
   },
   "source": [
    "#### 2.3.1.4 Prep"
   ]
  },
  {
   "cell_type": "code",
   "execution_count": 19,
   "id": "d63b3e90-faa8-4d50-9852-9a6b407c74b8",
   "metadata": {
    "papermill": {
     "duration": 0.044087,
     "end_time": "2021-07-10T19:00:22.109911",
     "exception": false,
     "start_time": "2021-07-10T19:00:22.065824",
     "status": "completed"
    },
    "tags": []
   },
   "outputs": [
    {
     "name": "stdout",
     "output_type": "stream",
     "text": [
      "Testing:  True \t Seed: 1337\n"
     ]
    }
   ],
   "source": [
    "np.random.seed(seed)\n",
    "tf.compat.v1.set_random_seed(seed)\n",
    "print(\"Testing: \", testing, f\"\\t Seed: {seed}\")"
   ]
  },
  {
   "cell_type": "code",
   "execution_count": 20,
   "id": "bd0ddfdc-7a4d-4446-b3ac-9805bd1d5a6a",
   "metadata": {
    "papermill": {
     "duration": 0.041576,
     "end_time": "2021-07-10T19:00:22.186537",
     "exception": false,
     "start_time": "2021-07-10T19:00:22.144961",
     "status": "completed"
    },
    "tags": []
   },
   "outputs": [],
   "source": [
    "encoder_sizes = [int(size) for size in encoder_sizes]\n",
    "decoder_sizes = [int(size) for size in decoder_sizes]\n",
    "\n",
    "if 0 in encoder_sizes:\n",
    "    encoder_sizes.remove(0)\n",
    "if 0 in decoder_sizes:\n",
    "    decoder_sizes.remove(0)"
   ]
  },
  {
   "cell_type": "code",
   "execution_count": 21,
   "id": "09e34e49-74ca-491a-a766-f59b9754f282",
   "metadata": {
    "papermill": {
     "duration": 0.043822,
     "end_time": "2021-07-10T19:00:22.264885",
     "exception": false,
     "start_time": "2021-07-10T19:00:22.221063",
     "status": "completed"
    },
    "tags": []
   },
   "outputs": [
    {
     "name": "stdout",
     "output_type": "stream",
     "text": [
      "Full exp name:  210729_reproduce_physionet\n"
     ]
    }
   ],
   "source": [
    "# Make up full exp name\n",
    "timestamp = datetime.now().strftime(\"%y%m%d\")\n",
    "full_exp_name = \"{}_{}\".format(timestamp, exp_name)\n",
    "outdir = os.path.join(basedir, full_exp_name)\n",
    "if not os.path.exists(outdir): os.mkdir(outdir)\n",
    "checkpoint_prefix = os.path.join(outdir, \"ckpt\")\n",
    "print(\"Full exp name: \", full_exp_name)"
   ]
  },
  {
   "cell_type": "markdown",
   "id": "2f25db62-6f3f-45cc-a64c-b914131691ea",
   "metadata": {
    "papermill": {
     "duration": 0.034568,
     "end_time": "2021-07-10T19:00:22.334299",
     "exception": false,
     "start_time": "2021-07-10T19:00:22.299731",
     "status": "completed"
    },
    "tags": []
   },
   "source": [
    "#### 2.3.1.5 Define data specific parameters"
   ]
  },
  {
   "cell_type": "code",
   "execution_count": 22,
   "id": "14018387-20ba-4f61-8c2f-66e0427928ee",
   "metadata": {
    "papermill": {
     "duration": 0.044722,
     "end_time": "2021-07-10T19:00:22.413713",
     "exception": false,
     "start_time": "2021-07-10T19:00:22.368991",
     "status": "completed"
    },
    "tags": []
   },
   "outputs": [
    {
     "data": {
      "text/plain": [
       "'physionet'"
      ]
     },
     "execution_count": 22,
     "metadata": {},
     "output_type": "execute_result"
    }
   ],
   "source": [
    "data_type"
   ]
  },
  {
   "cell_type": "code",
   "execution_count": 23,
   "id": "383a05b3-209e-4cc8-a045-94fb36242dfe",
   "metadata": {
    "papermill": {
     "duration": 0.043675,
     "end_time": "2021-07-10T19:00:22.492672",
     "exception": false,
     "start_time": "2021-07-10T19:00:22.448997",
     "status": "completed"
    },
    "tags": []
   },
   "outputs": [],
   "source": [
    "if data_type == \"hmnist\":\n",
    "    data_dir = \"data/hmnist/hmnist_mnar.npz\"\n",
    "    data_dim = 784\n",
    "    time_length = 10\n",
    "    num_classes = 10\n",
    "    decoder = BernoulliDecoder\n",
    "    img_shape = (28, 28, 1)\n",
    "    val_split = 50000\n",
    "elif data_type == \"physionet\":\n",
    "    if data_dir == \"\":\n",
    "        data_dir = \"physionet.npz\"\n",
    "    data_dim = 35\n",
    "    time_length = 48\n",
    "    num_classes = 2\n",
    "    decoder = GaussianDecoder\n",
    "elif data_type == \"sprites\":\n",
    "    if data_dir == \"\":\n",
    "        data_dir = \"data/sprites/sprites.npz\"\n",
    "    data_dim = 12288\n",
    "    time_length = 8\n",
    "    decoder = GaussianDecoder\n",
    "    img_shape = (64, 64, 3)\n",
    "    val_split = 8000\n",
    "else:\n",
    "    raise ValueError(\"Data type must be one of ['hmnist', 'physionet', 'sprites']\")"
   ]
  },
  {
   "cell_type": "markdown",
   "id": "18739e39-ba79-4d33-b233-ed170e61c50a",
   "metadata": {
    "papermill": {
     "duration": 0.03487,
     "end_time": "2021-07-10T19:00:22.563187",
     "exception": false,
     "start_time": "2021-07-10T19:00:22.528317",
     "status": "completed"
    },
    "tags": []
   },
   "source": [
    "#### 2.3.1.6 Load data"
   ]
  },
  {
   "cell_type": "code",
   "execution_count": 24,
   "id": "088cb26d-d4c1-4371-a627-60400856a599",
   "metadata": {
    "papermill": {
     "duration": 0.044624,
     "end_time": "2021-07-10T19:00:22.642979",
     "exception": false,
     "start_time": "2021-07-10T19:00:22.598355",
     "status": "completed"
    },
    "tags": []
   },
   "outputs": [],
   "source": [
    "data = np.load(data_dir)"
   ]
  },
  {
   "cell_type": "code",
   "execution_count": 25,
   "id": "d01df4e1-c7a1-4038-9ab4-33dfab157444",
   "metadata": {
    "papermill": {
     "duration": 0.148632,
     "end_time": "2021-07-10T19:00:22.826850",
     "exception": false,
     "start_time": "2021-07-10T19:00:22.678218",
     "status": "completed"
    },
    "tags": []
   },
   "outputs": [],
   "source": [
    "x_train_full = data['x_train_full']\n",
    "x_train_miss = data['x_train_miss']\n",
    "m_train_miss = data['m_train_miss']"
   ]
  },
  {
   "cell_type": "code",
   "execution_count": 26,
   "id": "88f649fa-ad49-4868-af89-5b8fd842e902",
   "metadata": {
    "papermill": {
     "duration": 0.042257,
     "end_time": "2021-07-10T19:00:22.904393",
     "exception": false,
     "start_time": "2021-07-10T19:00:22.862136",
     "status": "completed"
    },
    "tags": []
   },
   "outputs": [],
   "source": [
    "if data_type in ['hmnist', 'physionet']:\n",
    "    y_train = data['y_train']"
   ]
  },
  {
   "cell_type": "code",
   "execution_count": 27,
   "id": "d5b508cc-df38-47e0-a9f6-590186250848",
   "metadata": {
    "papermill": {
     "duration": 0.189586,
     "end_time": "2021-07-10T19:00:23.128979",
     "exception": false,
     "start_time": "2021-07-10T19:00:22.939393",
     "status": "completed"
    },
    "tags": []
   },
   "outputs": [],
   "source": [
    "if testing:\n",
    "    if data_type in ['hmnist', 'sprites']:\n",
    "        x_val_full = data['x_test_full']\n",
    "        x_val_miss = data['x_test_miss']\n",
    "        m_val_miss = data['m_test_miss']\n",
    "    if data_type == 'hmnist':\n",
    "        y_val = data['y_test']\n",
    "    elif data_type == 'physionet':\n",
    "        x_val_full = data['x_train_full']\n",
    "        x_val_miss = data['x_train_miss']\n",
    "        m_val_miss = data['m_train_miss']\n",
    "        y_val = data['y_train']\n",
    "        m_val_artificial = data[\"m_train_artificial\"]\n",
    "elif data_type in ['hmnist', 'sprites']:\n",
    "    x_val_full = x_train_full[val_split:]\n",
    "    x_val_miss = x_train_miss[val_split:]\n",
    "    m_val_miss = m_train_miss[val_split:]\n",
    "    if data_type == 'hmnist':\n",
    "        y_val = y_train[val_split:]\n",
    "    x_train_full = x_train_full[:val_split]\n",
    "    x_train_miss = x_train_miss[:val_split]\n",
    "    m_train_miss = m_train_miss[:val_split]\n",
    "    y_train = y_train[:val_split]\n",
    "elif data_type == 'physionet':\n",
    "    x_val_full = data[\"x_val_full\"]  # full for artificial missings\n",
    "    x_val_miss = data[\"x_val_miss\"]\n",
    "    m_val_miss = data[\"m_val_miss\"]\n",
    "    m_val_artificial = data[\"m_val_artificial\"]\n",
    "    y_val = data[\"y_val\"]\n",
    "else:\n",
    "    raise ValueError(\"Data type must be one of ['hmnist', 'physionet', 'sprites']\")"
   ]
  },
  {
   "cell_type": "code",
   "execution_count": 28,
   "id": "fbec6145-d062-4648-8d84-1b221176fd2c",
   "metadata": {
    "papermill": {
     "duration": 2.153319,
     "end_time": "2021-07-10T19:00:25.318642",
     "exception": false,
     "start_time": "2021-07-10T19:00:23.165323",
     "status": "completed"
    },
    "tags": []
   },
   "outputs": [],
   "source": [
    "tf_x_train_miss = tf.data.Dataset.from_tensor_slices((x_train_miss, m_train_miss))\\\n",
    "                                 .shuffle(len(x_train_miss)).batch(batch_size).repeat()\n",
    "tf_x_val_miss = tf.data.Dataset.from_tensor_slices((x_val_miss, m_val_miss)).batch(batch_size).repeat()\n",
    "tf_x_val_miss = tf.compat.v1.data.make_one_shot_iterator(tf_x_val_miss)"
   ]
  },
  {
   "cell_type": "code",
   "execution_count": 29,
   "id": "3eef4f23-2456-447e-9956-49f99e21ec3f",
   "metadata": {
    "papermill": {
     "duration": 0.042695,
     "end_time": "2021-07-10T19:00:25.402421",
     "exception": false,
     "start_time": "2021-07-10T19:00:25.359726",
     "status": "completed"
    },
    "tags": []
   },
   "outputs": [],
   "source": [
    "# Build Conv2D preprocessor for image data\n",
    "if data_type in ['hmnist', 'sprites']:\n",
    "    print(\"Using CNN preprocessor\")\n",
    "    image_preprocessor = ImagePreprocessor(img_shape, cnn_sizes, cnn_kernel_size)\n",
    "elif data_type == 'physionet':\n",
    "    image_preprocessor = None\n",
    "else:\n",
    "    raise ValueError(\"Data type must be one of ['hmnist', 'physionet', 'sprites']\")"
   ]
  },
  {
   "cell_type": "markdown",
   "id": "63a11f75-3f59-4bb6-995b-05c347d8903d",
   "metadata": {
    "papermill": {
     "duration": 0.034967,
     "end_time": "2021-07-10T19:00:25.472455",
     "exception": false,
     "start_time": "2021-07-10T19:00:25.437488",
     "status": "completed"
    },
    "tags": []
   },
   "source": [
    "#### 2.3.1.7 Build Model"
   ]
  },
  {
   "cell_type": "code",
   "execution_count": 30,
   "id": "8021272f-9373-46eb-afb2-dd4590ae64ec",
   "metadata": {
    "papermill": {
     "duration": 0.081137,
     "end_time": "2021-07-10T19:00:25.596436",
     "exception": false,
     "start_time": "2021-07-10T19:00:25.515299",
     "status": "completed"
    },
    "tags": []
   },
   "outputs": [],
   "source": [
    "if model_type == \"vae\":\n",
    "    model = VAE(latent_dim=latent_dim, data_dim=data_dim, time_length=time_length,\n",
    "                encoder_sizes=encoder_sizes, encoder=DiagonalEncoder,\n",
    "                decoder_sizes=decoder_sizes, decoder=decoder,\n",
    "                image_preprocessor=image_preprocessor, window_size=window_size,\n",
    "                beta=beta, M=M, K=K)\n",
    "elif model_type == \"hi-vae\":\n",
    "    model = HI_VAE(latent_dim=latent_dim, data_dim=data_dim, time_length=time_length,\n",
    "                   encoder_sizes=encoder_sizes, encoder=DiagonalEncoder,\n",
    "                   decoder_sizes=decoder_sizes, decoder=decoder,\n",
    "                   image_preprocessor=image_preprocessor, window_size=window_size,\n",
    "                   beta=beta, M=M, K=K)\n",
    "elif model_type == \"gp-vae\":\n",
    "    encoder = BandedJointEncoder if banded_covar else JointEncoder\n",
    "    model = GP_VAE(latent_dim=latent_dim, data_dim=data_dim, time_length=time_length,\n",
    "                   encoder_sizes=encoder_sizes, encoder=encoder,\n",
    "                   decoder_sizes=decoder_sizes, decoder=decoder,\n",
    "                   kernel=kernel, sigma=sigma,\n",
    "                   length_scale=length_scale, kernel_scales = kernel_scales,\n",
    "                   image_preprocessor=image_preprocessor, window_size=window_size,\n",
    "                   beta=beta, M=M, K=K, data_type=data_type)\n",
    "else:\n",
    "    raise ValueError(\"Model type must be one of ['vae', 'hi-vae', 'gp-vae']\")"
   ]
  },
  {
   "cell_type": "markdown",
   "id": "202941d4-2abc-438a-9c40-d5eb8c04b5bb",
   "metadata": {
    "papermill": {
     "duration": 0.035486,
     "end_time": "2021-07-10T19:00:25.668608",
     "exception": false,
     "start_time": "2021-07-10T19:00:25.633122",
     "status": "completed"
    },
    "tags": []
   },
   "source": [
    "#### 2.3.1.8 Training preparation"
   ]
  },
  {
   "cell_type": "code",
   "execution_count": 20,
   "id": "1d7c416c-8e38-4e49-ba91-17f66935f56b",
   "metadata": {
    "execution": {
     "iopub.execute_input": "2021-07-10T19:00:25.748415Z",
     "iopub.status.busy": "2021-07-10T19:00:25.747713Z",
     "iopub.status.idle": "2021-07-10T19:00:25.753066Z",
     "shell.execute_reply": "2021-07-10T19:00:25.753483Z",
     "shell.execute_reply.started": "2021-06-28T13:04:16.577538Z"
    },
    "papermill": {
     "duration": 0.049454,
     "end_time": "2021-07-10T19:00:25.753622",
     "exception": false,
     "start_time": "2021-07-10T19:00:25.704168",
     "status": "completed"
    },
    "tags": []
   },
   "outputs": [
    {
     "name": "stdout",
     "output_type": "stream",
     "text": [
      "GPU support:  True\n"
     ]
    }
   ],
   "source": [
    "print(\"GPU support: \", tf.test.is_gpu_available())"
   ]
  },
  {
   "cell_type": "code",
   "execution_count": 21,
   "id": "24246a75-ea27-441f-ba5a-66bf2897a62a",
   "metadata": {
    "execution": {
     "iopub.execute_input": "2021-07-10T19:00:25.830258Z",
     "iopub.status.busy": "2021-07-10T19:00:25.829682Z",
     "iopub.status.idle": "2021-07-10T19:00:30.824028Z",
     "shell.execute_reply": "2021-07-10T19:00:30.823227Z",
     "shell.execute_reply.started": "2021-06-28T13:04:16.588252Z"
    },
    "papermill": {
     "duration": 5.034784,
     "end_time": "2021-07-10T19:00:30.824166",
     "exception": false,
     "start_time": "2021-07-10T19:00:25.789382",
     "status": "completed"
    },
    "tags": []
   },
   "outputs": [
    {
     "name": "stdout",
     "output_type": "stream",
     "text": [
      "Training...\n",
      "Model: \"sequential\"\n",
      "_________________________________________________________________\n",
      "Layer (type)                 Output Shape              Param #   \n",
      "=================================================================\n",
      "conv1d (Conv1D)              (1, 48, 128)              107648    \n",
      "_________________________________________________________________\n",
      "dense (Dense)                (1, 48, 128)              16512     \n",
      "_________________________________________________________________\n",
      "dense_1 (Dense)              (1, 48, 105)              13545     \n",
      "=================================================================\n",
      "Total params: 137,705\n",
      "Trainable params: 137,705\n",
      "Non-trainable params: 0\n",
      "_________________________________________________________________\n",
      "Encoder:  None\n",
      "Model: \"sequential_1\"\n",
      "_________________________________________________________________\n",
      "Layer (type)                 Output Shape              Param #   \n",
      "=================================================================\n",
      "dense_2 (Dense)              (1, 48, 256)              9216      \n",
      "_________________________________________________________________\n",
      "dense_3 (Dense)              (1, 48, 256)              65792     \n",
      "_________________________________________________________________\n",
      "dense_4 (Dense)              (1, 48, 35)               8995      \n",
      "=================================================================\n",
      "Total params: 84,003\n",
      "Trainable params: 84,003\n",
      "Non-trainable params: 0\n",
      "_________________________________________________________________\n",
      "Decoder:  None\n"
     ]
    }
   ],
   "source": [
    "print(\"Training...\")\n",
    "_ = tf.compat.v1.train.get_or_create_global_step()\n",
    "trainable_vars = model.get_trainable_vars()\n",
    "optimizer = tf.compat.v1.train.AdamOptimizer(learning_rate=learning_rate)\n",
    "\n",
    "print(\"Encoder: \", model.encoder.net.summary())\n",
    "print(\"Decoder: \", model.decoder.net.summary())"
   ]
  },
  {
   "cell_type": "code",
   "execution_count": 22,
   "id": "3f184ce4-5828-493e-9fba-e6a83bece115",
   "metadata": {
    "execution": {
     "iopub.execute_input": "2021-07-10T19:00:30.903242Z",
     "iopub.status.busy": "2021-07-10T19:00:30.902717Z",
     "iopub.status.idle": "2021-07-10T19:00:30.906018Z",
     "shell.execute_reply": "2021-07-10T19:00:30.906504Z",
     "shell.execute_reply.started": "2021-06-28T13:04:21.471394Z"
    },
    "papermill": {
     "duration": 0.046132,
     "end_time": "2021-07-10T19:00:30.906639",
     "exception": false,
     "start_time": "2021-07-10T19:00:30.860507",
     "status": "completed"
    },
    "tags": []
   },
   "outputs": [],
   "source": [
    "if model.preprocessor is not None:\n",
    "    print(\"Preprocessor: \", model.preprocessor.net.summary())\n",
    "    saver = tf.compat.v1.train.Checkpoint(optimizer=optimizer, encoder=model.encoder.net,\n",
    "                                          decoder=model.decoder.net, preprocessor=model.preprocessor.net,\n",
    "                                          optimizer_step=tf.compat.v1.train.get_or_create_global_step())\n",
    "else:\n",
    "    saver = tf.compat.v1.train.Checkpoint(optimizer=optimizer, encoder=model.encoder.net, decoder=model.decoder.net,\n",
    "                                          optimizer_step=tf.compat.v1.train.get_or_create_global_step())"
   ]
  },
  {
   "cell_type": "code",
   "execution_count": 23,
   "id": "1f6dfafd-a229-429b-af40-9656ca384e68",
   "metadata": {
    "execution": {
     "iopub.execute_input": "2021-07-10T19:00:30.982559Z",
     "iopub.status.busy": "2021-07-10T19:00:30.982068Z",
     "iopub.status.idle": "2021-07-10T19:00:30.991565Z",
     "shell.execute_reply": "2021-07-10T19:00:30.991130Z",
     "shell.execute_reply.started": "2021-06-28T13:04:21.482243Z"
    },
    "papermill": {
     "duration": 0.048945,
     "end_time": "2021-07-10T19:00:30.991674",
     "exception": false,
     "start_time": "2021-07-10T19:00:30.942729",
     "status": "completed"
    },
    "tags": []
   },
   "outputs": [],
   "source": [
    "summary_writer = tf.compat.v2.summary.create_file_writer(logdir=outdir, flush_millis=10000)"
   ]
  },
  {
   "cell_type": "code",
   "execution_count": 24,
   "id": "51f9f1bc-9a52-42e3-a5ed-8cfd28ad4c89",
   "metadata": {
    "execution": {
     "iopub.execute_input": "2021-07-10T19:00:31.068605Z",
     "iopub.status.busy": "2021-07-10T19:00:31.068069Z",
     "iopub.status.idle": "2021-07-10T19:00:31.071509Z",
     "shell.execute_reply": "2021-07-10T19:00:31.071895Z",
     "shell.execute_reply.started": "2021-06-28T13:04:21.503080Z"
    },
    "papermill": {
     "duration": 0.043677,
     "end_time": "2021-07-10T19:00:31.072023",
     "exception": false,
     "start_time": "2021-07-10T19:00:31.028346",
     "status": "completed"
    },
    "tags": []
   },
   "outputs": [],
   "source": [
    "if num_steps == 0:\n",
    "    num_steps = num_epochs * len(x_train_miss) // batch_size\n",
    "else:\n",
    "    num_steps = num_steps"
   ]
  },
  {
   "cell_type": "code",
   "execution_count": 25,
   "id": "1f0ed49d-403e-496e-b21d-53e0b1736898",
   "metadata": {
    "execution": {
     "iopub.execute_input": "2021-07-10T19:00:31.147703Z",
     "iopub.status.busy": "2021-07-10T19:00:31.146485Z",
     "iopub.status.idle": "2021-07-10T19:00:31.148796Z",
     "shell.execute_reply": "2021-07-10T19:00:31.149194Z",
     "shell.execute_reply.started": "2021-06-28T13:04:21.512369Z"
    },
    "papermill": {
     "duration": 0.041529,
     "end_time": "2021-07-10T19:00:31.149320",
     "exception": false,
     "start_time": "2021-07-10T19:00:31.107791",
     "status": "completed"
    },
    "tags": []
   },
   "outputs": [],
   "source": [
    "if print_interval == 0:\n",
    "    print_interval = num_steps // num_epochs"
   ]
  },
  {
   "cell_type": "markdown",
   "id": "13959788-36b3-493a-a8fc-0a78055b82ec",
   "metadata": {
    "papermill": {
     "duration": 0.035984,
     "end_time": "2021-07-10T19:00:31.221680",
     "exception": false,
     "start_time": "2021-07-10T19:00:31.185696",
     "status": "completed"
    },
    "tags": []
   },
   "source": [
    "#### 2.3.1.9 Training"
   ]
  },
  {
   "cell_type": "code",
   "execution_count": 26,
   "id": "0f42586c-f858-411c-8d8e-388ad45e17eb",
   "metadata": {
    "execution": {
     "iopub.execute_input": "2021-07-10T19:00:31.297043Z",
     "iopub.status.busy": "2021-07-10T19:00:31.296421Z",
     "iopub.status.idle": "2021-07-10T19:00:31.299181Z",
     "shell.execute_reply": "2021-07-10T19:00:31.298794Z",
     "shell.execute_reply.started": "2021-06-28T13:04:21.518211Z"
    },
    "papermill": {
     "duration": 0.041707,
     "end_time": "2021-07-10T19:00:31.299294",
     "exception": false,
     "start_time": "2021-07-10T19:00:31.257587",
     "status": "completed"
    },
    "tags": []
   },
   "outputs": [],
   "source": [
    "losses_train = []\n",
    "losses_val = []"
   ]
  },
  {
   "cell_type": "code",
   "execution_count": 27,
   "id": "f1081b45-b608-4435-a681-dcd9d8356964",
   "metadata": {
    "execution": {
     "iopub.execute_input": "2021-07-10T19:00:31.374238Z",
     "iopub.status.busy": "2021-07-10T19:00:31.373566Z",
     "iopub.status.idle": "2021-07-10T19:00:31.375685Z",
     "shell.execute_reply": "2021-07-10T19:00:31.376111Z",
     "shell.execute_reply.started": "2021-06-28T13:04:21.526898Z"
    },
    "papermill": {
     "duration": 0.041207,
     "end_time": "2021-07-10T19:00:31.376224",
     "exception": false,
     "start_time": "2021-07-10T19:00:31.335017",
     "status": "completed"
    },
    "tags": []
   },
   "outputs": [],
   "source": [
    "t0 = time.time()"
   ]
  },
  {
   "cell_type": "code",
   "execution_count": 28,
   "id": "bec760b9-087c-49ee-a55a-697d133fd7af",
   "metadata": {
    "execution": {
     "iopub.execute_input": "2021-07-10T19:00:31.464116Z",
     "iopub.status.busy": "2021-07-10T19:00:31.460497Z",
     "iopub.status.idle": "2021-07-10T19:24:37.697876Z",
     "shell.execute_reply": "2021-07-10T19:24:37.697309Z"
    },
    "papermill": {
     "duration": 1446.285872,
     "end_time": "2021-07-10T19:24:37.698025",
     "exception": false,
     "start_time": "2021-07-10T19:00:31.412153",
     "status": "completed"
    },
    "tags": []
   },
   "outputs": [
    {
     "name": "stdout",
     "output_type": "stream",
     "text": [
      "================================================\n",
      "Learning rate: 0.001 | Global gradient norm: 9908.78\n",
      "Step 0) Time = 1.067125\n",
      "Train loss = 59556.738 | NLL = 433.687 | KL = 295615.250\n",
      "Validation loss = 59752.488 | NLL = 420.138 | KL = 296661.750\n",
      "MSE miss: 1.0416 | AUROC: 0.6671\n",
      "================================================\n",
      "Learning rate: 0.001 | Global gradient norm: 1077.27\n",
      "Step 62) Time = 15.317358\n",
      "Train loss = 22612.756 | NLL = 365.161 | KL = 111237.984\n",
      "Validation loss = 22203.000 | NLL = 357.304 | KL = 109228.469\n",
      "MSE miss: 0.7399 | AUROC: 0.6958\n",
      "================================================\n",
      "Learning rate: 0.001 | Global gradient norm: 1534.75\n",
      "Step 124) Time = 14.760513\n",
      "Train loss = 21929.746 | NLL = 444.877 | KL = 107424.344\n",
      "Validation loss = 21805.504 | NLL = 376.892 | KL = 107143.055\n",
      "MSE miss: 0.7357 | AUROC: 0.6947\n",
      "================================================\n",
      "Learning rate: 0.001 | Global gradient norm: 326.75\n",
      "Step 186) Time = 14.234811\n",
      "Train loss = 21742.395 | NLL = 403.115 | KL = 106696.391\n",
      "Validation loss = 21695.477 | NLL = 341.212 | KL = 106771.328\n",
      "MSE miss: 0.6932 | AUROC: 0.7000\n",
      "================================================\n",
      "Learning rate: 0.001 | Global gradient norm: 200.83\n",
      "Step 248) Time = 14.817866\n",
      "Train loss = 21611.592 | NLL = 352.494 | KL = 106295.492\n",
      "Validation loss = 21593.701 | NLL = 382.133 | KL = 106057.836\n",
      "MSE miss: 0.6809 | AUROC: 0.7067\n",
      "================================================\n",
      "Learning rate: 0.001 | Global gradient norm: 179.64\n",
      "Step 310) Time = 14.242649\n",
      "Train loss = 21600.891 | NLL = 359.603 | KL = 106206.445\n",
      "Validation loss = 21615.424 | NLL = 361.914 | KL = 106267.547\n",
      "MSE miss: 0.6699 | AUROC: 0.7071\n",
      "================================================\n",
      "Learning rate: 0.001 | Global gradient norm: 245.58\n",
      "Step 372) Time = 13.978181\n",
      "Train loss = 21561.254 | NLL = 368.231 | KL = 105965.109\n",
      "Validation loss = 21596.670 | NLL = 395.254 | KL = 106007.078\n",
      "MSE miss: 0.6719 | AUROC: 0.7087\n",
      "================================================\n",
      "Learning rate: 0.001 | Global gradient norm: 301.36\n",
      "Step 434) Time = 14.201883\n",
      "Train loss = 21561.367 | NLL = 347.071 | KL = 106071.477\n",
      "Validation loss = 21550.922 | NLL = 351.988 | KL = 105994.656\n",
      "MSE miss: 0.6611 | AUROC: 0.7102\n",
      "================================================\n",
      "Learning rate: 0.001 | Global gradient norm: 181.57\n",
      "Step 496) Time = 14.091882\n",
      "Train loss = 21544.611 | NLL = 338.139 | KL = 106032.359\n",
      "Validation loss = 21526.488 | NLL = 333.973 | KL = 105962.578\n",
      "MSE miss: 0.6490 | AUROC: 0.7147\n",
      "================================================\n",
      "Learning rate: 0.001 | Global gradient norm: 153.37\n",
      "Step 558) Time = 13.799201\n",
      "Train loss = 21539.354 | NLL = 353.010 | KL = 105931.719\n",
      "Validation loss = 21566.820 | NLL = 372.704 | KL = 105970.578\n",
      "MSE miss: 0.6353 | AUROC: 0.7155\n",
      "================================================\n",
      "Learning rate: 0.001 | Global gradient norm: 209.40\n",
      "Step 620) Time = 13.935709\n",
      "Train loss = 21535.285 | NLL = 346.436 | KL = 105944.242\n",
      "Validation loss = 21607.729 | NLL = 399.739 | KL = 106039.953\n",
      "MSE miss: 0.6231 | AUROC: 0.7200\n",
      "================================================\n",
      "Learning rate: 0.0005 | Global gradient norm: 193.69\n",
      "Step 682) Time = 13.953329\n",
      "Train loss = 21523.266 | NLL = 340.273 | KL = 105914.953\n",
      "Validation loss = 21543.734 | NLL = 360.886 | KL = 105914.250\n",
      "MSE miss: 0.6139 | AUROC: 0.7203\n",
      "================================================\n",
      "Learning rate: 0.0005 | Global gradient norm: 219.39\n",
      "Step 744) Time = 14.810445\n",
      "Train loss = 21521.896 | NLL = 339.817 | KL = 105910.391\n",
      "Validation loss = 21511.289 | NLL = 330.818 | KL = 105902.352\n",
      "MSE miss: 0.6133 | AUROC: 0.7209\n",
      "================================================\n",
      "Learning rate: 0.0005 | Global gradient norm: 163.33\n",
      "Step 806) Time = 14.572141\n",
      "Train loss = 21517.719 | NLL = 337.748 | KL = 105899.859\n",
      "Validation loss = 21542.396 | NLL = 358.376 | KL = 105920.102\n",
      "MSE miss: 0.6050 | AUROC: 0.7246\n",
      "================================================\n",
      "Learning rate: 0.0005 | Global gradient norm: 178.13\n",
      "Step 868) Time = 14.677836\n",
      "Train loss = 21518.311 | NLL = 334.458 | KL = 105919.258\n",
      "Validation loss = 21531.691 | NLL = 347.951 | KL = 105918.711\n",
      "MSE miss: 0.6166 | AUROC: 0.7198\n",
      "================================================\n",
      "Learning rate: 0.0005 | Global gradient norm: 173.31\n",
      "Step 930) Time = 14.221939\n",
      "Train loss = 21511.471 | NLL = 330.095 | KL = 105906.875\n",
      "Validation loss = 21533.176 | NLL = 348.009 | KL = 105925.828\n",
      "MSE miss: 0.6003 | AUROC: 0.7298\n",
      "================================================\n",
      "Learning rate: 0.0005 | Global gradient norm: 119.09\n",
      "Step 992) Time = 13.865875\n",
      "Train loss = 21518.904 | NLL = 336.558 | KL = 105911.734\n",
      "Validation loss = 21525.404 | NLL = 341.717 | KL = 105918.430\n",
      "MSE miss: 0.5985 | AUROC: 0.7296\n",
      "================================================\n",
      "Learning rate: 0.0005 | Global gradient norm: 175.24\n",
      "Step 1054) Time = 13.873162\n",
      "Train loss = 21503.949 | NLL = 321.251 | KL = 105913.484\n",
      "Validation loss = 21529.523 | NLL = 347.935 | KL = 105907.945\n",
      "MSE miss: 0.5970 | AUROC: 0.7303\n",
      "================================================\n",
      "Learning rate: 0.0005 | Global gradient norm: 207.67\n",
      "Step 1116) Time = 13.752577\n",
      "Train loss = 21540.486 | NLL = 359.090 | KL = 105906.969\n",
      "Validation loss = 21528.828 | NLL = 349.166 | KL = 105898.312\n",
      "MSE miss: 0.6043 | AUROC: 0.7238\n",
      "================================================\n",
      "Learning rate: 0.0005 | Global gradient norm: 395.73\n",
      "Step 1178) Time = 13.597574\n",
      "Train loss = 21579.906 | NLL = 393.830 | KL = 105930.375\n",
      "Validation loss = 21528.012 | NLL = 347.617 | KL = 105901.969\n",
      "MSE miss: 0.5897 | AUROC: 0.7367\n",
      "================================================\n",
      "Learning rate: 0.0005 | Global gradient norm: 138.18\n",
      "Step 1240) Time = 13.582683\n",
      "Train loss = 21515.248 | NLL = 335.693 | KL = 105897.781\n",
      "Validation loss = 21518.551 | NLL = 338.559 | KL = 105899.953\n",
      "MSE miss: 0.5941 | AUROC: 0.7312\n",
      "================================================\n",
      "Learning rate: 0.00025 | Global gradient norm: 164.77\n",
      "Step 1302) Time = 14.000550\n",
      "Train loss = 21508.994 | NLL = 327.509 | KL = 105907.430\n",
      "Validation loss = 21516.113 | NLL = 338.750 | KL = 105886.812\n",
      "MSE miss: 0.5857 | AUROC: 0.7340\n",
      "================================================\n",
      "Learning rate: 0.00025 | Global gradient norm: 80.96\n",
      "Step 1364) Time = 14.071234\n",
      "Train loss = 21510.611 | NLL = 332.327 | KL = 105891.422\n",
      "Validation loss = 21553.148 | NLL = 368.996 | KL = 105920.766\n",
      "MSE miss: 0.5836 | AUROC: 0.7317\n",
      "================================================\n",
      "Learning rate: 0.00025 | Global gradient norm: 211.20\n",
      "Step 1426) Time = 14.536267\n",
      "Train loss = 21518.611 | NLL = 338.187 | KL = 105902.117\n",
      "Validation loss = 21514.031 | NLL = 336.940 | KL = 105885.453\n",
      "MSE miss: 0.5858 | AUROC: 0.7379\n",
      "================================================\n",
      "Learning rate: 0.00025 | Global gradient norm: 116.31\n",
      "Step 1488) Time = 14.205123\n",
      "Train loss = 21518.725 | NLL = 339.711 | KL = 105895.062\n",
      "Validation loss = 21541.861 | NLL = 359.604 | KL = 105911.281\n",
      "MSE miss: 0.5844 | AUROC: 0.7311\n",
      "================================================\n",
      "Learning rate: 0.00025 | Global gradient norm: 126.95\n",
      "Step 1550) Time = 14.763297\n",
      "Train loss = 21517.621 | NLL = 338.873 | KL = 105893.734\n",
      "Validation loss = 21542.506 | NLL = 363.971 | KL = 105892.672\n",
      "MSE miss: 0.5809 | AUROC: 0.7364\n",
      "================================================\n",
      "Learning rate: 0.00025 | Global gradient norm: 115.23\n",
      "Step 1612) Time = 14.020620\n",
      "Train loss = 21527.809 | NLL = 348.988 | KL = 105894.109\n",
      "Validation loss = 21532.965 | NLL = 354.022 | KL = 105894.719\n",
      "MSE miss: 0.5806 | AUROC: 0.7360\n",
      "================================================\n",
      "Learning rate: 0.00025 | Global gradient norm: 212.66\n",
      "Step 1674) Time = 13.873818\n",
      "Train loss = 21516.795 | NLL = 337.513 | KL = 105896.406\n",
      "Validation loss = 21523.248 | NLL = 343.689 | KL = 105897.789\n",
      "MSE miss: 0.5794 | AUROC: 0.7412\n",
      "================================================\n",
      "Learning rate: 0.00025 | Global gradient norm: 143.10\n",
      "Step 1736) Time = 14.045883\n",
      "Train loss = 21495.004 | NLL = 318.363 | KL = 105883.195\n",
      "Validation loss = 21520.062 | NLL = 341.661 | KL = 105892.008\n",
      "MSE miss: 0.5776 | AUROC: 0.7380\n",
      "================================================\n",
      "Learning rate: 0.00025 | Global gradient norm: 136.31\n",
      "Step 1798) Time = 14.022536\n",
      "Train loss = 21525.113 | NLL = 347.114 | KL = 105889.984\n",
      "Validation loss = 21509.289 | NLL = 330.166 | KL = 105895.609\n",
      "MSE miss: 0.5803 | AUROC: 0.7369\n",
      "================================================\n",
      "Learning rate: 0.00025 | Global gradient norm: 148.43\n",
      "Step 1860) Time = 14.171203\n",
      "Train loss = 21507.285 | NLL = 328.447 | KL = 105894.188\n",
      "Validation loss = 21576.836 | NLL = 397.755 | KL = 105895.391\n",
      "MSE miss: 0.5817 | AUROC: 0.7382\n",
      "================================================\n",
      "Learning rate: 0.000125 | Global gradient norm: 252.34\n",
      "Step 1922) Time = 14.609870\n",
      "Train loss = 21544.656 | NLL = 363.407 | KL = 105906.250\n",
      "Validation loss = 21507.742 | NLL = 331.914 | KL = 105879.141\n",
      "MSE miss: 0.5762 | AUROC: 0.7380\n",
      "================================================\n",
      "Learning rate: 0.000125 | Global gradient norm: 160.44\n",
      "Step 1984) Time = 14.002039\n",
      "Train loss = 21521.482 | NLL = 343.506 | KL = 105889.875\n",
      "Validation loss = 21514.584 | NLL = 336.097 | KL = 105892.430\n",
      "MSE miss: 0.5764 | AUROC: 0.7387\n",
      "================================================\n",
      "Learning rate: 0.000125 | Global gradient norm: 103.40\n",
      "Step 2046) Time = 14.610659\n",
      "Train loss = 21507.805 | NLL = 331.032 | KL = 105883.859\n",
      "Validation loss = 21494.094 | NLL = 316.191 | KL = 105889.516\n",
      "MSE miss: 0.5771 | AUROC: 0.7378\n",
      "================================================\n",
      "Learning rate: 0.000125 | Global gradient norm: 120.90\n",
      "Step 2108) Time = 13.805177\n",
      "Train loss = 21511.635 | NLL = 333.053 | KL = 105892.898\n",
      "Validation loss = 21505.586 | NLL = 328.256 | KL = 105886.656\n",
      "MSE miss: 0.5763 | AUROC: 0.7399\n",
      "================================================\n",
      "Learning rate: 0.000125 | Global gradient norm: 430.59\n",
      "Step 2170) Time = 14.054384\n",
      "Train loss = 21514.305 | NLL = 336.809 | KL = 105887.484\n",
      "Validation loss = 21520.699 | NLL = 342.852 | KL = 105889.234\n",
      "MSE miss: 0.5743 | AUROC: 0.7404\n",
      "================================================\n",
      "Learning rate: 0.000125 | Global gradient norm: 138.39\n",
      "Step 2232) Time = 14.314467\n",
      "Train loss = 21547.428 | NLL = 369.352 | KL = 105890.375\n",
      "Validation loss = 21517.281 | NLL = 339.001 | KL = 105891.391\n",
      "MSE miss: 0.5742 | AUROC: 0.7378\n",
      "================================================\n",
      "Learning rate: 0.000125 | Global gradient norm: 121.93\n",
      "Step 2294) Time = 14.265030\n",
      "Train loss = 21526.656 | NLL = 348.195 | KL = 105892.305\n",
      "Validation loss = 21524.441 | NLL = 346.332 | KL = 105890.547\n",
      "MSE miss: 0.5750 | AUROC: 0.7388\n",
      "================================================\n",
      "Learning rate: 0.000125 | Global gradient norm: 103.34\n",
      "Step 2356) Time = 14.404418\n",
      "Train loss = 21523.629 | NLL = 346.337 | KL = 105886.453\n",
      "Validation loss = 21516.553 | NLL = 338.984 | KL = 105887.844\n",
      "MSE miss: 0.5737 | AUROC: 0.7411\n",
      "================================================\n",
      "Learning rate: 0.000125 | Global gradient norm: 133.88\n",
      "Step 2418) Time = 14.295514\n",
      "Train loss = 21517.123 | NLL = 338.063 | KL = 105895.297\n",
      "Validation loss = 21502.221 | NLL = 324.429 | KL = 105888.953\n",
      "MSE miss: 0.5741 | AUROC: 0.7397\n",
      "================================================\n",
      "Learning rate: 0.000125 | Global gradient norm: 103.17\n",
      "Step 2480) Time = 14.692725\n",
      "Train loss = 21521.375 | NLL = 342.874 | KL = 105892.508\n",
      "Validation loss = 21509.994 | NLL = 332.793 | KL = 105886.000\n",
      "MSE miss: 0.5741 | AUROC: 0.7389\n"
     ]
    }
   ],
   "source": [
    "with summary_writer.as_default(), tf.compat.v2.summary.record_if(True):\n",
    "    for i, (x_seq, m_seq) in enumerate(tf_x_train_miss.take(num_steps)):\n",
    "        try:\n",
    "            with tf.GradientTape() as tape:\n",
    "                tape.watch(trainable_vars)\n",
    "                loss = model.compute_loss(x_seq, m_mask=m_seq)\n",
    "                losses_train.append(loss.numpy())\n",
    "            grads = tape.gradient(loss, trainable_vars)\n",
    "            grads = [np.nan_to_num(grad) for grad in grads]\n",
    "            grads, global_norm = tf.clip_by_global_norm(grads, gradient_clip)\n",
    "            optimizer.apply_gradients(zip(grads, trainable_vars),\n",
    "                                      global_step=tf.compat.v1.train.get_or_create_global_step())\n",
    "\n",
    "            # Print intermediate results\n",
    "            if i % print_interval == 0:\n",
    "                print(\"================================================\")\n",
    "                print(\"Learning rate: {} | Global gradient norm: {:.2f}\".format(optimizer._lr, global_norm))\n",
    "                print(\"Step {}) Time = {:2f}\".format(i, time.time() - t0))\n",
    "                loss, nll, kl = model.compute_loss(x_seq, m_mask=m_seq, return_parts=True)\n",
    "                print(\"Train loss = {:.3f} | NLL = {:.3f} | KL = {:.3f}\".format(loss, nll, kl))\n",
    "\n",
    "                saver.save(checkpoint_prefix)\n",
    "                tf.compat.v2.summary.scalar(name=\"loss_train\", data=loss, step=tf.compat.v1.train.get_or_create_global_step())\n",
    "                tf.compat.v2.summary.scalar(name=\"kl_train\", data=kl, step=tf.compat.v1.train.get_or_create_global_step())\n",
    "                tf.compat.v2.summary.scalar(name=\"nll_train\", data=nll, step=tf.compat.v1.train.get_or_create_global_step())\n",
    "\n",
    "                # Validation loss\n",
    "                x_val_batch, m_val_batch = tf_x_val_miss.get_next()\n",
    "                val_loss, val_nll, val_kl = model.compute_loss(x_val_batch, m_mask=m_val_batch, return_parts=True)\n",
    "                losses_val.append(val_loss.numpy())\n",
    "                print(\"Validation loss = {:.3f} | NLL = {:.3f} | KL = {:.3f}\".format(val_loss, val_nll, val_kl))\n",
    "\n",
    "                tf.compat.v2.summary.scalar(name=\"loss_val\", data=val_loss, step=tf.compat.v1.train.get_or_create_global_step())\n",
    "                tf.compat.v2.summary.scalar(name=\"kl_val\", data=val_kl, step=tf.compat.v1.train.get_or_create_global_step())\n",
    "                tf.compat.v2.summary.scalar(name=\"nll_val\", data=val_nll, step=tf.compat.v1.train.get_or_create_global_step())\n",
    "\n",
    "                if data_type in [\"hmnist\", \"sprites\"]:\n",
    "                    # Draw reconstructed images\n",
    "                    x_hat = model.decode(model.encode(x_seq).sample()).mean()\n",
    "                    tf.compat.v2.summary.image(name=\"input_train\", data=tf.reshape(x_seq, [-1]+list(img_shape)), step=tf.compat.v1.train.get_or_create_global_step())\n",
    "                    tf.compat.v2.summary.image(name=\"reconstruction_train\", data=tf.reshape(x_hat, [-1]+list(img_shape)), step=tf.compat.v1.train.get_or_create_global_step())\n",
    "                elif data_type == 'physionet':\n",
    "                    # Eval MSE and AUROC on entire val set\n",
    "                    x_val_miss_batches = np.array_split(x_val_miss, batch_size, axis=0)\n",
    "                    x_val_full_batches = np.array_split(x_val_full, batch_size, axis=0)\n",
    "                    m_val_artificial_batches = np.array_split(m_val_artificial, batch_size, axis=0)\n",
    "                    get_val_batches = lambda: zip(x_val_miss_batches, x_val_full_batches, m_val_artificial_batches)\n",
    "\n",
    "                    n_missings = m_val_artificial.sum()\n",
    "                    mse_miss = np.sum([model.compute_mse(x, y=y, m_mask=m).numpy()\n",
    "                                       for x, y, m in get_val_batches()]) / n_missings\n",
    "\n",
    "                    x_val_imputed = np.vstack([model.decode(model.encode(x_batch).mean()).mean().numpy()\n",
    "                                               for x_batch in x_val_miss_batches])\n",
    "                    x_val_imputed[m_val_miss == 0] = x_val_miss[m_val_miss == 0]  # impute gt observed values\n",
    "\n",
    "                    x_val_imputed = x_val_imputed.reshape([-1, time_length * data_dim])\n",
    "                    val_split = len(x_val_imputed) // 2\n",
    "                    cls_model = LogisticRegression(solver='liblinear', tol=1e-10, max_iter=10000)\n",
    "                    cls_model.fit(x_val_imputed[:val_split], y_val[:val_split])\n",
    "                    probs = cls_model.predict_proba(x_val_imputed[val_split:])[:, 1]\n",
    "                    auroc = roc_auc_score(y_val[val_split:], probs)\n",
    "                    print(\"MSE miss: {:.4f} | AUROC: {:.4f}\".format(mse_miss, auroc))\n",
    "\n",
    "                    # Update learning rate (used only for physionet with decay=0.5)\n",
    "                    if i > 0 and i % (10*print_interval) == 0:\n",
    "                        optimizer._lr = max(0.5 * optimizer._lr, 0.1 * learning_rate)\n",
    "                t0 = time.time()\n",
    "        except KeyboardInterrupt as e:\n",
    "            print(\"KeyboardInterrupt\")\n",
    "            saver.save(checkpoint_prefix)\n",
    "#             if debug:\n",
    "#                 import ipdb\n",
    "#                 ipdb.set_trace()\n",
    "            break"
   ]
  },
  {
   "cell_type": "markdown",
   "id": "48644ef0-6225-460b-a647-7b38d3bb25cd",
   "metadata": {
    "papermill": {
     "duration": 0.066757,
     "end_time": "2021-07-10T19:24:37.832252",
     "exception": false,
     "start_time": "2021-07-10T19:24:37.765495",
     "status": "completed"
    },
    "tags": []
   },
   "source": [
    "#### 2.3.1.10 Evaluation"
   ]
  },
  {
   "cell_type": "code",
   "execution_count": 29,
   "id": "ce62df31-d76c-44e4-bf2d-a4f4f26aed79",
   "metadata": {
    "execution": {
     "iopub.execute_input": "2021-07-10T19:24:37.970809Z",
     "iopub.status.busy": "2021-07-10T19:24:37.970100Z",
     "iopub.status.idle": "2021-07-10T19:24:37.973819Z",
     "shell.execute_reply": "2021-07-10T19:24:37.973344Z"
    },
    "papermill": {
     "duration": 0.074863,
     "end_time": "2021-07-10T19:24:37.973926",
     "exception": false,
     "start_time": "2021-07-10T19:24:37.899063",
     "status": "completed"
    },
    "tags": []
   },
   "outputs": [],
   "source": [
    "# Split data on batches\n",
    "x_val_miss_batches = np.array_split(x_val_miss, batch_size, axis=0)\n",
    "x_val_full_batches = np.array_split(x_val_full, batch_size, axis=0)"
   ]
  },
  {
   "cell_type": "code",
   "execution_count": 30,
   "id": "3379f344-b3f7-4fc6-8536-5484d23563fa",
   "metadata": {
    "execution": {
     "iopub.execute_input": "2021-07-10T19:24:38.112701Z",
     "iopub.status.busy": "2021-07-10T19:24:38.112183Z",
     "iopub.status.idle": "2021-07-10T19:24:38.116188Z",
     "shell.execute_reply": "2021-07-10T19:24:38.115694Z"
    },
    "papermill": {
     "duration": 0.074825,
     "end_time": "2021-07-10T19:24:38.116290",
     "exception": false,
     "start_time": "2021-07-10T19:24:38.041465",
     "status": "completed"
    },
    "tags": []
   },
   "outputs": [],
   "source": [
    "if data_type == 'physionet':\n",
    "    m_val_batches = np.array_split(m_val_artificial, batch_size, axis=0)\n",
    "else:\n",
    "    m_val_batches = np.array_split(m_val_miss, batch_size, axis=0)"
   ]
  },
  {
   "cell_type": "code",
   "execution_count": 31,
   "id": "efc63881-a92f-47ca-b4c8-1fe08d3fb087",
   "metadata": {
    "execution": {
     "iopub.execute_input": "2021-07-10T19:24:38.254850Z",
     "iopub.status.busy": "2021-07-10T19:24:38.253639Z",
     "iopub.status.idle": "2021-07-10T19:24:38.255874Z",
     "shell.execute_reply": "2021-07-10T19:24:38.256348Z"
    },
    "papermill": {
     "duration": 0.073223,
     "end_time": "2021-07-10T19:24:38.256479",
     "exception": false,
     "start_time": "2021-07-10T19:24:38.183256",
     "status": "completed"
    },
    "tags": []
   },
   "outputs": [],
   "source": [
    "get_val_batches = lambda: zip(x_val_miss_batches, x_val_full_batches, m_val_batches)"
   ]
  },
  {
   "cell_type": "code",
   "execution_count": 32,
   "id": "1a18eeb4-23a8-438c-bcdb-679568aee753",
   "metadata": {
    "execution": {
     "iopub.execute_input": "2021-07-10T19:24:38.396011Z",
     "iopub.status.busy": "2021-07-10T19:24:38.395213Z",
     "iopub.status.idle": "2021-07-10T19:24:54.347141Z",
     "shell.execute_reply": "2021-07-10T19:24:54.346670Z"
    },
    "papermill": {
     "duration": 16.023699,
     "end_time": "2021-07-10T19:24:54.347273",
     "exception": false,
     "start_time": "2021-07-10T19:24:38.323574",
     "status": "completed"
    },
    "tags": []
   },
   "outputs": [],
   "source": [
    "# Compute NLL and MSE on missing values\n",
    "n_missings = m_val_artificial.sum() if data_type == 'physionet' else m_val_miss.sum()\n",
    "nll_miss = np.sum([model.compute_nll(x, y=y, m_mask=m).numpy()\n",
    "                   for x, y, m in get_val_batches()]) / n_missings\n",
    "mse_miss = np.sum([model.compute_mse(x, y=y, m_mask=m, binary=data_type==\"hmnist\").numpy()\n",
    "                   for x, y, m in get_val_batches()]) / n_missings"
   ]
  },
  {
   "cell_type": "code",
   "execution_count": 33,
   "id": "0ba6e402-53a8-46af-9fa2-330154202097",
   "metadata": {
    "execution": {
     "iopub.execute_input": "2021-07-10T19:24:54.494220Z",
     "iopub.status.busy": "2021-07-10T19:24:54.492269Z",
     "iopub.status.idle": "2021-07-10T19:24:54.507845Z",
     "shell.execute_reply": "2021-07-10T19:24:54.507037Z"
    },
    "papermill": {
     "duration": 0.092712,
     "end_time": "2021-07-10T19:24:54.508012",
     "exception": false,
     "start_time": "2021-07-10T19:24:54.415300",
     "status": "completed"
    },
    "tags": []
   },
   "outputs": [
    {
     "name": "stdout",
     "output_type": "stream",
     "text": [
      "NLL miss: 1.2348\n",
      "MSE miss: 0.5735\n"
     ]
    }
   ],
   "source": [
    "print(\"NLL miss: {:.4f}\".format(nll_miss))\n",
    "print(\"MSE miss: {:.4f}\".format(mse_miss))"
   ]
  },
  {
   "cell_type": "code",
   "execution_count": 34,
   "id": "b2edcfa6-ae35-43ad-b4a7-58656e4c6154",
   "metadata": {
    "execution": {
     "iopub.execute_input": "2021-07-10T19:24:54.747202Z",
     "iopub.status.busy": "2021-07-10T19:24:54.746452Z",
     "iopub.status.idle": "2021-07-10T19:25:03.163653Z",
     "shell.execute_reply": "2021-07-10T19:25:03.163180Z"
    },
    "papermill": {
     "duration": 8.537638,
     "end_time": "2021-07-10T19:25:03.163786",
     "exception": false,
     "start_time": "2021-07-10T19:24:54.626148",
     "status": "completed"
    },
    "tags": []
   },
   "outputs": [],
   "source": [
    "# Save imputed values\n",
    "z_mean = [model.encode(x_batch).mean().numpy() for x_batch in x_val_miss_batches]\n",
    "np.save(os.path.join(outdir, \"z_mean\"), np.vstack(z_mean))\n",
    "x_val_imputed = np.vstack([model.decode(z_batch).mean().numpy() for z_batch in z_mean])\n",
    "x_val_imputed_std = np.vstack([model.decode(z_batch).stddev().numpy() for z_batch in z_mean])\n",
    "np.save(os.path.join(outdir, \"imputed_no_gt\"), x_val_imputed)\n",
    "np.save(os.path.join(outdir, \"x_val_imputed_std\"), x_val_imputed_std)"
   ]
  },
  {
   "cell_type": "code",
   "execution_count": 35,
   "id": "6497142e-6503-4f7b-a1a4-8831732fda85",
   "metadata": {
    "execution": {
     "iopub.execute_input": "2021-07-10T19:25:03.304150Z",
     "iopub.status.busy": "2021-07-10T19:25:03.303312Z",
     "iopub.status.idle": "2021-07-10T19:25:03.365593Z",
     "shell.execute_reply": "2021-07-10T19:25:03.365112Z"
    },
    "papermill": {
     "duration": 0.133635,
     "end_time": "2021-07-10T19:25:03.365727",
     "exception": false,
     "start_time": "2021-07-10T19:25:03.232092",
     "status": "completed"
    },
    "tags": []
   },
   "outputs": [],
   "source": [
    "# impute gt observed values\n",
    "x_val_imputed[m_val_miss == 0] = x_val_miss[m_val_miss == 0]\n",
    "np.save(os.path.join(outdir, \"imputed\"), x_val_imputed)"
   ]
  },
  {
   "cell_type": "code",
   "execution_count": 36,
   "id": "e5bb488e-3081-419a-9b64-1a040414c346",
   "metadata": {
    "execution": {
     "iopub.execute_input": "2021-07-10T19:25:03.512083Z",
     "iopub.status.busy": "2021-07-10T19:25:03.511252Z",
     "iopub.status.idle": "2021-07-10T19:25:09.439807Z",
     "shell.execute_reply": "2021-07-10T19:25:09.440860Z"
    },
    "papermill": {
     "duration": 6.007191,
     "end_time": "2021-07-10T19:25:09.441094",
     "exception": false,
     "start_time": "2021-07-10T19:25:03.433903",
     "status": "completed"
    },
    "tags": []
   },
   "outputs": [
    {
     "name": "stdout",
     "output_type": "stream",
     "text": [
      "AUROC: 0.7388\n",
      "AUPRC: 0.3402\n"
     ]
    }
   ],
   "source": [
    "if data_type == \"hmnist\":\n",
    "    # AUROC evaluation using Logistic Regression\n",
    "    x_val_imputed = np.round(x_val_imputed)\n",
    "    x_val_imputed = x_val_imputed.reshape([-1, time_length * data_dim])\n",
    "\n",
    "    cls_model = LogisticRegression(solver='lbfgs', multi_class='multinomial', tol=1e-10, max_iter=10000)\n",
    "    val_split = len(x_val_imputed) // 2\n",
    "\n",
    "    cls_model.fit(x_val_imputed[:val_split], y_val[:val_split])\n",
    "    probs = cls_model.predict_proba(x_val_imputed[val_split:])\n",
    "\n",
    "    auprc = average_precision_score(np.eye(num_classes)[y_val[val_split:]], probs)\n",
    "    auroc = roc_auc_score(np.eye(num_classes)[y_val[val_split:]], probs)\n",
    "    print(\"AUROC: {:.4f}\".format(auroc))\n",
    "    print(\"AUPRC: {:.4f}\".format(auprc))\n",
    "\n",
    "elif data_type == \"sprites\":\n",
    "    auroc, auprc = 0, 0\n",
    "\n",
    "elif data_type == \"physionet\":\n",
    "    # Uncomment to preserve some z_samples and their reconstructions\n",
    "    # for i in range(5):\n",
    "    #     z_sample = [model.encode(x_batch).sample().numpy() for x_batch in x_val_miss_batches]\n",
    "    #     np.save(os.path.join(outdir, \"z_sample_{}\".format(i)), np.vstack(z_sample))\n",
    "    #     x_val_imputed_sample = np.vstack([model.decode(z_batch).mean().numpy() for z_batch in z_sample])\n",
    "    #     np.save(os.path.join(outdir, \"imputed_sample_{}_no_gt\".format(i)), x_val_imputed_sample)\n",
    "    #     x_val_imputed_sample[m_val_miss == 0] = x_val_miss[m_val_miss == 0]\n",
    "    #     np.save(os.path.join(outdir, \"imputed_sample_{}\".format(i)), x_val_imputed_sample)\n",
    "\n",
    "    # AUROC evaluation using Logistic Regression\n",
    "    x_val_imputed = x_val_imputed.reshape([-1, time_length * data_dim])\n",
    "    val_split = len(x_val_imputed) // 2\n",
    "    cls_model = LogisticRegression(solver='liblinear', tol=1e-10, max_iter=10000)\n",
    "    cls_model.fit(x_val_imputed[:val_split], y_val[:val_split])\n",
    "    probs = cls_model.predict_proba(x_val_imputed[val_split:])[:, 1]\n",
    "    auprc = average_precision_score(y_val[val_split:], probs)\n",
    "    auroc = roc_auc_score(y_val[val_split:], probs)\n",
    "\n",
    "    print(\"AUROC: {:.4f}\".format(auroc))\n",
    "    print(\"AUPRC: {:.4f}\".format(auprc))"
   ]
  },
  {
   "cell_type": "code",
   "execution_count": 37,
   "id": "ebfdbe2a-ee26-406b-91c7-648993115951",
   "metadata": {
    "execution": {
     "iopub.execute_input": "2021-07-10T19:25:09.644992Z",
     "iopub.status.busy": "2021-07-10T19:25:09.644222Z",
     "iopub.status.idle": "2021-07-10T19:25:09.650225Z",
     "shell.execute_reply": "2021-07-10T19:25:09.649837Z"
    },
    "papermill": {
     "duration": 0.08602,
     "end_time": "2021-07-10T19:25:09.650342",
     "exception": false,
     "start_time": "2021-07-10T19:25:09.564322",
     "status": "completed"
    },
    "tags": []
   },
   "outputs": [
    {
     "name": "stdout",
     "output_type": "stream",
     "text": [
      "Training finished.\n"
     ]
    }
   ],
   "source": [
    "# Visualize reconstructions\n",
    "if data_type in [\"hmnist\", \"sprites\"]:\n",
    "    img_index = 0\n",
    "    if data_type == \"hmnist\":\n",
    "        img_shape = (28, 28)\n",
    "        cmap = \"gray\"\n",
    "    elif data_type == \"sprites\":\n",
    "        img_shape = (64, 64, 3)\n",
    "        cmap = None\n",
    "\n",
    "    fig, axes = plt.subplots(nrows=3, ncols=x_val_miss.shape[1], figsize=(2*x_val_miss.shape[1], 6))\n",
    "\n",
    "    x_hat = model.decode(model.encode(x_val_miss[img_index: img_index+1]).mean()).mean().numpy()\n",
    "    seqs = [x_val_miss[img_index:img_index+1], x_hat, x_val_full[img_index:img_index+1]]\n",
    "\n",
    "    for axs, seq in zip(axes, seqs):\n",
    "        for ax, img in zip(axs, seq[0]):\n",
    "            ax.imshow(img.reshape(img_shape), cmap=cmap)\n",
    "            ax.axis('off')\n",
    "\n",
    "    suptitle = model_type + f\" reconstruction, NLL missing = {mse_miss}\"\n",
    "    fig.suptitle(suptitle, size=18)\n",
    "    fig.savefig(os.path.join(outdir, data_type + \"_reconstruction.pdf\"))\n",
    "\n",
    "results_all = [seed, model_type, data_type, kernel, beta, latent_dim,\n",
    "               num_epochs, batch_size, learning_rate, window_size,\n",
    "               kernel_scales, sigma, length_scale,\n",
    "               len(encoder_sizes), encoder_sizes[0] if len(encoder_sizes) > 0 else 0,\n",
    "               len(decoder_sizes), decoder_sizes[0] if len(decoder_sizes) > 0 else 0,\n",
    "               cnn_kernel_size, cnn_sizes,\n",
    "               nll_miss, mse_miss, losses_train[-1], losses_val[-1], auprc, auroc, testing, data_dir]\n",
    "\n",
    "with open(os.path.join(outdir, \"results.tsv\"), \"w\") as outfile:\n",
    "    outfile.write(\"seed\\tmodel\\tdata\\tkernel\\tbeta\\tz_size\\tnum_epochs\"\n",
    "                  \"\\tbatch_size\\tlearning_rate\\twindow_size\\tkernel_scales\\t\"\n",
    "                  \"sigma\\tlength_scale\\tencoder_depth\\tencoder_width\\t\"\n",
    "                  \"decoder_depth\\tdecoder_width\\tcnn_kernel_size\\t\"\n",
    "                  \"cnn_sizes\\tNLL\\tMSE\\tlast_train_loss\\tlast_val_loss\\tAUPRC\\tAUROC\\ttesting\\tdata_dir\\n\")\n",
    "    outfile.write(\"\\t\".join(map(str, results_all)))\n",
    "\n",
    "with open(os.path.join(outdir, \"training_curve.tsv\"), \"w\") as outfile:\n",
    "    outfile.write(\"\\t\".join(map(str, losses_train)))\n",
    "    outfile.write(\"\\n\")\n",
    "    outfile.write(\"\\t\".join(map(str, losses_val)))\n",
    "\n",
    "print(\"Training finished.\")"
   ]
  },
  {
   "cell_type": "markdown",
   "id": "44f48b23-db8b-4c68-83a1-82f9e654654e",
   "metadata": {},
   "source": [
    "#### 2.3.1.10 Visaualising Results"
   ]
  },
  {
   "cell_type": "code",
   "execution_count": 34,
   "id": "4d2cecfd-6808-46ce-a41a-fc42859ba4a8",
   "metadata": {},
   "outputs": [
    {
     "ename": "FileNotFoundError",
     "evalue": "[Errno 2] No such file or directory: 'models/210710_reproduce_physionet/imputed.npy'",
     "output_type": "error",
     "traceback": [
      "\u001b[0;31m------------------------------------------------------------------------\u001b[0m",
      "\u001b[0;31mFileNotFoundError\u001b[0m                      Traceback (most recent call last)",
      "\u001b[0;32m<ipython-input-34-b01984a4d6db>\u001b[0m in \u001b[0;36m<module>\u001b[0;34m\u001b[0m\n\u001b[1;32m      1\u001b[0m \u001b[0mx_val_full\u001b[0m\u001b[0;34m[\u001b[0m\u001b[0mx_val_full\u001b[0m \u001b[0;34m==\u001b[0m \u001b[0;36m0\u001b[0m\u001b[0;34m]\u001b[0m \u001b[0;34m=\u001b[0m \u001b[0;34m'nan'\u001b[0m\u001b[0;34m\u001b[0m\u001b[0;34m\u001b[0m\u001b[0m\n\u001b[0;32m----> 2\u001b[0;31m \u001b[0mimputed\u001b[0m \u001b[0;34m=\u001b[0m \u001b[0mnp\u001b[0m\u001b[0;34m.\u001b[0m\u001b[0mload\u001b[0m\u001b[0;34m(\u001b[0m\u001b[0;34m\"models/210710_reproduce_physionet/imputed.npy\"\u001b[0m\u001b[0;34m)\u001b[0m\u001b[0;34m\u001b[0m\u001b[0;34m\u001b[0m\u001b[0m\n\u001b[0m\u001b[1;32m      3\u001b[0m \u001b[0mx_val_imputed_std\u001b[0m \u001b[0;34m=\u001b[0m \u001b[0mnp\u001b[0m\u001b[0;34m.\u001b[0m\u001b[0mload\u001b[0m\u001b[0;34m(\u001b[0m\u001b[0;34m\"models/210710_reproduce_physionet/x_val_imputed_std.npy\"\u001b[0m\u001b[0;34m)\u001b[0m\u001b[0;34m\u001b[0m\u001b[0;34m\u001b[0m\u001b[0m\n",
      "\u001b[0;32m~/resspect_work/.venvs/newresspect/lib/python3.8/site-packages/numpy/lib/npyio.py\u001b[0m in \u001b[0;36mload\u001b[0;34m(file, mmap_mode, allow_pickle, fix_imports, encoding)\u001b[0m\n\u001b[1;32m    414\u001b[0m             \u001b[0mown_fid\u001b[0m \u001b[0;34m=\u001b[0m \u001b[0;32mFalse\u001b[0m\u001b[0;34m\u001b[0m\u001b[0;34m\u001b[0m\u001b[0m\n\u001b[1;32m    415\u001b[0m         \u001b[0;32melse\u001b[0m\u001b[0;34m:\u001b[0m\u001b[0;34m\u001b[0m\u001b[0;34m\u001b[0m\u001b[0m\n\u001b[0;32m--> 416\u001b[0;31m             \u001b[0mfid\u001b[0m \u001b[0;34m=\u001b[0m \u001b[0mstack\u001b[0m\u001b[0;34m.\u001b[0m\u001b[0menter_context\u001b[0m\u001b[0;34m(\u001b[0m\u001b[0mopen\u001b[0m\u001b[0;34m(\u001b[0m\u001b[0mos_fspath\u001b[0m\u001b[0;34m(\u001b[0m\u001b[0mfile\u001b[0m\u001b[0;34m)\u001b[0m\u001b[0;34m,\u001b[0m \u001b[0;34m\"rb\"\u001b[0m\u001b[0;34m)\u001b[0m\u001b[0;34m)\u001b[0m\u001b[0;34m\u001b[0m\u001b[0;34m\u001b[0m\u001b[0m\n\u001b[0m\u001b[1;32m    417\u001b[0m             \u001b[0mown_fid\u001b[0m \u001b[0;34m=\u001b[0m \u001b[0;32mTrue\u001b[0m\u001b[0;34m\u001b[0m\u001b[0;34m\u001b[0m\u001b[0m\n\u001b[1;32m    418\u001b[0m \u001b[0;34m\u001b[0m\u001b[0m\n",
      "\u001b[0;31mFileNotFoundError\u001b[0m: [Errno 2] No such file or directory: 'models/210710_reproduce_physionet/imputed.npy'"
     ]
    }
   ],
   "source": [
    "x_val_full[x_val_full == 0] = 'nan'\n",
    "imputed = np.load(\"models/210710_reproduce_physionet/imputed.npy\")\n",
    "x_val_imputed_std = np.load(\"models/210710_reproduce_physionet/x_val_imputed_std.npy\")"
   ]
  },
  {
   "cell_type": "markdown",
   "id": "dee960db-ac5b-4c3f-b845-0d3d8af300d3",
   "metadata": {},
   "source": [
    "---\n",
    "\n",
    "TODO\n",
    "\n",
    "---"
   ]
  },
  {
   "cell_type": "markdown",
   "id": "cfd08059-3d05-415b-84a8-b560b973c71b",
   "metadata": {},
   "source": [
    "### Let's now try to apply it to RESSPECT Simulation Data\n",
    "\n",
    "References: \n",
    "1. https://www.kaggle.com/siddharthchaini/gpvae-raw-plasticc?scriptVersionId=66968645\n",
    "2. https://www.kaggle.com/siddharthchaini/visualisation-gpvae-raw-plasticc?scriptVersionId=67006906"
   ]
  }
 ],
 "metadata": {
  "kernelspec": {
   "display_name": "Python 3",
   "language": "python",
   "name": "python3"
  },
  "language_info": {
   "codemirror_mode": {
    "name": "ipython",
    "version": 3
   },
   "file_extension": ".py",
   "mimetype": "text/x-python",
   "name": "python",
   "nbconvert_exporter": "python",
   "pygments_lexer": "ipython3",
   "version": "3.8.5"
  }
 },
 "nbformat": 4,
 "nbformat_minor": 5
}
