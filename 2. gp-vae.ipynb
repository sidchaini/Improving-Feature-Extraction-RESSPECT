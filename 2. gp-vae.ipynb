{
 "cells": [
  {
   "cell_type": "markdown",
   "id": "460bb457-44f4-4eaf-b7a7-62882bb6a266",
   "metadata": {},
   "source": [
    "<div style=\"text-align: right\"> \n",
    "<a href = \"https://nbviewer.jupyter.org/github/siddharthchaini/Improving-Feature-Extraction-RESSPECT/tree/main/\"> \n",
    "    View online on<br>\n",
    "    <img src=\"https://nbviewer.jupyter.org/static/img/nav_logo.svg\"\n",
    "         alt=\"nbviewer link\" style=\"height: 30px;\"/> \n",
    "</a>\n",
    "</div>"
   ]
  },
  {
   "cell_type": "markdown",
   "id": "2d1f3a19-20e0-40a7-97d8-1dbd9b41b45f",
   "metadata": {},
   "source": [
    "# 2. GP-VAE Approach for RESSPECT\n",
    "<a href = http://cosmostatistics-initiative.org/resspect/>\n",
    "<img src=\"https://cosmostatistics-initiative.org/wp-content/uploads/2019/04/coin_desc_3.png\" alt=\"Logo\" style=\"width: 250px;\"/>\n",
    "</a>\n",
    "\n",
    "**Authors**: Siddharth Chaini, Johann Cohen-Tanugi"
   ]
  },
  {
   "cell_type": "markdown",
   "id": "a87cbb6a-2314-4fe2-977c-17c7c7289b2d",
   "metadata": {},
   "source": [
    "This is the se Jupyter notebook (of a total of 2) describing the different feature extraction methods explored by Siddharth and Johann in June & July, 2021.\n",
    "\n",
    "For RESSPECT, a light curve is fit to a function and then the fit parameters are then used in the RESSPECT pipeline as features for training. You can read more about this here: https://arxiv.org/pdf/2010.05941.pdf\n",
    "\n",
    "In this notebook, we will look at a deep learning based approach for feature extraction, GP-VAE."
   ]
  },
  {
   "cell_type": "markdown",
   "id": "ed7ed7cd-8392-4f7a-a70e-18c6b7e9fb18",
   "metadata": {},
   "source": [
    "### 1. GP-VAE?\n",
    "\n",
    "Gaussian-Process Variational Autoencoders (GP-VAE ; [Fortuin et. al. 2020](https://arxiv.org/pdf/1907.04155.pdf)) is an approach originally developed for dimensionality reduction and data imputation. It combines Variational Autoencoders with Gaussian Processes in the following way:\n",
    "\n",
    "- The inference model takes time series data with missing values. It then predicts parameters for a multivariate Gaussian variational distribution.\n",
    "- The Gaussian Process prior utilizes latent representations to capture the temporal correlations in data.\n",
    "- The generative model takes the sample from posterior approximation and reconstructs the original time series with imputed missing values."
   ]
  },
  {
   "cell_type": "code",
   "execution_count": null,
   "id": "b660215c-49a8-4851-8a58-fb4f5c0e8e0f",
   "metadata": {},
   "outputs": [],
   "source": []
  }
 ],
 "metadata": {
  "kernelspec": {
   "display_name": "Python 3",
   "language": "python",
   "name": "python3"
  },
  "language_info": {
   "codemirror_mode": {
    "name": "ipython",
    "version": 3
   },
   "file_extension": ".py",
   "mimetype": "text/x-python",
   "name": "python",
   "nbconvert_exporter": "python",
   "pygments_lexer": "ipython3",
   "version": "3.8.5"
  }
 },
 "nbformat": 4,
 "nbformat_minor": 5
}
